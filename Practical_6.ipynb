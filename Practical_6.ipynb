{
  "cells": [
    {
      "cell_type": "markdown",
      "id": "bd6f6199",
      "metadata": {
        "id": "bd6f6199"
      },
      "source": [
        "# Practical_6: Numpy"
      ]
    },
    {
      "cell_type": "markdown",
      "id": "de325ed6",
      "metadata": {
        "id": "de325ed6"
      },
      "source": [
        "---\n",
        "\n",
        "### Exercise 1:\n",
        "Create a NumPy array of integers from 1 to 10.\n"
      ]
    },
    {
      "cell_type": "code",
      "source": [
        "import numpy as np"
      ],
      "metadata": {
        "id": "4DyPS5tVKk5Q"
      },
      "id": "4DyPS5tVKk5Q",
      "execution_count": 4,
      "outputs": []
    },
    {
      "cell_type": "code",
      "execution_count": 5,
      "id": "9b904697",
      "metadata": {
        "id": "9b904697",
        "outputId": "784c028e-1b22-419a-83a8-0d7956fb22e4",
        "colab": {
          "base_uri": "https://localhost:8080/"
        }
      },
      "outputs": [
        {
          "output_type": "execute_result",
          "data": {
            "text/plain": [
              "array([ 1,  2,  3,  4,  5,  6,  7,  8,  9, 10])"
            ]
          },
          "metadata": {},
          "execution_count": 5
        }
      ],
      "source": [
        "arr = np.arange(1, 11)\n",
        "arr"
      ]
    },
    {
      "cell_type": "markdown",
      "id": "745710c7",
      "metadata": {
        "id": "745710c7"
      },
      "source": [
        "\n",
        "---\n",
        "\n",
        "### Exercise 2:\n",
        "Create a 3x3 NumPy array filled with zeros.\n"
      ]
    },
    {
      "cell_type": "code",
      "execution_count": 10,
      "id": "875235f1",
      "metadata": {
        "id": "875235f1",
        "outputId": "9d0efc26-4d73-4642-969f-2952bb76a715",
        "colab": {
          "base_uri": "https://localhost:8080/"
        }
      },
      "outputs": [
        {
          "output_type": "execute_result",
          "data": {
            "text/plain": [
              "array([[0., 0., 0.],\n",
              "       [0., 0., 0.],\n",
              "       [0., 0., 0.]])"
            ]
          },
          "metadata": {},
          "execution_count": 10
        }
      ],
      "source": [
        "arr_zeroes = np.zeros((3, 3))\n",
        "arr_zeroes"
      ]
    },
    {
      "cell_type": "markdown",
      "id": "a542ea80",
      "metadata": {
        "id": "a542ea80"
      },
      "source": [
        "\n",
        "---\n",
        "\n",
        "### Exercise 3:\n",
        "Create a NumPy array of 10 evenly spaced numbers between 0 and 5.\n"
      ]
    },
    {
      "cell_type": "code",
      "execution_count": 11,
      "id": "97c6ba4a",
      "metadata": {
        "id": "97c6ba4a",
        "outputId": "d7aed2ac-f640-4d0c-f261-85b29d927bb7",
        "colab": {
          "base_uri": "https://localhost:8080/"
        }
      },
      "outputs": [
        {
          "output_type": "execute_result",
          "data": {
            "text/plain": [
              "array([0.        , 0.55555556, 1.11111111, 1.66666667, 2.22222222,\n",
              "       2.77777778, 3.33333333, 3.88888889, 4.44444444, 5.        ])"
            ]
          },
          "metadata": {},
          "execution_count": 11
        }
      ],
      "source": [
        "evenely_spaced= np.linspace(0, 5, 10)\n",
        "evenely_spaced"
      ]
    },
    {
      "cell_type": "markdown",
      "id": "e92d80cc",
      "metadata": {
        "id": "e92d80cc"
      },
      "source": [
        "\n",
        "---\n",
        "\n",
        "### Exercise 4:\n",
        "Create a 5x5 identity matrix using NumPy.\n"
      ]
    },
    {
      "cell_type": "code",
      "execution_count": 12,
      "id": "c5213bd2",
      "metadata": {
        "id": "c5213bd2",
        "outputId": "1e235063-d82c-4ec5-c37c-93342bc7f0ad",
        "colab": {
          "base_uri": "https://localhost:8080/"
        }
      },
      "outputs": [
        {
          "output_type": "execute_result",
          "data": {
            "text/plain": [
              "array([[1., 0., 0., 0., 0.],\n",
              "       [0., 1., 0., 0., 0.],\n",
              "       [0., 0., 1., 0., 0.],\n",
              "       [0., 0., 0., 1., 0.],\n",
              "       [0., 0., 0., 0., 1.]])"
            ]
          },
          "metadata": {},
          "execution_count": 12
        }
      ],
      "source": [
        "identity_matrix = np.eye(5)\n",
        "identity_matrix"
      ]
    },
    {
      "cell_type": "markdown",
      "id": "a16f88e7",
      "metadata": {
        "id": "a16f88e7"
      },
      "source": [
        "\n",
        "---\n",
        "\n",
        "### Exercise 5:\n",
        "Create a 4x4 matrix with random values between 0 and 1.\n"
      ]
    },
    {
      "cell_type": "code",
      "execution_count": 13,
      "id": "2b16922b",
      "metadata": {
        "id": "2b16922b",
        "outputId": "29fea9d4-aef4-4867-db76-e935d60731cc",
        "colab": {
          "base_uri": "https://localhost:8080/"
        }
      },
      "outputs": [
        {
          "output_type": "execute_result",
          "data": {
            "text/plain": [
              "array([[0.1601824 , 0.52100473, 0.23331618, 0.27183607],\n",
              "       [0.0553785 , 0.50489674, 0.55601836, 0.33873435],\n",
              "       [0.3602    , 0.50289794, 0.53800414, 0.50480506],\n",
              "       [0.43810468, 0.05527204, 0.4595939 , 0.68325598]])"
            ]
          },
          "metadata": {},
          "execution_count": 13
        }
      ],
      "source": [
        "random_matrix= np.random.rand(4, 4)\n",
        "random_matrix"
      ]
    },
    {
      "cell_type": "markdown",
      "id": "cc9af8fd",
      "metadata": {
        "id": "cc9af8fd"
      },
      "source": [
        "\n",
        "---\n",
        "\n",
        "### Exercise 6:\n",
        "Find the shape of a NumPy array.\n"
      ]
    },
    {
      "cell_type": "code",
      "execution_count": 14,
      "id": "359864d2",
      "metadata": {
        "id": "359864d2",
        "outputId": "51480b3a-b6c9-4f54-efb8-9b2fa05bd089",
        "colab": {
          "base_uri": "https://localhost:8080/"
        }
      },
      "outputs": [
        {
          "output_type": "execute_result",
          "data": {
            "text/plain": [
              "(4, 4)"
            ]
          },
          "metadata": {},
          "execution_count": 14
        }
      ],
      "source": [
        "shape = random_matrix.shape\n",
        "shape"
      ]
    },
    {
      "cell_type": "markdown",
      "id": "ada0aff6",
      "metadata": {
        "id": "ada0aff6"
      },
      "source": [
        "\n",
        "---\n",
        "\n",
        "### Exercise 7:\n",
        "Reshape a 1D NumPy array of 16 elements into a 4x4 matrix.\n"
      ]
    },
    {
      "cell_type": "code",
      "execution_count": 15,
      "id": "43fcb4b3",
      "metadata": {
        "id": "43fcb4b3",
        "outputId": "bd068c46-ffba-4ec9-97a7-59af78d3c9c0",
        "colab": {
          "base_uri": "https://localhost:8080/"
        }
      },
      "outputs": [
        {
          "output_type": "execute_result",
          "data": {
            "text/plain": [
              "array([[ 0,  1,  2,  3],\n",
              "       [ 4,  5,  6,  7],\n",
              "       [ 8,  9, 10, 11],\n",
              "       [12, 13, 14, 15]])"
            ]
          },
          "metadata": {},
          "execution_count": 15
        }
      ],
      "source": [
        "reshape = np.arange(16).reshape(4, 4)\n",
        "reshape"
      ]
    },
    {
      "cell_type": "markdown",
      "id": "d384142a",
      "metadata": {
        "id": "d384142a"
      },
      "source": [
        "\n",
        "---\n",
        "\n",
        "### Exercise 8:\n",
        "Find the data type of the elements in a NumPy array.\n"
      ]
    },
    {
      "cell_type": "code",
      "execution_count": 16,
      "id": "bf4dca5a",
      "metadata": {
        "id": "bf4dca5a",
        "outputId": "8392990a-fa84-4de7-e7ca-de5cf9940043",
        "colab": {
          "base_uri": "https://localhost:8080/"
        }
      },
      "outputs": [
        {
          "output_type": "execute_result",
          "data": {
            "text/plain": [
              "dtype('float64')"
            ]
          },
          "metadata": {},
          "execution_count": 16
        }
      ],
      "source": [
        "dataype = random_matrix.dtype\n",
        "dataype"
      ]
    },
    {
      "cell_type": "markdown",
      "id": "c295ca54",
      "metadata": {
        "id": "c295ca54"
      },
      "source": [
        "\n",
        "---\n",
        "\n",
        "### Exercise 9:\n",
        "Create a NumPy array of integers from 1 to 100 and find all even numbers in the array.\n"
      ]
    },
    {
      "cell_type": "code",
      "execution_count": 17,
      "id": "28a61c5e",
      "metadata": {
        "id": "28a61c5e",
        "outputId": "0cf46353-837e-4145-d9e9-55ba58a64600",
        "colab": {
          "base_uri": "https://localhost:8080/"
        }
      },
      "outputs": [
        {
          "output_type": "execute_result",
          "data": {
            "text/plain": [
              "array([  2,   4,   6,   8,  10,  12,  14,  16,  18,  20,  22,  24,  26,\n",
              "        28,  30,  32,  34,  36,  38,  40,  42,  44,  46,  48,  50,  52,\n",
              "        54,  56,  58,  60,  62,  64,  66,  68,  70,  72,  74,  76,  78,\n",
              "        80,  82,  84,  86,  88,  90,  92,  94,  96,  98, 100])"
            ]
          },
          "metadata": {},
          "execution_count": 17
        }
      ],
      "source": [
        "even_numbers = np.arange(1, 101)\n",
        "even_nbrs = even_numbers[even_numbers % 2 == 0]\n",
        "even_nbrs"
      ]
    },
    {
      "cell_type": "markdown",
      "id": "72103956",
      "metadata": {
        "id": "72103956"
      },
      "source": [
        "\n",
        "---\n",
        "\n",
        "### Exercise 10:\n",
        "Generate a 6x6 matrix of random integers between 10 and 50.\n"
      ]
    },
    {
      "cell_type": "code",
      "execution_count": 18,
      "id": "ce04300e",
      "metadata": {
        "id": "ce04300e",
        "outputId": "16c89ac6-7063-4fb0-d4ef-82346b8f895a",
        "colab": {
          "base_uri": "https://localhost:8080/"
        }
      },
      "outputs": [
        {
          "output_type": "execute_result",
          "data": {
            "text/plain": [
              "array([[12, 14, 46, 32, 36, 34],\n",
              "       [48, 19, 17, 27, 17, 24],\n",
              "       [38, 35, 29, 42, 13, 14],\n",
              "       [38, 23, 46, 48, 21, 25],\n",
              "       [43, 25, 33, 13, 39, 27],\n",
              "       [29, 28, 22, 47, 25, 10]])"
            ]
          },
          "metadata": {},
          "execution_count": 18
        }
      ],
      "source": [
        "random_int = np.random.randint(10, 51, (6, 6))\n",
        "random_int"
      ]
    },
    {
      "cell_type": "markdown",
      "id": "3dd1a085",
      "metadata": {
        "id": "3dd1a085"
      },
      "source": [
        "\n",
        "---\n",
        "\n",
        "### Exercise 11:\n",
        "Slice a 2D NumPy array to extract a submatrix.\n"
      ]
    },
    {
      "cell_type": "code",
      "execution_count": 20,
      "id": "b8fc90ba",
      "metadata": {
        "id": "b8fc90ba",
        "outputId": "a6b78fab-ebb6-4d51-daf4-b9fe384f9dc1",
        "colab": {
          "base_uri": "https://localhost:8080/"
        }
      },
      "outputs": [
        {
          "output_type": "execute_result",
          "data": {
            "text/plain": [
              "array([[17, 27, 17],\n",
              "       [29, 42, 13],\n",
              "       [46, 48, 21]])"
            ]
          },
          "metadata": {},
          "execution_count": 20
        }
      ],
      "source": [
        "submatrix_extraction = random_int[1:4, 2:5]\n",
        "submatrix_extraction"
      ]
    },
    {
      "cell_type": "markdown",
      "id": "73a4344c",
      "metadata": {
        "id": "73a4344c"
      },
      "source": [
        "\n",
        "---\n",
        "\n",
        "### Exercise 12:\n",
        "Calculate the sum of all elements in a NumPy array.\n"
      ]
    },
    {
      "cell_type": "code",
      "execution_count": 21,
      "id": "3c417ff3",
      "metadata": {
        "id": "3c417ff3",
        "outputId": "f1a515f4-9911-4578-fe1c-3375e511a157",
        "colab": {
          "base_uri": "https://localhost:8080/"
        }
      },
      "outputs": [
        {
          "output_type": "execute_result",
          "data": {
            "text/plain": [
              "np.int64(1039)"
            ]
          },
          "metadata": {},
          "execution_count": 21
        }
      ],
      "source": [
        "array_sum = random_int.sum()\n",
        "array_sum"
      ]
    },
    {
      "cell_type": "markdown",
      "id": "c2346362",
      "metadata": {
        "id": "c2346362"
      },
      "source": [
        "\n",
        "---\n",
        "\n",
        "### Exercise 13:\n",
        "Calculate the mean, median, and standard deviation of a NumPy array.\n"
      ]
    },
    {
      "cell_type": "code",
      "execution_count": 25,
      "id": "95e57182",
      "metadata": {
        "id": "95e57182",
        "outputId": "82c35826-939c-4609-fca7-674ea7c920d5",
        "colab": {
          "base_uri": "https://localhost:8080/"
        }
      },
      "outputs": [
        {
          "output_type": "execute_result",
          "data": {
            "text/plain": [
              "np.float64(1.5957118462605635)"
            ]
          },
          "metadata": {},
          "execution_count": 25
        }
      ],
      "source": [
        "mean_arr = evenely_spaced.mean()\n",
        "median_arr = np.median(evenely_spaced)\n",
        "std_arr = evenely_spaced.std()\n",
        "std_arr"
      ]
    },
    {
      "cell_type": "markdown",
      "id": "67a4fdbd",
      "metadata": {
        "id": "67a4fdbd"
      },
      "source": [
        "\n",
        "---\n",
        "\n",
        "### Exercise 14:\n",
        "Find the maximum and minimum values in a NumPy array.\n"
      ]
    },
    {
      "cell_type": "code",
      "execution_count": 26,
      "id": "7959c765",
      "metadata": {
        "id": "7959c765",
        "outputId": "fdde0e34-d8b9-406d-ef85-77287545126f",
        "colab": {
          "base_uri": "https://localhost:8080/"
        }
      },
      "outputs": [
        {
          "output_type": "stream",
          "name": "stdout",
          "text": [
            "100 2\n"
          ]
        }
      ],
      "source": [
        "max_arr = even_nbrs.max()\n",
        "min_arr = even_nbrs.min()\n",
        "print(max_arr, min_arr)"
      ]
    },
    {
      "cell_type": "markdown",
      "id": "8a705cd1",
      "metadata": {
        "id": "8a705cd1"
      },
      "source": [
        "\n",
        "---\n",
        "\n",
        "### Exercise 15:\n",
        "Create a NumPy array of 20 random integers and find the index of the maximum value.\n"
      ]
    },
    {
      "cell_type": "code",
      "execution_count": 27,
      "id": "c6748d73",
      "metadata": {
        "id": "c6748d73",
        "outputId": "5634e3a6-5590-4630-c1bf-eb1a1966a0d6",
        "colab": {
          "base_uri": "https://localhost:8080/"
        }
      },
      "outputs": [
        {
          "output_type": "execute_result",
          "data": {
            "text/plain": [
              "np.int64(0)"
            ]
          },
          "metadata": {},
          "execution_count": 27
        }
      ],
      "source": [
        "arr_random = np.random.randint(0, 100, 20)\n",
        "max_index = np.argmax(arr_random)\n",
        "max_index"
      ]
    },
    {
      "cell_type": "markdown",
      "id": "467ca6ac",
      "metadata": {
        "id": "467ca6ac"
      },
      "source": [
        "\n",
        "---\n",
        "\n",
        "### Exercise 16:\n",
        "Create a NumPy array and reverse its elements.\n"
      ]
    },
    {
      "cell_type": "code",
      "execution_count": 28,
      "id": "0a178eb6",
      "metadata": {
        "id": "0a178eb6",
        "outputId": "2435d84a-0a49-4d02-985a-46988acee9ef",
        "colab": {
          "base_uri": "https://localhost:8080/"
        }
      },
      "outputs": [
        {
          "output_type": "execute_result",
          "data": {
            "text/plain": [
              "array([9, 8, 7, 6, 5, 4, 3, 2, 1, 0])"
            ]
          },
          "metadata": {},
          "execution_count": 28
        }
      ],
      "source": [
        "arr_reverse = np.arange(10)[::-1]\n",
        "arr_reverse"
      ]
    },
    {
      "cell_type": "markdown",
      "id": "b7d8ec92",
      "metadata": {
        "id": "b7d8ec92"
      },
      "source": [
        "\n",
        "---\n",
        "\n",
        "### Exercise 17:\n",
        "Create a 3x3 matrix and multiply it element-wise by another 3x3 matrix.\n"
      ]
    },
    {
      "cell_type": "code",
      "execution_count": 30,
      "id": "847ddc05",
      "metadata": {
        "id": "847ddc05",
        "outputId": "420b4593-89c7-4584-9394-2bae64db4766",
        "colab": {
          "base_uri": "https://localhost:8080/"
        }
      },
      "outputs": [
        {
          "output_type": "execute_result",
          "data": {
            "text/plain": [
              "array([[ 4, 77, 39],\n",
              "       [18, 44, 25],\n",
              "       [42, 14,  4]])"
            ]
          },
          "metadata": {},
          "execution_count": 30
        }
      ],
      "source": [
        "element_arr = np.random.randint(0, 15, (3, 3))\n",
        "element_arr1= np.random.randint(0, 15, (3, 3))\n",
        "wise_product = element_arr * element_arr1\n",
        "wise_product"
      ]
    },
    {
      "cell_type": "markdown",
      "id": "58512446",
      "metadata": {
        "id": "58512446"
      },
      "source": [
        "\n",
        "---\n",
        "\n",
        "### Exercise 18:\n",
        "Create a diagonal matrix from a given 1D array.\n"
      ]
    },
    {
      "cell_type": "code",
      "execution_count": 31,
      "id": "bd7e9321",
      "metadata": {
        "id": "bd7e9321",
        "outputId": "460b162b-371e-4c6e-a1b3-c376c9d2cb4c",
        "colab": {
          "base_uri": "https://localhost:8080/"
        }
      },
      "outputs": [
        {
          "output_type": "execute_result",
          "data": {
            "text/plain": [
              "array([[1, 0, 0],\n",
              "       [0, 2, 0],\n",
              "       [0, 0, 3]])"
            ]
          },
          "metadata": {},
          "execution_count": 31
        }
      ],
      "source": [
        "diagonal_arr = np.array([1, 2, 3])\n",
        "diagonal_arr = np.diag(diagonal_arr)\n",
        "diagonal_arr"
      ]
    },
    {
      "cell_type": "markdown",
      "id": "10be19e0",
      "metadata": {
        "id": "10be19e0"
      },
      "source": [
        "\n",
        "---\n",
        "\n",
        "### Exercise 19:\n",
        "Perform matrix multiplication on two 2D NumPy arrays.\n"
      ]
    },
    {
      "cell_type": "code",
      "execution_count": 32,
      "id": "c287973c",
      "metadata": {
        "id": "c287973c",
        "outputId": "e53887f4-36fd-4627-98a7-b2eac3550986",
        "colab": {
          "base_uri": "https://localhost:8080/"
        }
      },
      "outputs": [
        {
          "output_type": "execute_result",
          "data": {
            "text/plain": [
              "array([[19, 22],\n",
              "       [43, 50]])"
            ]
          },
          "metadata": {},
          "execution_count": 32
        }
      ],
      "source": [
        "arr_mult1 = np.array([[1, 2], [3, 4]])\n",
        "arr_mult2= np.array([[5, 6], [7, 8]])\n",
        "dot_mult = np.dot(arr_mult1, arr_mult2)\n",
        "dot_mult"
      ]
    },
    {
      "cell_type": "markdown",
      "id": "932aa100",
      "metadata": {
        "id": "932aa100"
      },
      "source": [
        "\n",
        "---\n",
        "\n",
        "### Exercise 20:\n",
        "Flatten a 2D NumPy array into a 1D array.\n"
      ]
    },
    {
      "cell_type": "code",
      "execution_count": 33,
      "id": "0b2a7505",
      "metadata": {
        "id": "0b2a7505",
        "outputId": "8ac39eea-897e-4447-d877-9e3ca5441dc8",
        "colab": {
          "base_uri": "https://localhost:8080/"
        }
      },
      "outputs": [
        {
          "output_type": "execute_result",
          "data": {
            "text/plain": [
              "array([1, 2, 3, 4])"
            ]
          },
          "metadata": {},
          "execution_count": 33
        }
      ],
      "source": [
        "flatten_arr = arr_mult1.flatten()\n",
        "flatten_arr"
      ]
    },
    {
      "cell_type": "markdown",
      "id": "43e4204e",
      "metadata": {
        "id": "43e4204e"
      },
      "source": [
        "\n",
        "---\n",
        "\n",
        "### Exercise 21:\n",
        "Stack two NumPy arrays vertically.\n"
      ]
    },
    {
      "cell_type": "code",
      "execution_count": 34,
      "id": "2fab6ed6",
      "metadata": {
        "id": "2fab6ed6",
        "outputId": "89276d1e-9652-4673-9cf5-dafe509b87cf",
        "colab": {
          "base_uri": "https://localhost:8080/"
        }
      },
      "outputs": [
        {
          "output_type": "execute_result",
          "data": {
            "text/plain": [
              "array([[1, 2],\n",
              "       [3, 4],\n",
              "       [5, 6]])"
            ]
          },
          "metadata": {},
          "execution_count": 34
        }
      ],
      "source": [
        "vertical_arr1 = np.array([[1, 2], [3, 4]])\n",
        "vertical_arr2 = np.array([[5, 6]])\n",
        "stack_arr = np.vstack((vertical_arr1, vertical_arr2))\n",
        "stack_arr"
      ]
    },
    {
      "cell_type": "markdown",
      "id": "54a62aed",
      "metadata": {
        "id": "54a62aed"
      },
      "source": [
        "\n",
        "---\n",
        "\n",
        "### Exercise 22:\n",
        "Stack two NumPy arrays horizontally.\n"
      ]
    },
    {
      "cell_type": "code",
      "execution_count": 38,
      "id": "38c62fcb",
      "metadata": {
        "id": "38c62fcb",
        "outputId": "7e78d6b3-d75a-424f-cf2b-31adaac32fc0",
        "colab": {
          "base_uri": "https://localhost:8080/"
        }
      },
      "outputs": [
        {
          "output_type": "execute_result",
          "data": {
            "text/plain": [
              "array([[1, 2, 5],\n",
              "       [3, 4, 6]])"
            ]
          },
          "metadata": {},
          "execution_count": 38
        }
      ],
      "source": [
        "horizontally_arr = np.hstack((vertical_arr1, vertical_arr2.T))\n",
        "horizontally_arr"
      ]
    },
    {
      "cell_type": "markdown",
      "id": "348ee442",
      "metadata": {
        "id": "348ee442"
      },
      "source": [
        "\n",
        "---\n",
        "\n",
        "### Exercise 23:\n",
        "Split a NumPy array into multiple sub-arrays.\n"
      ]
    },
    {
      "cell_type": "code",
      "execution_count": 39,
      "id": "bb591997",
      "metadata": {
        "id": "bb591997",
        "outputId": "298279bf-eaaf-4c80-851b-d9de48af0a10",
        "colab": {
          "base_uri": "https://localhost:8080/"
        }
      },
      "outputs": [
        {
          "output_type": "execute_result",
          "data": {
            "text/plain": [
              "[array([0, 1, 2]), array([3, 4, 5]), array([6, 7, 8]), array([ 9, 10, 11])]"
            ]
          },
          "metadata": {},
          "execution_count": 39
        }
      ],
      "source": [
        "sub_array= np.arange(12)\n",
        "split_arr = np.split(sub_array, 4)\n",
        "split_arr"
      ]
    },
    {
      "cell_type": "markdown",
      "id": "b1f38f5f",
      "metadata": {
        "id": "b1f38f5f"
      },
      "source": [
        "\n",
        "---\n",
        "\n",
        "### Exercise 24:\n",
        "Generate a random NumPy array and round each element to two decimal places.\n"
      ]
    },
    {
      "cell_type": "code",
      "execution_count": 40,
      "id": "9627a34c",
      "metadata": {
        "id": "9627a34c",
        "outputId": "998a1b2e-7999-4497-d22c-bbfcb65fea0d",
        "colab": {
          "base_uri": "https://localhost:8080/"
        }
      },
      "outputs": [
        {
          "output_type": "execute_result",
          "data": {
            "text/plain": [
              "array([[0.9 , 0.8 , 0.04, 0.3 , 0.  ],\n",
              "       [0.93, 0.43, 0.56, 0.32, 0.16],\n",
              "       [0.4 , 0.9 , 0.49, 0.3 , 0.26],\n",
              "       [0.83, 0.81, 0.36, 0.69, 0.62],\n",
              "       [0.1 , 0.74, 0.53, 0.73, 0.85]])"
            ]
          },
          "metadata": {},
          "execution_count": 40
        }
      ],
      "source": [
        "round_arr = np.random.rand(5, 5)\n",
        "rounded_arr = np.round(round_arr, 2)\n",
        "rounded_arr"
      ]
    },
    {
      "cell_type": "markdown",
      "id": "33eff49a",
      "metadata": {
        "id": "33eff49a"
      },
      "source": [
        "\n",
        "---\n",
        "\n",
        "### Exercise 25:\n",
        "Find the unique elements of a NumPy array.\n"
      ]
    },
    {
      "cell_type": "code",
      "execution_count": 41,
      "id": "820d6014",
      "metadata": {
        "id": "820d6014",
        "outputId": "21e48a47-35ba-4847-b537-71bb0381bd5b",
        "colab": {
          "base_uri": "https://localhost:8080/"
        }
      },
      "outputs": [
        {
          "output_type": "execute_result",
          "data": {
            "text/plain": [
              "array([1, 2, 3, 4])"
            ]
          },
          "metadata": {},
          "execution_count": 41
        }
      ],
      "source": [
        "arr_unique = np.array([1, 2, 3, 2, 1, 4])\n",
        "unique_el= np.unique(arr_unique)\n",
        "unique_el"
      ]
    },
    {
      "cell_type": "markdown",
      "id": "a82dfd26",
      "metadata": {
        "id": "a82dfd26"
      },
      "source": [
        "\n",
        "---\n",
        "\n",
        "### Exercise 26:\n",
        "Replace all elements in a NumPy array that are less than a specific value with that value.\n"
      ]
    },
    {
      "cell_type": "code",
      "execution_count": 42,
      "id": "9317d8ff",
      "metadata": {
        "id": "9317d8ff",
        "outputId": "6e882b75-9afe-44d5-e778-c493f999ae02",
        "colab": {
          "base_uri": "https://localhost:8080/"
        }
      },
      "outputs": [
        {
          "output_type": "execute_result",
          "data": {
            "text/plain": [
              "array([3, 5, 3, 3, 8])"
            ]
          },
          "metadata": {},
          "execution_count": 42
        }
      ],
      "source": [
        "replace_arr = np.array([1, 5, 3, 0, 8])\n",
        "replace_arr[replace_arr < 3] = 3\n",
        "replace_arr"
      ]
    },
    {
      "cell_type": "markdown",
      "id": "0b211e1c",
      "metadata": {
        "id": "0b211e1c"
      },
      "source": [
        "\n",
        "---\n",
        "\n",
        "### Exercise 27:\n",
        "Find the cumulative sum of the elements in a NumPy array.\n"
      ]
    },
    {
      "cell_type": "code",
      "execution_count": 43,
      "id": "d03b7264",
      "metadata": {
        "id": "d03b7264",
        "outputId": "0be6ba76-8d1e-4a60-ee23-048ef71b35a8",
        "colab": {
          "base_uri": "https://localhost:8080/"
        }
      },
      "outputs": [
        {
          "output_type": "execute_result",
          "data": {
            "text/plain": [
              "array([1, 3, 6])"
            ]
          },
          "metadata": {},
          "execution_count": 43
        }
      ],
      "source": [
        "arr_cumul = np.array([1, 2, 3])\n",
        "cumul_sum= np.cumsum(arr_cumul)\n",
        "cumul_sum"
      ]
    },
    {
      "cell_type": "markdown",
      "id": "837642b7",
      "metadata": {
        "id": "837642b7"
      },
      "source": [
        "\n",
        "---\n",
        "\n",
        "### Exercise 28:\n",
        "Create a NumPy array and find the number of non-zero elements in it.\n"
      ]
    },
    {
      "cell_type": "code",
      "execution_count": 45,
      "id": "fa2565c6",
      "metadata": {
        "id": "fa2565c6",
        "outputId": "8d2733a3-75ba-4bb9-9db9-12454f9b3073",
        "colab": {
          "base_uri": "https://localhost:8080/"
        }
      },
      "outputs": [
        {
          "output_type": "execute_result",
          "data": {
            "text/plain": [
              "3"
            ]
          },
          "metadata": {},
          "execution_count": 45
        }
      ],
      "source": [
        "arr_nonzero = np.array([0, 1, 0, 2, 3])\n",
        "nonzeroes = np.count_nonzero(arr_nonzero)\n",
        "nonzeroes"
      ]
    },
    {
      "cell_type": "markdown",
      "id": "7d1f3704",
      "metadata": {
        "id": "7d1f3704"
      },
      "source": [
        "\n",
        "---\n",
        "\n",
        "### Exercise 29:\n",
        "Create a NumPy array of random integers and sort it in ascending order.\n"
      ]
    },
    {
      "cell_type": "code",
      "execution_count": 46,
      "id": "dfa23a6e",
      "metadata": {
        "id": "dfa23a6e",
        "outputId": "30ddd158-e969-4107-8646-ac66c241a138",
        "colab": {
          "base_uri": "https://localhost:8080/"
        }
      },
      "outputs": [
        {
          "output_type": "execute_result",
          "data": {
            "text/plain": [
              "array([11, 39, 65, 69, 72, 73, 74, 76, 90, 94])"
            ]
          },
          "metadata": {},
          "execution_count": 46
        }
      ],
      "source": [
        "sort_arr = np.random.randint(0, 100, 10)\n",
        "sort_arr = np.sort(sort_arr)\n",
        "sort_arr"
      ]
    },
    {
      "cell_type": "markdown",
      "id": "295b7ea8",
      "metadata": {
        "id": "295b7ea8"
      },
      "source": [
        "\n",
        "---\n",
        "\n",
        "### Exercise 30:\n",
        "Find the row-wise and column-wise sum of a 3x3 matrix.\n"
      ]
    },
    {
      "cell_type": "code",
      "execution_count": 47,
      "id": "963df701",
      "metadata": {
        "id": "963df701",
        "outputId": "dc7358a8-1647-47a4-ca50-ea466e6f465f",
        "colab": {
          "base_uri": "https://localhost:8080/"
        }
      },
      "outputs": [
        {
          "output_type": "stream",
          "name": "stdout",
          "text": [
            "[12 24  8] [16 13 15]\n"
          ]
        }
      ],
      "source": [
        "wise_arr= np.random.randint(1, 10, (3, 3))\n",
        "row_sum= wise_arr.sum(axis=1)\n",
        "col_sum = wise_arr.sum(axis=0)\n",
        "print(row_sum, col_sum)"
      ]
    },
    {
      "cell_type": "markdown",
      "id": "158756fa",
      "metadata": {
        "id": "158756fa"
      },
      "source": [
        "\n",
        "---\n",
        "\n",
        "### Exercise 31:\n",
        "Generate a 2D NumPy array with random values and normalize it (scale the values between 0 and 1).\n"
      ]
    },
    {
      "cell_type": "code",
      "execution_count": 48,
      "id": "32ba8b29",
      "metadata": {
        "id": "32ba8b29",
        "outputId": "7d6e5279-c4b6-438c-b8b5-af9a97f62c3c",
        "colab": {
          "base_uri": "https://localhost:8080/"
        }
      },
      "outputs": [
        {
          "output_type": "execute_result",
          "data": {
            "text/plain": [
              "array([[0.        , 0.70026444, 0.54544977],\n",
              "       [0.71747723, 0.96350148, 0.75727254],\n",
              "       [0.83530061, 1.        , 0.49277282]])"
            ]
          },
          "metadata": {},
          "execution_count": 48
        }
      ],
      "source": [
        "arr_normal = np.random.rand(3, 3)\n",
        "normalize= (arr_normal - arr_normal.min()) / (arr_normal.max() - arr_normal.min())\n",
        "normalize"
      ]
    },
    {
      "cell_type": "markdown",
      "id": "d3eeceaa",
      "metadata": {
        "id": "d3eeceaa"
      },
      "source": [
        "\n",
        "---\n",
        "\n",
        "### Exercise 32:\n",
        "Create two NumPy arrays and find the dot product.\n"
      ]
    },
    {
      "cell_type": "code",
      "execution_count": 49,
      "id": "5722e16b",
      "metadata": {
        "id": "5722e16b",
        "outputId": "2e29c9dc-fb44-4515-c2b7-86d97a7628fe",
        "colab": {
          "base_uri": "https://localhost:8080/"
        }
      },
      "outputs": [
        {
          "output_type": "execute_result",
          "data": {
            "text/plain": [
              "np.int64(11)"
            ]
          },
          "metadata": {},
          "execution_count": 49
        }
      ],
      "source": [
        "arr_product1 = np.array([1, 2])\n",
        "arr_product2 = np.array([3, 4])\n",
        "dot_product= np.dot(arr_product1, arr_product2)\n",
        "dot_product"
      ]
    },
    {
      "cell_type": "markdown",
      "id": "5b0c848f",
      "metadata": {
        "id": "5b0c848f"
      },
      "source": [
        "\n",
        "---\n",
        "\n",
        "### Exercise 33:\n",
        "Find the trace of a square NumPy matrix.\n"
      ]
    },
    {
      "cell_type": "code",
      "execution_count": 51,
      "id": "6d6e90c2",
      "metadata": {
        "id": "6d6e90c2",
        "outputId": "8e58bb4e-c04a-4ee8-c1c4-c461e580dda9",
        "colab": {
          "base_uri": "https://localhost:8080/"
        }
      },
      "outputs": [
        {
          "output_type": "execute_result",
          "data": {
            "text/plain": [
              "np.int64(5)"
            ]
          },
          "metadata": {},
          "execution_count": 51
        }
      ],
      "source": [
        "square_matrix = np.array([[1, 2], [3, 4]])\n",
        "trace_matrix = np.trace(square_matrix)\n",
        "trace_matrix"
      ]
    },
    {
      "cell_type": "markdown",
      "id": "74f1f77e",
      "metadata": {
        "id": "74f1f77e"
      },
      "source": [
        "\n",
        "---\n",
        "\n",
        "### Exercise 34:\n",
        "Create a 2D array and swap two rows.\n"
      ]
    },
    {
      "cell_type": "code",
      "execution_count": null,
      "id": "24621129",
      "metadata": {
        "id": "24621129"
      },
      "outputs": [],
      "source": [
        "mat34 = np.array([[1, 2], [3, 4]])\n",
        "mat34[[0, 1]] = mat34[[1, 0]]\n",
        "mat34"
      ]
    },
    {
      "cell_type": "markdown",
      "id": "7875d348",
      "metadata": {
        "id": "7875d348"
      },
      "source": [
        "\n",
        "---\n",
        "\n",
        "### Exercise 35:\n",
        "Create a 1D NumPy array and convert it into a column vector.\n"
      ]
    },
    {
      "cell_type": "code",
      "execution_count": 53,
      "id": "0039acda",
      "metadata": {
        "id": "0039acda",
        "outputId": "dc64ffca-ffdd-47bf-9cdf-a41b3cd6dea2",
        "colab": {
          "base_uri": "https://localhost:8080/"
        }
      },
      "outputs": [
        {
          "output_type": "execute_result",
          "data": {
            "text/plain": [
              "array([[1],\n",
              "       [2],\n",
              "       [3]])"
            ]
          },
          "metadata": {},
          "execution_count": 53
        }
      ],
      "source": [
        "arr_convert = np.array([1, 2, 3])\n",
        "col_vec = arr_convert[:, np.newaxis]\n",
        "col_vec"
      ]
    },
    {
      "cell_type": "markdown",
      "id": "234e605c",
      "metadata": {
        "id": "234e605c"
      },
      "source": [
        "\n",
        "---\n",
        "\n",
        "### Exercise 36:\n",
        "Find the determinant of a 3x3 matrix.\n"
      ]
    },
    {
      "cell_type": "code",
      "execution_count": 54,
      "id": "9798d9c7",
      "metadata": {
        "id": "9798d9c7",
        "outputId": "b7557e81-1a7a-4889-9222-29c557ab81c0",
        "colab": {
          "base_uri": "https://localhost:8080/"
        }
      },
      "outputs": [
        {
          "output_type": "execute_result",
          "data": {
            "text/plain": [
              "np.float64(0.9999999999999964)"
            ]
          },
          "metadata": {},
          "execution_count": 54
        }
      ],
      "source": [
        "determinant_arr = np.array([[1, 2, 3], [0, 1, 4], [5, 6, 0]])\n",
        "determinant_matrix = np.linalg.det(determinant_arr)\n",
        "determinant_matrix"
      ]
    },
    {
      "cell_type": "markdown",
      "id": "6656af00",
      "metadata": {
        "id": "6656af00"
      },
      "source": [
        "\n",
        "---\n",
        "\n",
        "### Exercise 37:\n",
        "Find the eigenvalues and eigenvectors of a 2x2 matrix.\n"
      ]
    },
    {
      "cell_type": "code",
      "execution_count": 55,
      "id": "89d64421",
      "metadata": {
        "id": "89d64421",
        "outputId": "ada52bee-ff9a-4f10-d57e-b3335eaa6984",
        "colab": {
          "base_uri": "https://localhost:8080/"
        }
      },
      "outputs": [
        {
          "output_type": "stream",
          "name": "stdout",
          "text": [
            "[3. 2.] [[0.89442719 0.70710678]\n",
            " [0.4472136  0.70710678]]\n"
          ]
        }
      ],
      "source": [
        "eigen_arr = np.array([[4, -2], [1, 1]])\n",
        "eigvalues, eigvectors = np.linalg.eig(eigen_arr)\n",
        "print(eigvalues, eigvectors)"
      ]
    },
    {
      "cell_type": "markdown",
      "id": "7dc92bbb",
      "metadata": {
        "id": "7dc92bbb"
      },
      "source": [
        "\n",
        "---\n",
        "\n",
        "### Exercise 38:\n",
        "Solve a system of linear equations using NumPy.\n"
      ]
    },
    {
      "cell_type": "code",
      "execution_count": 56,
      "id": "9aad2d7e",
      "metadata": {
        "id": "9aad2d7e",
        "outputId": "0d0a888d-a233-4123-abc6-d54a98c43477",
        "colab": {
          "base_uri": "https://localhost:8080/"
        }
      },
      "outputs": [
        {
          "output_type": "execute_result",
          "data": {
            "text/plain": [
              "array([-1.875,  6.75 ])"
            ]
          },
          "metadata": {},
          "execution_count": 56
        }
      ],
      "source": [
        "#Solve: 10x + 5y = 15, 2x + 5y = 30\n",
        "linear_arr1= np.array([[10, 5], [2, 5]])\n",
        "linear_arr2= np.array([15, 30])\n",
        "sol_arr = np.linalg.solve(linear_arr1, linear_arr2)\n",
        "sol_arr"
      ]
    },
    {
      "cell_type": "markdown",
      "id": "4f146ae7",
      "metadata": {
        "id": "4f146ae7"
      },
      "source": [
        "\n",
        "---\n",
        "\n",
        "### Exercise 39:\n",
        "Add Gaussian noise to a NumPy array.\n"
      ]
    },
    {
      "cell_type": "code",
      "execution_count": 57,
      "id": "1162c82d",
      "metadata": {
        "id": "1162c82d",
        "outputId": "121d49ee-c230-484f-d395-022a3be554c8",
        "colab": {
          "base_uri": "https://localhost:8080/"
        }
      },
      "outputs": [
        {
          "output_type": "execute_result",
          "data": {
            "text/plain": [
              "array([-0.02163246,  0.79650607,  2.27123745])"
            ]
          },
          "metadata": {},
          "execution_count": 57
        }
      ],
      "source": [
        "arr_gaussian = np.array([1, 2, 3])\n",
        "gaussian_matrix = np.random.normal(0, 1, arr_gaussian.shape)\n",
        "noise_gaussian = arr_gaussian + gaussian_matrix\n",
        "noise_gaussian"
      ]
    },
    {
      "cell_type": "markdown",
      "id": "24f6d12f",
      "metadata": {
        "id": "24f6d12f"
      },
      "source": [
        "\n",
        "---\n",
        "\n",
        "### Exercise 40:\n",
        "Create a 4x4 matrix and extract the diagonal elements.\n"
      ]
    },
    {
      "cell_type": "code",
      "execution_count": 58,
      "id": "228d823c",
      "metadata": {
        "id": "228d823c",
        "outputId": "09dc32ae-ebc9-4a2b-c534-9e1a2e49ef9e",
        "colab": {
          "base_uri": "https://localhost:8080/"
        }
      },
      "outputs": [
        {
          "output_type": "execute_result",
          "data": {
            "text/plain": [
              "array([23, 27, 24, 20])"
            ]
          },
          "metadata": {},
          "execution_count": 58
        }
      ],
      "source": [
        "arr_element4 = np.random.randint(20, 30, (4, 4))\n",
        "diagonal_matrix = np.diag(arr_element4)\n",
        "diagonal_matrix"
      ]
    },
    {
      "cell_type": "markdown",
      "id": "6fe4e0e1",
      "metadata": {
        "id": "6fe4e0e1"
      },
      "source": [
        "\n",
        "---\n",
        "\n",
        "### Exercise 41:\n",
        "Generate a NumPy array of 100 random values and clip the values to a range between 10 and 50.\n"
      ]
    },
    {
      "cell_type": "code",
      "execution_count": 59,
      "id": "250c818c",
      "metadata": {
        "id": "250c818c",
        "outputId": "b7896e8f-8e8b-455c-d7d0-2d5b7567beab",
        "colab": {
          "base_uri": "https://localhost:8080/"
        }
      },
      "outputs": [
        {
          "output_type": "execute_result",
          "data": {
            "text/plain": [
              "array([16.36993053, 50.        , 50.        , 35.20248006, 16.92399248,\n",
              "       50.        , 50.        , 18.94839945, 10.        , 10.        ,\n",
              "       50.        , 16.90352793, 45.86379908, 50.        , 50.        ,\n",
              "       50.        , 10.        , 42.18818879, 49.30732719, 47.52729685,\n",
              "       43.55797322, 10.        , 32.29114534, 47.88944659, 26.0377171 ,\n",
              "       50.        , 50.        , 23.0784016 , 50.        , 25.85451177,\n",
              "       21.36133557, 50.        , 50.        , 10.        , 50.        ,\n",
              "       10.        , 50.        , 50.        , 50.        , 14.28550189,\n",
              "       50.        , 45.75851313, 50.        , 50.        , 50.        ,\n",
              "       20.52097392, 50.        , 11.16985861, 27.04809237, 50.        ,\n",
              "       50.        , 47.94048678, 50.        , 50.        , 41.69626743,\n",
              "       28.51905905, 50.        , 50.        , 50.        , 10.        ,\n",
              "       50.        , 34.01623534, 32.40679444, 50.        , 50.        ,\n",
              "       13.078032  , 50.        , 16.14515647, 50.        , 50.        ,\n",
              "       50.        , 50.        , 50.        , 50.        , 50.        ,\n",
              "       50.        , 27.18773813, 50.        , 50.        , 41.02016404,\n",
              "       50.        , 50.        , 10.        , 50.        , 40.10409152,\n",
              "       50.        , 50.        , 36.03417259, 50.        , 50.        ,\n",
              "       50.        , 42.91661748, 46.22670396, 49.02305979, 33.9209191 ,\n",
              "       50.        , 10.        , 50.        , 10.        , 32.48650002])"
            ]
          },
          "metadata": {},
          "execution_count": 59
        }
      ],
      "source": [
        "random_values = np.random.rand(100) * 100\n",
        "clip_matrix = np.clip(random_values, 10, 50)\n",
        "clip_matrix"
      ]
    },
    {
      "cell_type": "markdown",
      "id": "0aa4963a",
      "metadata": {
        "id": "0aa4963a"
      },
      "source": [
        "\n",
        "---\n",
        "\n",
        "### Exercise 42:\n",
        "Create a 2D NumPy array and replace all negative values with zero.\n"
      ]
    },
    {
      "cell_type": "code",
      "execution_count": 61,
      "id": "c33cf5e2",
      "metadata": {
        "id": "c33cf5e2",
        "outputId": "4fab7188-5260-438c-cfe0-05decd914c85",
        "colab": {
          "base_uri": "https://localhost:8080/"
        }
      },
      "outputs": [
        {
          "output_type": "execute_result",
          "data": {
            "text/plain": [
              "array([[0, 2],\n",
              "       [5, 0]])"
            ]
          },
          "metadata": {},
          "execution_count": 61
        }
      ],
      "source": [
        "replace_negatives = np.array([[-3, 2], [5, -5]])\n",
        "replace_negatives[replace_negatives < 0] = 0\n",
        "replace_negatives"
      ]
    },
    {
      "cell_type": "markdown",
      "id": "9902ee70",
      "metadata": {
        "id": "9902ee70"
      },
      "source": [
        "\n",
        "---\n",
        "\n",
        "### Exercise 43:\n",
        "Find the inner and outer products of two NumPy arrays.\n"
      ]
    },
    {
      "cell_type": "code",
      "execution_count": 62,
      "id": "36f488c8",
      "metadata": {
        "id": "36f488c8",
        "outputId": "1cf283a7-589b-4e73-e68f-19d2583c603a",
        "colab": {
          "base_uri": "https://localhost:8080/"
        }
      },
      "outputs": [
        {
          "output_type": "stream",
          "name": "stdout",
          "text": [
            "11 [[3 4]\n",
            " [6 8]]\n"
          ]
        }
      ],
      "source": [
        "arr_product3 = np.array([1, 2])\n",
        "arr_product4 = np.array([3, 4])\n",
        "inner_arr = np.inner(arr_product3, arr_product4)\n",
        "outer_arr = np.outer(arr_product3, arr_product4)\n",
        "print(inner_arr, outer_arr)"
      ]
    },
    {
      "cell_type": "markdown",
      "id": "7dce9fa3",
      "metadata": {
        "id": "7dce9fa3"
      },
      "source": [
        "\n",
        "---\n",
        "\n",
        "### Exercise 44:\n",
        "Calculate the pairwise distances between points in a NumPy array.\n"
      ]
    },
    {
      "cell_type": "code",
      "execution_count": 63,
      "id": "94067655",
      "metadata": {
        "id": "94067655",
        "outputId": "c4e4fc33-54ee-4ea6-c62d-8d050e90402d",
        "colab": {
          "base_uri": "https://localhost:8080/"
        }
      },
      "outputs": [
        {
          "output_type": "execute_result",
          "data": {
            "text/plain": [
              "array([[0.        , 0.36739891, 0.29933529, 0.33632998],\n",
              "       [0.36739891, 0.        , 0.2752355 , 0.27362878],\n",
              "       [0.29933529, 0.2752355 , 0.        , 0.46147561],\n",
              "       [0.33632998, 0.27362878, 0.46147561, 0.        ]])"
            ]
          },
          "metadata": {},
          "execution_count": 63
        }
      ],
      "source": [
        "pair_wise = np.random.rand(4, 2)\n",
        "from scipy.spatial.distance import pdist, squareform\n",
        "distances_arr = squareform(pdist(pair_wise))\n",
        "distances_arr"
      ]
    },
    {
      "cell_type": "markdown",
      "id": "d4b272d3",
      "metadata": {
        "id": "d4b272d3"
      },
      "source": [
        "\n",
        "---\n",
        "\n",
        "### Exercise 45:\n",
        "Create a structured NumPy array with fields for `name`, `age`, and `height`.\n"
      ]
    },
    {
      "cell_type": "code",
      "execution_count": 64,
      "id": "9b18e4f0",
      "metadata": {
        "id": "9b18e4f0",
        "outputId": "ea9e83de-c49d-4be7-c86c-30b212b79fe7",
        "colab": {
          "base_uri": "https://localhost:8080/"
        }
      },
      "outputs": [
        {
          "output_type": "execute_result",
          "data": {
            "text/plain": [
              "array([('John', 35, 1.7), ('Doe', 30, 1.8)],\n",
              "      dtype=[('name', '<U10'), ('age', '<i4'), ('height', '<f4')])"
            ]
          },
          "metadata": {},
          "execution_count": 64
        }
      ],
      "source": [
        "arr_dict = np.array([('John', 35, 1.7), ('Doe', 30, 1.8)],\n",
        "                 dtype=[('name', 'U10'), ('age', 'i4'), ('height', 'f4')])\n",
        "arr_dict"
      ]
    },
    {
      "cell_type": "markdown",
      "id": "577f3e80",
      "metadata": {
        "id": "577f3e80"
      },
      "source": [
        "\n",
        "---\n",
        "\n",
        "### Exercise 46:\n",
        "Create a 5x5 matrix of random integers and count the occurrences of each unique value.\n"
      ]
    },
    {
      "cell_type": "code",
      "execution_count": 65,
      "id": "639b01fd",
      "metadata": {
        "id": "639b01fd",
        "outputId": "1ee66cc1-80cc-4430-ad7e-2a6301e7e13a",
        "colab": {
          "base_uri": "https://localhost:8080/"
        }
      },
      "outputs": [
        {
          "output_type": "execute_result",
          "data": {
            "text/plain": [
              "array([3, 5, 6, 5, 6])"
            ]
          },
          "metadata": {},
          "execution_count": 65
        }
      ],
      "source": [
        "count_unique= np.random.randint(0, 5, (5, 5))\n",
        "unique_values, count_arr = np.unique(count_unique, return_counts=True)\n",
        "count_arr"
      ]
    },
    {
      "cell_type": "markdown",
      "id": "e716555f",
      "metadata": {
        "id": "e716555f"
      },
      "source": [
        "\n",
        "---\n",
        "\n",
        "### Exercise 47:\n",
        "Generate a random 3x3 NumPy array and subtract the mean of each row from the corresponding row.\n"
      ]
    },
    {
      "cell_type": "code",
      "execution_count": 66,
      "id": "03747d27",
      "metadata": {
        "id": "03747d27",
        "outputId": "18a4963e-43cb-4470-9201-93c926666520",
        "colab": {
          "base_uri": "https://localhost:8080/"
        }
      },
      "outputs": [
        {
          "output_type": "execute_result",
          "data": {
            "text/plain": [
              "array([[-0.21739931,  0.21276624,  0.00463308],\n",
              "       [-0.24635462,  0.22641933,  0.01993528],\n",
              "       [ 0.07964359, -0.23931819,  0.1596746 ]])"
            ]
          },
          "metadata": {},
          "execution_count": 66
        }
      ],
      "source": [
        "substract_arr = np.random.rand(3, 3)\n",
        "mean_arr47 = substract_arr.mean(axis=1, keepdims=True)\n",
        "centered_arr = substract_arr - mean_arr47\n",
        "centered_arr"
      ]
    },
    {
      "cell_type": "markdown",
      "id": "89148fb1",
      "metadata": {
        "id": "89148fb1"
      },
      "source": [
        "\n",
        "---\n",
        "\n",
        "### Exercise 48:\n",
        "Create a NumPy array of random integers and check if any of the values are greater than 50.\n"
      ]
    },
    {
      "cell_type": "code",
      "execution_count": null,
      "id": "d329ca63",
      "metadata": {
        "id": "d329ca63"
      },
      "outputs": [],
      "source": [
        "arr48 = np.random.randint(0, 100, 10)\n",
        "any_gt_50 = np.any(arr48 > 50)\n",
        "any_gt_50"
      ]
    },
    {
      "cell_type": "markdown",
      "id": "806622f5",
      "metadata": {
        "id": "806622f5"
      },
      "source": [
        "\n",
        "---\n",
        "\n",
        "### Exercise 49:\n",
        "Calculate the moving average of a 1D NumPy array.\n"
      ]
    },
    {
      "cell_type": "code",
      "execution_count": 67,
      "id": "866232ff",
      "metadata": {
        "id": "866232ff",
        "outputId": "c012822e-e780-4f19-9c0d-79e98b9b0c82",
        "colab": {
          "base_uri": "https://localhost:8080/"
        }
      },
      "outputs": [
        {
          "output_type": "execute_result",
          "data": {
            "text/plain": [
              "array([0.38663402, 0.47623783, 0.51294872, 0.55754582, 0.2563978 ,\n",
              "       0.13369459, 0.35685877, 0.60275262])"
            ]
          },
          "metadata": {},
          "execution_count": 67
        }
      ],
      "source": [
        "arr49 = np.random.rand(10)\n",
        "window = 3\n",
        "moving_avg49 = np.convolve(arr49, np.ones(window)/window, mode='valid')\n",
        "moving_avg49"
      ]
    },
    {
      "cell_type": "markdown",
      "id": "9313446b",
      "metadata": {
        "id": "9313446b"
      },
      "source": [
        "\n",
        "---\n",
        "\n",
        "### Exercise 50:\n",
        "Find the Pearson correlation coefficient between two NumPy arrays.\n"
      ]
    },
    {
      "cell_type": "code",
      "execution_count": 68,
      "id": "09c184ab",
      "metadata": {
        "id": "09c184ab",
        "outputId": "de0d3977-d98b-4a9a-ac30-8593836ba26c",
        "colab": {
          "base_uri": "https://localhost:8080/"
        }
      },
      "outputs": [
        {
          "output_type": "execute_result",
          "data": {
            "text/plain": [
              "np.float64(0.5523889778275566)"
            ]
          },
          "metadata": {},
          "execution_count": 68
        }
      ],
      "source": [
        "x50 = np.random.rand(10)\n",
        "y50 = np.random.rand(10)\n",
        "corr50 = np.corrcoef(x50, y50)[0, 1]\n",
        "corr50"
      ]
    },
    {
      "cell_type": "markdown",
      "id": "8ee11395",
      "metadata": {
        "id": "8ee11395"
      },
      "source": [
        "\n",
        "---\n",
        "\n",
        "### Exercise 51:\n",
        "Convert a NumPy array of radians to degrees.\n"
      ]
    },
    {
      "cell_type": "code",
      "execution_count": 69,
      "id": "34ac5b8c",
      "metadata": {
        "id": "34ac5b8c",
        "outputId": "bf8d6379-7035-4ad9-928d-168de8523a41",
        "colab": {
          "base_uri": "https://localhost:8080/"
        }
      },
      "outputs": [
        {
          "output_type": "execute_result",
          "data": {
            "text/plain": [
              "array([  0.,  90., 180.])"
            ]
          },
          "metadata": {},
          "execution_count": 69
        }
      ],
      "source": [
        "rad51 = np.array([0, np.pi/2, np.pi])\n",
        "deg51 = np.degrees(rad51)\n",
        "deg51"
      ]
    },
    {
      "cell_type": "markdown",
      "id": "f4fd9563",
      "metadata": {
        "id": "f4fd9563"
      },
      "source": [
        "\n",
        "---\n",
        "\n",
        "### Exercise 52:\n",
        "Create a random NumPy array and compute its variance and standard deviation.\n"
      ]
    },
    {
      "cell_type": "code",
      "execution_count": 93,
      "id": "0559791a",
      "metadata": {
        "id": "0559791a",
        "outputId": "92b6fbdd-fb44-4ea0-f046-38ba3c34c379",
        "colab": {
          "base_uri": "https://localhost:8080/"
        }
      },
      "outputs": [
        {
          "output_type": "stream",
          "name": "stdout",
          "text": [
            "0.12822021312317616 0.35807850134178143\n"
          ]
        }
      ],
      "source": [
        "std_var = np.random.rand(10)\n",
        "var_arr = np.var(std_var)\n",
        "std_arr = np.std(std_var)\n",
        "print(var_arr, std_arr)"
      ]
    },
    {
      "cell_type": "markdown",
      "id": "b5bed93d",
      "metadata": {
        "id": "b5bed93d"
      },
      "source": [
        "\n",
        "---\n",
        "\n",
        "### Exercise 53:\n",
        "Create a 2D NumPy array and find the indices of the maximum values along each axis.\n"
      ]
    },
    {
      "cell_type": "code",
      "execution_count": 92,
      "id": "37168529",
      "metadata": {
        "id": "37168529",
        "outputId": "34ba5178-1748-46a9-9cfe-24d75c68ca82",
        "colab": {
          "base_uri": "https://localhost:8080/"
        }
      },
      "outputs": [
        {
          "output_type": "stream",
          "name": "stdout",
          "text": [
            "0 [2 2 2]\n"
          ]
        }
      ],
      "source": [
        "max_values = np.random.rand(3, 3)\n",
        "max_index53 = np.argmax(max_values, axis=1)\n",
        "max_index53_col = np.argmax(max_values, axis=0)\n",
        "print(max_index, max_index53_col)"
      ]
    },
    {
      "cell_type": "markdown",
      "id": "fd672293",
      "metadata": {
        "id": "fd672293"
      },
      "source": [
        "\n",
        "---\n",
        "\n",
        "### Exercise 54:\n",
        "Compute the inverse of a 2x2 NumPy matrix.\n"
      ]
    },
    {
      "cell_type": "code",
      "execution_count": 91,
      "id": "d9eebfee",
      "metadata": {
        "id": "d9eebfee",
        "outputId": "1e6b2409-5bbb-4e83-fb7f-7756e70cddc2",
        "colab": {
          "base_uri": "https://localhost:8080/"
        }
      },
      "outputs": [
        {
          "output_type": "execute_result",
          "data": {
            "text/plain": [
              "array([[ 0.6, -0.7],\n",
              "       [-0.2,  0.4]])"
            ]
          },
          "metadata": {},
          "execution_count": 91
        }
      ],
      "source": [
        "inverse_matrix = np.array([[4, 7], [2, 6]])\n",
        "inverse_matrix1 = np.linalg.inv(inverse_matrix)\n",
        "inverse_matrix1"
      ]
    },
    {
      "cell_type": "markdown",
      "id": "d635d87b",
      "metadata": {
        "id": "d635d87b"
      },
      "source": [
        "\n",
        "---\n",
        "\n",
        "### Exercise 55:\n",
        "Create a NumPy array of 10 random values and standardize it (mean 0, variance 1).\n"
      ]
    },
    {
      "cell_type": "code",
      "execution_count": 90,
      "id": "dc8ffa7d",
      "metadata": {
        "id": "dc8ffa7d",
        "outputId": "759bdd7e-87ae-4fb0-e806-019ef7f1e3ad",
        "colab": {
          "base_uri": "https://localhost:8080/"
        }
      },
      "outputs": [
        {
          "output_type": "execute_result",
          "data": {
            "text/plain": [
              "array([-0.35286621,  1.35078119,  0.54074925, -1.13817567, -0.01523574,\n",
              "       -0.761404  ,  0.02746631, -0.52613488,  2.05339668, -1.17857694])"
            ]
          },
          "metadata": {},
          "execution_count": 90
        }
      ],
      "source": [
        "random_values55 = np.random.rand(10)\n",
        "standardized_arr = (random_values55 - np.mean(random_values55)) / np.std(random_values55)\n",
        "standardized_arr"
      ]
    },
    {
      "cell_type": "markdown",
      "id": "6db1e281",
      "metadata": {
        "id": "6db1e281"
      },
      "source": [
        "\n",
        "---\n",
        "\n",
        "### Exercise 56:\n",
        "Perform element-wise addition and subtraction on two NumPy arrays.\n"
      ]
    },
    {
      "cell_type": "code",
      "execution_count": 89,
      "id": "e8d4d852",
      "metadata": {
        "id": "e8d4d852",
        "outputId": "eb655182-a437-43a5-9191-688edffb012d",
        "colab": {
          "base_uri": "https://localhost:8080/"
        }
      },
      "outputs": [
        {
          "output_type": "stream",
          "name": "stdout",
          "text": [
            "[5 7 9] [-3 -3 -3]\n"
          ]
        }
      ],
      "source": [
        "sub_matrix = np.array([1, 2, 3])\n",
        "sub_matrix2 = np.array([4, 5, 6])\n",
        "added_arr = sub_matrix + sub_matrix2\n",
        "sub_solution = sub_matrix - sub_matrix2\n",
        "print(added_arr, sub_solution)"
      ]
    },
    {
      "cell_type": "markdown",
      "id": "843ba956",
      "metadata": {
        "id": "843ba956"
      },
      "source": [
        "\n",
        "---\n",
        "\n",
        "### Exercise 57:\n",
        "Create a NumPy array of random values and find the maximum element's index.\n"
      ]
    },
    {
      "cell_type": "code",
      "execution_count": 88,
      "id": "e4cbc318",
      "metadata": {
        "id": "e4cbc318",
        "outputId": "fb53efcc-8078-4e1d-baaf-1053cd6e6970",
        "colab": {
          "base_uri": "https://localhost:8080/"
        }
      },
      "outputs": [
        {
          "output_type": "execute_result",
          "data": {
            "text/plain": [
              "np.int64(7)"
            ]
          },
          "metadata": {},
          "execution_count": 88
        }
      ],
      "source": [
        "random_arr57 = np.random.rand(15)\n",
        "max_index57 = np.argmax(random_arr57)\n",
        "max_index57"
      ]
    },
    {
      "cell_type": "markdown",
      "id": "e8356250",
      "metadata": {
        "id": "e8356250"
      },
      "source": [
        "\n",
        "---\n",
        "\n",
        "### Exercise 58:\n",
        "Create a 3x3 NumPy array and rotate it by 90 degrees.\n"
      ]
    },
    {
      "cell_type": "code",
      "execution_count": 87,
      "id": "f80c6616",
      "metadata": {
        "id": "f80c6616",
        "outputId": "2221d373-5d2b-4529-8365-dbf9a1396259",
        "colab": {
          "base_uri": "https://localhost:8080/"
        }
      },
      "outputs": [
        {
          "output_type": "execute_result",
          "data": {
            "text/plain": [
              "array([[2, 5, 8],\n",
              "       [1, 4, 7],\n",
              "       [0, 3, 6]])"
            ]
          },
          "metadata": {},
          "execution_count": 87
        }
      ],
      "source": [
        "rotate_arr = np.arange(9).reshape(3, 3)\n",
        "rotated_arr = np.rot90(rotate_arr)\n",
        "rotated_arr"
      ]
    },
    {
      "cell_type": "markdown",
      "id": "5bdbf96d",
      "metadata": {
        "id": "5bdbf96d"
      },
      "source": [
        "\n",
        "---\n",
        "\n",
        "### Exercise 59:\n",
        "Compute the Frobenius norm of a matrix.\n"
      ]
    },
    {
      "cell_type": "code",
      "execution_count": 86,
      "id": "bb81b41a",
      "metadata": {
        "id": "bb81b41a",
        "outputId": "03e106eb-8a9b-4fdf-a881-1a5079bfed78",
        "colab": {
          "base_uri": "https://localhost:8080/"
        }
      },
      "outputs": [
        {
          "output_type": "execute_result",
          "data": {
            "text/plain": [
              "np.float64(5.477225575051661)"
            ]
          },
          "metadata": {},
          "execution_count": 86
        }
      ],
      "source": [
        "norm_arr = np.array([[1, 2], [3, 4]])\n",
        "frobenius_arr = np.linalg.norm(norm_arr)\n",
        "frobenius_arr"
      ]
    },
    {
      "cell_type": "markdown",
      "id": "9388b0db",
      "metadata": {
        "id": "9388b0db"
      },
      "source": [
        "\n",
        "---\n",
        "\n",
        "### Exercise 60:\n",
        "Create a 3D NumPy array and slice out a subarray.\n"
      ]
    },
    {
      "cell_type": "code",
      "execution_count": 85,
      "id": "f051d3a2",
      "metadata": {
        "id": "f051d3a2",
        "outputId": "993b0675-e5ba-43cf-bb27-8b1be433a6dc",
        "colab": {
          "base_uri": "https://localhost:8080/"
        }
      },
      "outputs": [
        {
          "output_type": "execute_result",
          "data": {
            "text/plain": [
              "array([[[10, 11],\n",
              "        [13, 14],\n",
              "        [16, 17]],\n",
              "\n",
              "       [[19, 20],\n",
              "        [22, 23],\n",
              "        [25, 26]]])"
            ]
          },
          "metadata": {},
          "execution_count": 85
        }
      ],
      "source": [
        "slice_arr = np.arange(27).reshape(3, 3, 3)\n",
        "sub_arr = slice_arr[1:, :, 1:]\n",
        "sub_arr"
      ]
    },
    {
      "cell_type": "markdown",
      "id": "9cb79001",
      "metadata": {
        "id": "9cb79001"
      },
      "source": [
        "\n",
        "---"
      ]
    }
  ],
  "metadata": {
    "kernelspec": {
      "display_name": "Python 3 (ipykernel)",
      "language": "python",
      "name": "python3"
    },
    "language_info": {
      "codemirror_mode": {
        "name": "ipython",
        "version": 3
      },
      "file_extension": ".py",
      "mimetype": "text/x-python",
      "name": "python",
      "nbconvert_exporter": "python",
      "pygments_lexer": "ipython3",
      "version": "3.11.2"
    },
    "colab": {
      "provenance": []
    }
  },
  "nbformat": 4,
  "nbformat_minor": 5
}