{
 "cells": [
  {
   "cell_type": "markdown",
   "id": "426486dd",
   "metadata": {},
   "source": [
    "# Practical_1: Variables and Assignments"
   ]
  },
  {
   "cell_type": "markdown",
   "id": "9fb19f0d",
   "metadata": {},
   "source": [
    "----\n",
    "\n",
    "### Exercise 1:\n",
    "Declare a variable `x` and assign it the value `10`.\n",
    "\n",
    "```python\n",
    "# Exercise 1\n",
    "```\n",
    "\n",
    "---\n",
    "\n",
    "### Exercise 2:\n",
    "Assign the value `True` to a variable called `is_valid`.\n",
    "\n",
    "```python\n",
    "# Exercise 2\n",
    "```\n",
    "\n",
    "---\n",
    "\n",
    "### Exercise 3:\n",
    "Create a string variable `name` with the value \"Python Programming\".\n",
    "\n",
    "```python\n",
    "# Exercise 3\n",
    "```\n",
    "\n",
    "---\n",
    "\n",
    "### Exercise 4:\n",
    "Assign the result of `5 + 3` to a variable `sum_result`.\n",
    "\n",
    "```python\n",
    "# Exercise 4\n",
    "```\n",
    "\n",
    "---\n",
    "\n",
    "### Exercise 5:\n",
    "Assign multiple variables in one line: `a = 5`, `b = 10`, `c = 15`.\n",
    "\n",
    "```python\n",
    "# Exercise 5\n",
    "```\n",
    "\n",
    "---\n",
    "\n",
    "### Exercise 6:\n",
    "Assign the value of one variable `x` to another variable `y`.\n",
    "\n",
    "```python\n",
    "# Exercise 6\n",
    "```\n",
    "\n",
    "---\n",
    "\n",
    "### Exercise 7:\n",
    "Assign a floating-point number `9.8` to a variable `gravity`.\n",
    "\n",
    "```python\n",
    "# Exercise 7\n",
    "```\n",
    "\n",
    "---\n",
    "\n",
    "### Exercise 8:\n",
    "Create a variable `country` and assign it the string value of your favorite country.\n",
    "\n",
    "```python\n",
    "# Exercise 8\n",
    "```\n",
    "\n",
    "---\n",
    "\n",
    "### Exercise 9:\n",
    "Change the value of variable `age` from `25` to `26` in two separate steps.\n",
    "\n",
    "```python\n",
    "# Exercise 9\n",
    "```\n",
    "\n",
    "---\n",
    "\n",
    "### Exercise 10:\n",
    "Use one variable to store the result of subtracting two numbers `20 - 7`.\n",
    "\n",
    "```python\n",
    "# Exercise 10\n",
    "```\n",
    "\n",
    "---\n",
    "\n",
    "### Exercise 11:\n",
    "Assign an integer value and a floating-point value to two different variables.\n",
    "\n",
    "```python\n",
    "# Exercise 11\n",
    "```\n",
    "\n",
    "---\n",
    "\n",
    "### Exercise 12:\n",
    "Assign a boolean value `False` to a variable `is_completed`.\n",
    "\n",
    "```python\n",
    "# Exercise 12\n",
    "```\n",
    "\n",
    "---\n",
    "\n",
    "### Exercise 13:\n",
    "Swap the values of two variables `x` and `y`.\n",
    "\n",
    "```python\n",
    "# Exercise 13\n",
    "```\n",
    "\n",
    "---\n",
    "\n",
    "### Exercise 14:\n",
    "Assign a complex number `3 + 4j` to a variable `complex_num`.\n",
    "\n",
    "```python\n",
    "# Exercise 14\n",
    "```\n",
    "\n",
    "---\n",
    "\n",
    "### Exercise 15:\n",
    "Reassign a variable from an integer to a string.\n",
    "\n",
    "```python\n",
    "# Exercise 15\n",
    "```\n",
    "\n",
    "---\n",
    "\n",
    "### Exercise 16:\n",
    "Create two variables `first_name` and `last_name`, and assign them your first and last names.\n",
    "\n",
    "```python\n",
    "# Exercise 16\n",
    "```\n",
    "\n",
    "---\n",
    "\n",
    "### Exercise 17:\n",
    "Create a variable `temperature` and assign it the value of `35.5`.\n",
    "\n",
    "```python\n",
    "# Exercise 17\n",
    "```\n",
    "\n",
    "---\n",
    "\n",
    "### Exercise 18:\n",
    "Assign the result of the multiplication of two numbers `8 * 6` to a variable `product`.\n",
    "\n",
    "```python\n",
    "# Exercise 18\n",
    "```\n",
    "\n",
    "---\n",
    "\n",
    "### Exercise 19:\n",
    "Assign a sentence of your choice to a variable `sentence`.\n",
    "\n",
    "```python\n",
    "# Exercise 19\n",
    "```\n",
    "\n",
    "---\n",
    "\n",
    "### Exercise 20:\n",
    "Use an assignment to convert a string `'50'` into an integer variable `int_value`.\n",
    "\n",
    "```python\n",
    "# Exercise 20\n",
    "```\n",
    "\n",
    "---\n",
    "\n",
    "### Exercise 21:\n",
    "Assign the result of dividing `144` by `12` to a variable `quotient`.\n",
    "\n",
    "```python\n",
    "# Exercise 21\n",
    "```\n",
    "\n",
    "---\n",
    "\n",
    "### Exercise 22:\n",
    "Assign the remainder of `47 divided by 5` to a variable `remainder`.\n",
    "\n",
    "```python\n",
    "# Exercise 22\n",
    "```\n",
    "\n",
    "---\n",
    "\n",
    "### Exercise 23:\n",
    "Create a variable `is_student` and assign it the value `True`.\n",
    "\n",
    "```python\n",
    "# Exercise 23\n",
    "```\n",
    "\n",
    "---\n",
    "\n",
    "### Exercise 24:\n",
    "Use a variable to store the result of a modulo operation: `45 % 4`.\n",
    "\n",
    "```python\n",
    "# Exercise 24\n",
    "```\n",
    "\n",
    "---\n",
    "\n",
    "### Exercise 25:\n",
    "Create a variable `pi` and assign it the value `3.14159`.\n",
    "\n",
    "```python\n",
    "# Exercise 25\n",
    "```\n",
    "\n",
    "---\n",
    "\n",
    "### Exercise 26:\n",
    "Create two variables `length` and `width`, assign them values, and calculate the area of a rectangle.\n",
    "\n",
    "```python\n",
    "# Exercise 26\n",
    "```\n",
    "\n",
    "---\n",
    "\n",
    "### Exercise 27:\n",
    "Assign a negative number to a variable `negative_value`.\n",
    "\n",
    "```python\n",
    "# Exercise 27\n",
    "```\n",
    "\n",
    "---\n",
    "\n",
    "### Exercise 28:\n",
    "Assign a string containing a special character (e.g., \"Hello, World!\") to a variable `greeting`.\n",
    "\n",
    "```python\n",
    "# Exercise 28\n",
    "```\n",
    "\n",
    "---\n",
    "\n",
    "### Exercise 29:\n",
    "Create a variable `population` and assign it a large integer value (in billions).\n",
    "\n",
    "```python\n",
    "# Exercise 29\n",
    "```\n",
    "\n",
    "---\n",
    "\n",
    "### Exercise 30:\n",
    "Use a variable to store the result of raising `2` to the power of `8`.\n",
    "\n",
    "```python\n",
    "# Exercise 30\n",
    "```\n",
    "\n",
    "---\n",
    "\n",
    "### Exercise 31:\n",
    "Assign a list of your favorite fruits to a variable `fruits`.\n",
    "\n",
    "```python\n",
    "# Exercise 31\n",
    "```\n",
    "\n",
    "---\n",
    "\n",
    "### Exercise 32:\n",
    "Assign a tuple of three numbers to a variable `coordinates`.\n",
    "\n",
    "```python\n",
    "# Exercise 32\n",
    "```\n",
    "\n",
    "---\n",
    "\n",
    "### Exercise 33:\n",
    "Assign a dictionary with keys `name` and `age` to a variable `person`.\n",
    "\n",
    "```python\n",
    "# Exercise 33\n",
    "```\n",
    "\n",
    "---\n",
    "\n",
    "### Exercise 34:\n",
    "Use variables to store the sum of two floating-point numbers.\n",
    "\n",
    "```python\n",
    "# Exercise 34\n",
    "```\n",
    "\n",
    "---\n",
    "\n",
    "### Exercise 35:\n",
    "Create a variable `is_sunny` and assign it the result of a comparison `10 > 5`.\n",
    "\n",
    "```python\n",
    "# Exercise 35\n",
    "```\n",
    "\n",
    "---\n",
    "\n",
    "### Exercise 36:\n",
    "Assign a string and an integer to two different variables, then print both on one line.\n",
    "\n",
    "```python\n",
    "# Exercise 36\n",
    "```\n",
    "\n",
    "---\n",
    "\n",
    "### Exercise 37:\n",
    "Reassign a variable that originally held a number to a boolean value.\n",
    "\n",
    "```python\n",
    "# Exercise 37\n",
    "```\n",
    "\n",
    "---\n",
    "\n",
    "### Exercise 38:\n",
    "Create a variable `is_weekend` and assign it the result of `False`.\n",
    "\n",
    "```python\n",
    "# Exercise 38\n",
    "```\n",
    "\n",
    "---\n",
    "\n",
    "### Exercise 39:\n",
    "Assign a multi-line string to a variable `description`.\n",
    "\n",
    "```python\n",
    "# Exercise 39\n",
    "```\n",
    "\n",
    "---\n",
    "\n",
    "### Exercise 40:\n",
    "Use variables to store the result of the absolute value of `-25`.\n",
    "\n",
    "```python\n",
    "# Exercise 40\n",
    "```\n",
    "\n",
    "---\n",
    "\n",
    "### Exercise 41:\n",
    "Assign the result of a floor division `100 // 6` to a variable `floor_div_result`.\n",
    "\n",
    "```python\n",
    "# Exercise 41\n",
    "```\n",
    "\n",
    "---\n",
    "\n",
    "### Exercise 42:\n",
    "Assign the result of adding a floating-point number to an integer to a variable `mixed_sum`.\n",
    "\n",
    "```python\n",
    "# Exercise 42\n",
    "```\n",
    "\n",
    "---\n",
    "\n",
    "### Exercise 43:\n",
    "Use variables to store a combination of string concatenation.\n",
    "\n",
    "```python\n",
    "# Exercise 43\n",
    "```\n",
    "\n",
    "---\n",
    "\n",
    "### Exercise 44:\n",
    "Assign an empty list to a variable `empty_list`.\n",
    "\n",
    "```python\n",
    "# Exercise 44\n",
    "```\n",
    "\n",
    "---\n",
    "\n",
    "### Exercise 45:\n",
    "Assign a boolean value based on the comparison of two variables `a = 10` and `b = 15`.\n",
    "\n",
    "```python\n",
    "# Exercise 45\n",
    "```\n",
    "\n",
    "---\n",
    "\n",
    "### Exercise 46:\n",
    "Assign a long sentence to a variable and count its characters using `len()`.\n",
    "\n",
    "```python\n",
    "# Exercise 46\n",
    "```\n",
    "\n",
    "---\n",
    "\n",
    "### Exercise 47:\n",
    "Assign a fractional result `7 / 3` to a variable `division_result`.\n",
    "\n",
    "```python\n",
    "# Exercise 47\n",
    "```\n",
    "\n",
    "---\n",
    "\n",
    "### Exercise 48:\n",
    "Create a variable `speed` and assign it the value of 100 kilometers per hour.\n",
    "\n",
    "```python\n",
    "# Exercise 48\n",
    "```\n",
    "\n",
    "---\n",
    "\n",
    "### Exercise 49:\n",
    "Assign a multi-variable equation like `y = 3x + 5` where `x = 4` to a variable `y`.\n",
    "\n",
    "```python\n",
    "# Exercise 49\n",
    "```\n",
    "\n",
    "---\n",
    "\n",
    "### Exercise 50:\n",
    "Use variables to calculate and store the average of three numbers.\n",
    "\n",
    "```python\n",
    "# Exercise 50\n",
    "```\n",
    "\n",
    "****"
   ]
  },
  {
   "cell_type": "markdown",
   "id": "a0fc3e1d-ea23-4f39-8bd9-cea483b677e6",
   "metadata": {},
   "source": [
    "# Exercise 1"
   ]
  },
  {
   "cell_type": "code",
   "execution_count": 1,
   "id": "4d440fbb-2573-40bc-b1b5-7a88b4ed126f",
   "metadata": {},
   "outputs": [],
   "source": [
    "x = 10"
   ]
  },
  {
   "cell_type": "markdown",
   "id": "72eba763-8b5d-403a-bc13-fdc675708118",
   "metadata": {},
   "source": [
    "# Exercise 2\n"
   ]
  },
  {
   "cell_type": "code",
   "execution_count": 2,
   "id": "85bb9dd1-bfd6-442e-8dea-dc6c05f0c554",
   "metadata": {},
   "outputs": [],
   "source": [
    "is_valid = True\n"
   ]
  },
  {
   "cell_type": "markdown",
   "id": "9419892b-726a-4a0e-8244-c223a51d9eef",
   "metadata": {},
   "source": [
    "# Exercise 3"
   ]
  },
  {
   "cell_type": "code",
   "execution_count": 3,
   "id": "b3011377-dbe4-4ff1-8b32-b3f575e4ee90",
   "metadata": {},
   "outputs": [],
   "source": [
    "name = \"Python Programming\""
   ]
  },
  {
   "cell_type": "markdown",
   "id": "85e10759-702a-4bf1-a9f4-5f52673aad3c",
   "metadata": {},
   "source": [
    "# Exercise 4"
   ]
  },
  {
   "cell_type": "code",
   "execution_count": 4,
   "id": "375ba5e1-3849-42ba-b6bd-dfe33f6d349e",
   "metadata": {},
   "outputs": [],
   "source": [
    "sum_result = 5 + 3"
   ]
  },
  {
   "cell_type": "markdown",
   "id": "f505cc8f-97bc-46e9-9bf4-1d566aca7d90",
   "metadata": {},
   "source": [
    "# Exercise 5"
   ]
  },
  {
   "cell_type": "code",
   "execution_count": 6,
   "id": "fb83099f-d3ac-40a9-89d2-ff563fc0c8c1",
   "metadata": {},
   "outputs": [],
   "source": [
    "a, b, c = 5, 10, 15"
   ]
  },
  {
   "cell_type": "markdown",
   "id": "48beca8b-da4a-4c67-aa0e-e480e0239ec6",
   "metadata": {},
   "source": [
    "# Exercise 6"
   ]
  },
  {
   "cell_type": "code",
   "execution_count": 7,
   "id": "c538ea54-b1bd-4db6-8d81-d7431ccf37ad",
   "metadata": {},
   "outputs": [],
   "source": [
    "x = 5\n",
    "y = x"
   ]
  },
  {
   "cell_type": "markdown",
   "id": "f3e9acdd-5265-4e6a-aef9-ddf98c3c76a9",
   "metadata": {},
   "source": [
    "# Exercise 7"
   ]
  },
  {
   "cell_type": "code",
   "execution_count": 8,
   "id": "1b0d2dc0-a454-474a-85c0-945379484ed1",
   "metadata": {},
   "outputs": [],
   "source": [
    "gravity = 9.8"
   ]
  },
  {
   "cell_type": "markdown",
   "id": "8946a2b8-d029-409a-b38e-ff8dd3d03699",
   "metadata": {},
   "source": [
    "# Exercise 8"
   ]
  },
  {
   "cell_type": "code",
   "execution_count": 10,
   "id": "b95326a8-fe9c-49a0-b835-b33fd9f81a53",
   "metadata": {},
   "outputs": [],
   "source": [
    "country = 'Rwanda'"
   ]
  },
  {
   "cell_type": "markdown",
   "id": "68f74846-264d-450a-b310-5ddbf0a9be92",
   "metadata": {},
   "source": [
    "# Exercise 9"
   ]
  },
  {
   "cell_type": "code",
   "execution_count": 13,
   "id": "6ebe8b80-50dd-4f51-8ebc-e807e63f5872",
   "metadata": {},
   "outputs": [],
   "source": [
    "age = 25\n",
    "age = 26"
   ]
  },
  {
   "cell_type": "markdown",
   "id": "4218aae5-8fb3-4b5c-b5ba-68a9864cba94",
   "metadata": {},
   "source": [
    "# Exercise 10"
   ]
  },
  {
   "cell_type": "code",
   "execution_count": 22,
   "id": "b124603a-3e5c-47f4-b9b4-bea2112ada3d",
   "metadata": {},
   "outputs": [],
   "source": [
    "difference = 20 -7\n"
   ]
  },
  {
   "cell_type": "markdown",
   "id": "137fd146-9ef7-4750-8a7b-d41f9e708fc2",
   "metadata": {},
   "source": [
    "# Exercise 11"
   ]
  },
  {
   "cell_type": "code",
   "execution_count": 15,
   "id": "39617a3b-16fd-40d7-ae74-02f11a9b64c4",
   "metadata": {},
   "outputs": [],
   "source": [
    "value1 = 3\n",
    "value2 = 3.15"
   ]
  },
  {
   "cell_type": "markdown",
   "id": "94cd5386-7925-48b4-96d4-16156da78470",
   "metadata": {},
   "source": [
    "# Exercise 12"
   ]
  },
  {
   "cell_type": "code",
   "execution_count": 16,
   "id": "97ed0878-1409-40d3-9244-b715aa8c59ac",
   "metadata": {},
   "outputs": [],
   "source": [
    "is_completed = False"
   ]
  },
  {
   "cell_type": "markdown",
   "id": "30a59cbc-b309-4af9-b56b-d7ab8961f8d8",
   "metadata": {},
   "source": [
    "# Exercise 13"
   ]
  },
  {
   "cell_type": "code",
   "execution_count": 33,
   "id": "6f9e70a8-9f43-4445-bfcf-1f5a91e7340e",
   "metadata": {},
   "outputs": [
    {
     "name": "stdout",
     "output_type": "stream",
     "text": [
      "6 5\n"
     ]
    }
   ],
   "source": [
    "x = 5\n",
    "y = 6\n",
    "x, y = y,x\n",
    "print (x,y)"
   ]
  },
  {
   "cell_type": "markdown",
   "id": "9b7dbee0-97f4-4774-bf09-39eea815b11d",
   "metadata": {},
   "source": [
    "# Exercise 14"
   ]
  },
  {
   "cell_type": "code",
   "execution_count": 20,
   "id": "5300a525-5f27-4098-87dd-0402f10b41d9",
   "metadata": {},
   "outputs": [],
   "source": [
    "complex_num = 3 + 4j"
   ]
  },
  {
   "cell_type": "markdown",
   "id": "2e838898-a176-4fda-bd3b-d14ac5a0ad09",
   "metadata": {},
   "source": [
    "# Exercise 15"
   ]
  },
  {
   "cell_type": "code",
   "execution_count": 27,
   "id": "b5b58c46-67fc-4c5c-a408-670b69aa324b",
   "metadata": {},
   "outputs": [],
   "source": [
    "var = 4\n",
    "var = 'character'"
   ]
  },
  {
   "cell_type": "markdown",
   "id": "8b2fdf63-a13b-41de-b42e-f5bca9cd33a0",
   "metadata": {},
   "source": [
    "# Exercise 16"
   ]
  },
  {
   "cell_type": "code",
   "execution_count": 28,
   "id": "56d8fc6e-6776-41c3-a73e-d3eee5bda772",
   "metadata": {},
   "outputs": [],
   "source": [
    "first_name = \"Noella\"\n",
    "last_name = \"Umwali\""
   ]
  },
  {
   "cell_type": "markdown",
   "id": "01f986c3-ead3-498e-868b-de6432ea984f",
   "metadata": {},
   "source": [
    "# Exercise 17"
   ]
  },
  {
   "cell_type": "code",
   "execution_count": 29,
   "id": "d7a1bb20-1862-4460-8283-4475cbd15cc1",
   "metadata": {},
   "outputs": [],
   "source": [
    "temperature = 35.5"
   ]
  },
  {
   "cell_type": "markdown",
   "id": "e202faa8-d2a1-4a18-9f24-21eee80f159c",
   "metadata": {},
   "source": [
    "# Exercise 18"
   ]
  },
  {
   "cell_type": "code",
   "execution_count": 30,
   "id": "54c90098-e1cc-4b04-bbd8-5d6eca52610f",
   "metadata": {},
   "outputs": [],
   "source": [
    "product = 8 * 6"
   ]
  },
  {
   "cell_type": "markdown",
   "id": "78122b3d-12b6-4983-98ba-8dadb03d0014",
   "metadata": {},
   "source": [
    "# Exercise 19"
   ]
  },
  {
   "cell_type": "code",
   "execution_count": 31,
   "id": "29dedfb2-2ea0-4697-9494-de482211efec",
   "metadata": {},
   "outputs": [],
   "source": [
    "sentence = \"I love coding\""
   ]
  },
  {
   "cell_type": "markdown",
   "id": "ce029319-9675-485c-b88a-6b1c07d7ded0",
   "metadata": {},
   "source": [
    "# Exercise 20"
   ]
  },
  {
   "cell_type": "code",
   "execution_count": 32,
   "id": "097c609d-c002-4c4e-b0aa-34622541e456",
   "metadata": {},
   "outputs": [],
   "source": [
    "int_value = int('50')\n"
   ]
  },
  {
   "cell_type": "markdown",
   "id": "743a2372-a8f7-4065-9cec-1d11e1458627",
   "metadata": {},
   "source": [
    "# Exercise 21"
   ]
  },
  {
   "cell_type": "code",
   "execution_count": 35,
   "id": "f01bd664-3717-4845-a4ad-ce86ad70b311",
   "metadata": {},
   "outputs": [],
   "source": [
    "quotient = 144 / 12\n"
   ]
  },
  {
   "cell_type": "markdown",
   "id": "f21cf522-0f55-4dbb-b9bd-14e7e0f9242d",
   "metadata": {},
   "source": [
    "# Exercise 22"
   ]
  },
  {
   "cell_type": "code",
   "execution_count": 37,
   "id": "8872cad3-427d-4917-bd4e-f6d374f7620e",
   "metadata": {},
   "outputs": [],
   "source": [
    "remainder = 47 % 5\n"
   ]
  },
  {
   "cell_type": "markdown",
   "id": "248aa78a-abe0-4032-b6b4-7e34f355cd22",
   "metadata": {},
   "source": [
    "# Exercise 23"
   ]
  },
  {
   "cell_type": "code",
   "execution_count": 39,
   "id": "7cb6d9ea-677f-4120-b8fc-903bf4b93f88",
   "metadata": {},
   "outputs": [],
   "source": [
    "is_student = True"
   ]
  },
  {
   "cell_type": "markdown",
   "id": "1519eadf-8b98-419a-8d11-f71108e08720",
   "metadata": {},
   "source": [
    "# Exercise 24"
   ]
  },
  {
   "cell_type": "code",
   "execution_count": 42,
   "id": "0ead4361-2e2c-49b3-b7fa-51e992a23f43",
   "metadata": {},
   "outputs": [],
   "source": [
    "modulo = 45 % 4"
   ]
  },
  {
   "cell_type": "markdown",
   "id": "124b383b-7f32-410f-86b5-207207935413",
   "metadata": {},
   "source": [
    "# Exercise 25"
   ]
  },
  {
   "cell_type": "code",
   "execution_count": 46,
   "id": "5a4fa460-59cc-46ee-984e-af400dc4b2b8",
   "metadata": {},
   "outputs": [],
   "source": [
    "pi = 3.14159"
   ]
  },
  {
   "cell_type": "markdown",
   "id": "5b9a3295-ee39-4bb6-ae67-e9fcb5820d38",
   "metadata": {},
   "source": [
    "# Exercise 26"
   ]
  },
  {
   "cell_type": "code",
   "execution_count": 45,
   "id": "980f4c03-0341-479f-97a6-142e49340f4a",
   "metadata": {},
   "outputs": [],
   "source": [
    "length = 5\n",
    "width = 6\n",
    "rectangle_area = length * width\n"
   ]
  },
  {
   "cell_type": "markdown",
   "id": "096a6d0f-875a-4139-8465-691565a6fb1f",
   "metadata": {},
   "source": [
    "# Exercise 27"
   ]
  },
  {
   "cell_type": "code",
   "execution_count": 48,
   "id": "a9b05d94-0401-48ff-906b-e9a29a847b61",
   "metadata": {},
   "outputs": [],
   "source": [
    "negative_value = -23\n"
   ]
  },
  {
   "cell_type": "markdown",
   "id": "ff95437e-7aff-46e4-85c9-91857488db9a",
   "metadata": {},
   "source": [
    "# Exercise 28"
   ]
  },
  {
   "cell_type": "code",
   "execution_count": 57,
   "id": "5ea40f0f-6dc5-4b8f-8f4e-05e744e1bcfc",
   "metadata": {},
   "outputs": [],
   "source": [
    "greeting = '\"Hello, World!\"'\n"
   ]
  },
  {
   "cell_type": "markdown",
   "id": "4ef5b255-6631-4d05-8eb7-a0339b11f2f0",
   "metadata": {},
   "source": [
    "# Exercise 29"
   ]
  },
  {
   "cell_type": "code",
   "execution_count": 52,
   "id": "bfd1569a-eb42-46e3-b4ea-412eecb595e3",
   "metadata": {},
   "outputs": [],
   "source": [
    "population = 5000000000"
   ]
  },
  {
   "cell_type": "markdown",
   "id": "a50fc0d9-5d02-41f0-bdc8-daa17b14d811",
   "metadata": {},
   "source": [
    "# Exercise 30"
   ]
  },
  {
   "cell_type": "code",
   "execution_count": 60,
   "id": "0e9b6382-d5c4-4636-a467-9e552594245d",
   "metadata": {},
   "outputs": [],
   "source": [
    "power = 2**8\n"
   ]
  },
  {
   "cell_type": "markdown",
   "id": "59c35b87-9dbb-485c-9121-a3f5028f8ab4",
   "metadata": {},
   "source": [
    "# Exercise 31"
   ]
  },
  {
   "cell_type": "code",
   "execution_count": 55,
   "id": "0cd7f490-6b33-4a4b-b107-e15663db7c3c",
   "metadata": {},
   "outputs": [],
   "source": [
    "fruits = [\"banana\", \"apple\", \"orange\"]"
   ]
  },
  {
   "cell_type": "markdown",
   "id": "7d403471-f9bd-4556-a3f5-ebb5d1216ee4",
   "metadata": {},
   "source": [
    "# Exercise 32"
   ]
  },
  {
   "cell_type": "code",
   "execution_count": 56,
   "id": "20fff86b-4d73-4157-b8e4-2f24c0418839",
   "metadata": {},
   "outputs": [],
   "source": [
    "coordinates = (10, 20,30)"
   ]
  },
  {
   "cell_type": "markdown",
   "id": "deb79da3-999d-4172-b384-55c0f7005cad",
   "metadata": {},
   "source": [
    "# Exercise 33"
   ]
  },
  {
   "cell_type": "code",
   "execution_count": 64,
   "id": "b500cfec-cc97-4c67-aff6-148b648449d2",
   "metadata": {},
   "outputs": [],
   "source": [
    "person = {\"name\":\"Noella\", \"age\":25}"
   ]
  },
  {
   "cell_type": "markdown",
   "id": "35d265ec-66e1-4481-bc68-fdfc85a77a45",
   "metadata": {},
   "source": [
    "# Exercise 34"
   ]
  },
  {
   "cell_type": "code",
   "execution_count": 66,
   "id": "ae8cc383-a65e-44c9-86aa-2f9c674f2340",
   "metadata": {},
   "outputs": [],
   "source": [
    "float1 = 3.45\n",
    "float2 = 4.35\n",
    "sum = float1 + float2"
   ]
  },
  {
   "cell_type": "markdown",
   "id": "e0adf749-5771-44a5-8e44-6ca8ba38bf9b",
   "metadata": {},
   "source": [
    "# Exercise 35"
   ]
  },
  {
   "cell_type": "markdown",
   "id": "bb250ba7-2e39-4d98-88e3-ab1fd98c2f80",
   "metadata": {},
   "source": [
    "is_sunny = 10 > 5"
   ]
  },
  {
   "cell_type": "markdown",
   "id": "0d92cbbc-f709-4915-8ee5-fc958c637291",
   "metadata": {},
   "source": [
    "# Exercise 36\n"
   ]
  },
  {
   "cell_type": "code",
   "execution_count": 70,
   "id": "31f6c191-dc47-4b61-a3a3-49fb04e0adb7",
   "metadata": {},
   "outputs": [
    {
     "name": "stdout",
     "output_type": "stream",
     "text": [
      "Noella 501\n"
     ]
    }
   ],
   "source": [
    "name = \"Noella\"\n",
    "Id_nbr = 501\n",
    "print(name,Id_nbr)"
   ]
  },
  {
   "cell_type": "markdown",
   "id": "8697d771-ad73-49ca-967d-ce9a63aae072",
   "metadata": {},
   "source": [
    "# Exercise 37"
   ]
  },
  {
   "cell_type": "code",
   "execution_count": 72,
   "id": "4db02c7d-9bd0-43bc-9fee-7005acfe9009",
   "metadata": {},
   "outputs": [],
   "source": [
    "nbr1 = 23\n",
    "nbr1 = True\n"
   ]
  },
  {
   "cell_type": "markdown",
   "id": "1c096f73-3cd1-477b-9576-d6a34019f7da",
   "metadata": {},
   "source": [
    "# Exercise 38"
   ]
  },
  {
   "cell_type": "code",
   "execution_count": 73,
   "id": "89853dfc-0da6-4283-8b8d-09e2e34c0fd9",
   "metadata": {},
   "outputs": [],
   "source": [
    "is_weekend = False"
   ]
  },
  {
   "cell_type": "markdown",
   "id": "fba0e651-4f6c-46b7-887a-5860fe33ec60",
   "metadata": {},
   "source": [
    "# Exercise 39"
   ]
  },
  {
   "cell_type": "code",
   "execution_count": 74,
   "id": "9d0f2396-393b-4e04-acdb-997a0f64b872",
   "metadata": {},
   "outputs": [],
   "source": [
    "description = ''' I hate\n",
    " reading books '''"
   ]
  },
  {
   "cell_type": "markdown",
   "id": "db2a40fb-f805-47ba-ac3f-0e0dbbc3565d",
   "metadata": {},
   "source": [
    "# Exercise 40"
   ]
  },
  {
   "cell_type": "code",
   "execution_count": 76,
   "id": "b802d141-7111-4bd2-8e5e-5982db188275",
   "metadata": {},
   "outputs": [],
   "source": [
    "abs_value = abs(-25)\n"
   ]
  },
  {
   "cell_type": "markdown",
   "id": "5cea5130-457b-4268-a34b-92853cbbf3a6",
   "metadata": {},
   "source": [
    "# Exercise 41"
   ]
  },
  {
   "cell_type": "code",
   "execution_count": 77,
   "id": "ec22fbfe-64ae-4a41-8d23-895606340a30",
   "metadata": {},
   "outputs": [
    {
     "name": "stdout",
     "output_type": "stream",
     "text": [
      "16\n"
     ]
    }
   ],
   "source": [
    "floor_div_result = 100 //6"
   ]
  },
  {
   "cell_type": "markdown",
   "id": "7d24918f-0ef1-4a3c-b789-281845b9943a",
   "metadata": {},
   "source": [
    "# Exercise 42"
   ]
  },
  {
   "cell_type": "code",
   "execution_count": 78,
   "id": "b2d4d336-85a0-4d70-be2c-4c6ad3d674ed",
   "metadata": {},
   "outputs": [],
   "source": [
    "mixed_sum = 34 + 23.345"
   ]
  },
  {
   "cell_type": "markdown",
   "id": "3228cd78-4d55-43c9-a0eb-db3435fa3b3c",
   "metadata": {},
   "source": [
    "# Exercise 43"
   ]
  },
  {
   "cell_type": "code",
   "execution_count": 82,
   "id": "b0d3fdd0-0b24-42b7-a6b1-c64fd6feb496",
   "metadata": {},
   "outputs": [],
   "source": [
    "greeting = \"Hello\"\n",
    "name = \"Alice\"\n",
    "message = greeting +\" \"+ name +\"!\"\n"
   ]
  },
  {
   "cell_type": "markdown",
   "id": "a7749b37-830b-4d30-9132-14f19d6ff814",
   "metadata": {},
   "source": [
    "# Exercise 44"
   ]
  },
  {
   "cell_type": "code",
   "execution_count": 83,
   "id": "2c073a7e-335b-4c06-90f9-73266146497b",
   "metadata": {},
   "outputs": [],
   "source": [
    "empty_list = []"
   ]
  },
  {
   "cell_type": "markdown",
   "id": "4a2bd56c-28d3-4352-ac0e-c2be3cc29ae1",
   "metadata": {},
   "source": [
    "# Exercise 45"
   ]
  },
  {
   "cell_type": "code",
   "execution_count": 88,
   "id": "9f7c486e-522d-4f9a-b1a7-30ed3e2170ca",
   "metadata": {},
   "outputs": [],
   "source": [
    "a = 10\n",
    "b = 15\n",
    "comparison = a > b\n",
    "value = comparison\n"
   ]
  },
  {
   "cell_type": "markdown",
   "id": "3cdd8fcc-9f32-4c37-a89b-f610acae7c24",
   "metadata": {},
   "source": [
    "# Exercise 46"
   ]
  },
  {
   "cell_type": "code",
   "execution_count": 90,
   "id": "e5a97c86-23a0-4792-84a3-c3620a7a3316",
   "metadata": {},
   "outputs": [],
   "source": [
    "sentence = \"This is a long sentence created.\"\n",
    "character_count = len(sentence)"
   ]
  },
  {
   "cell_type": "markdown",
   "id": "22529798-4f16-43cd-9935-7008069fd8bd",
   "metadata": {},
   "source": [
    "# Exercise 47"
   ]
  },
  {
   "cell_type": "code",
   "execution_count": 91,
   "id": "fa39909d-e72a-4431-a677-b2752d93d2d1",
   "metadata": {},
   "outputs": [],
   "source": [
    "division_result = 7/ 3"
   ]
  },
  {
   "cell_type": "markdown",
   "id": "48efb62c-ea30-407f-bfe1-4a74c8caf2ac",
   "metadata": {},
   "source": [
    "# Exercise 48"
   ]
  },
  {
   "cell_type": "code",
   "execution_count": 92,
   "id": "ae57feb2-7adb-4c5a-ad02-71087c0017ed",
   "metadata": {},
   "outputs": [],
   "source": [
    "speed = \"100 kilometers per hour\""
   ]
  },
  {
   "cell_type": "markdown",
   "id": "c0887523-1e75-4736-967c-a99baafaa21b",
   "metadata": {},
   "source": [
    "# Exercise 49"
   ]
  },
  {
   "cell_type": "code",
   "execution_count": 97,
   "id": "04e5d2b0-f23e-4b28-beff-25cab8b15cdb",
   "metadata": {},
   "outputs": [],
   "source": [
    "x = 4\n",
    "y = 3 * x + 5\n"
   ]
  },
  {
   "cell_type": "markdown",
   "id": "61775b59-da39-48ac-a2d2-004debccd8a3",
   "metadata": {},
   "source": [
    "# Exercise 50"
   ]
  },
  {
   "cell_type": "code",
   "execution_count": null,
   "id": "69de7f86-ed25-4703-9b9c-b0f5adb06217",
   "metadata": {},
   "outputs": [],
   "source": [
    "a = 3\n",
    "b = 2\n",
    "c = 3\n",
    "sum = a + b + c\n",
    "avg = sum / 3"
   ]
  }
 ],
 "metadata": {
  "kernelspec": {
   "display_name": "Python 3 (ipykernel)",
   "language": "python",
   "name": "python3"
  },
  "language_info": {
   "codemirror_mode": {
    "name": "ipython",
    "version": 3
   },
   "file_extension": ".py",
   "mimetype": "text/x-python",
   "name": "python",
   "nbconvert_exporter": "python",
   "pygments_lexer": "ipython3",
   "version": "3.12.7"
  }
 },
 "nbformat": 4,
 "nbformat_minor": 5
}
