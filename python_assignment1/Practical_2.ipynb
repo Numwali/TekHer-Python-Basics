{
 "cells": [
  {
   "cell_type": "markdown",
   "id": "d68c1dee",
   "metadata": {},
   "source": [
    "# Practical_2: String and files"
   ]
  },
  {
   "cell_type": "markdown",
   "id": "bea983a3",
   "metadata": {},
   "source": [
    "---\n",
    "\n",
    "### Exercise 1:\n",
    "Create a string variable `text` and assign it the value `\"Python is amazing!\"`.\n",
    "\n",
    "```python\n",
    "# Exercise 1\n",
    "```\n",
    "\n",
    "---\n",
    "\n",
    "### Exercise 2:\n",
    "Find the length of the string `\"Hello, World!\"` and store it in a variable `length`.\n",
    "\n",
    "```python\n",
    "# Exercise 2\n",
    "```\n",
    "\n",
    "---\n",
    "\n",
    "### Exercise 3:\n",
    "Convert the string `\"python programming\"` to uppercase and store it in a variable `upper_text`.\n",
    "\n",
    "```python\n",
    "# Exercise 3\n",
    "```\n",
    "\n",
    "---\n",
    "\n",
    "### Exercise 4:\n",
    "Extract the first 5 characters from the string `\"Artificial Intelligence\"`.\n",
    "\n",
    "```python\n",
    "# Exercise 4\n",
    "```\n",
    "\n",
    "---\n",
    "\n",
    "### Exercise 5:\n",
    "Concatenate the strings `\"Hello\"` and `\"World\"` with a space in between.\n",
    "\n",
    "```python\n",
    "# Exercise 5\n",
    "```\n",
    "\n",
    "---\n",
    "\n",
    "### Exercise 6:\n",
    "Replace the word `\"dog\"` with `\"cat\"` in the string `\"The quick brown dog jumps over the lazy dog.\"`.\n",
    "\n",
    "```python\n",
    "# Exercise 6\n",
    "```\n",
    "\n",
    "---\n",
    "\n",
    "### Exercise 7:\n",
    "Split the string `\"apple,banana,orange\"` by commas and store the result in a list `fruits_list`.\n",
    "\n",
    "```python\n",
    "# Exercise 7\n",
    "```\n",
    "\n",
    "---\n",
    "\n",
    "### Exercise 8:\n",
    "Use string formatting to create the sentence `\"My name is Alice and I am 25 years old.\"`, where the name and age are variables.\n",
    "\n",
    "```python\n",
    "# Exercise 8\n",
    "```\n",
    "\n",
    "---\n",
    "\n",
    "### Exercise 9:\n",
    "Check if the string `\"python\"` is present in the sentence `\"I love python programming\"`.\n",
    "\n",
    "```python\n",
    "# Exercise 9\n",
    "```\n",
    "\n",
    "---\n",
    "\n",
    "### Exercise 10:\n",
    "Count the number of occurrences of the letter `\"e\"` in the string `\"Elephant is an elegant animal\"`.\n",
    "\n",
    "```python\n",
    "# Exercise 10\n",
    "```\n",
    "\n",
    "---\n",
    "\n",
    "### Exercise 11:\n",
    "Remove any leading and trailing spaces from the string `\"   Data Science   \"`.\n",
    "\n",
    "```python\n",
    "# Exercise 11\n",
    "```\n",
    "\n",
    "---\n",
    "\n",
    "### Exercise 12:\n",
    "Convert the string `\"100\"` into an integer and store it in a variable `int_value`.\n",
    "\n",
    "```python\n",
    "# Exercise 12\n",
    "```\n",
    "\n",
    "---\n",
    "\n",
    "### Exercise 13:\n",
    "Extract the substring `\"pro\"` from the string `\"programming\"`.\n",
    "\n",
    "```python\n",
    "# Exercise 13\n",
    "```\n",
    "\n",
    "---\n",
    "\n",
    "### Exercise 14:\n",
    "Check if the string `\"data\"` starts with `\"da\"` and ends with `\"ta\"`.\n",
    "\n",
    "```python\n",
    "# Exercise 14\n",
    "```\n",
    "\n",
    "---\n",
    "\n",
    "### Exercise 15:\n",
    "Reverse the string `\"machine learning\"` and store the result in `reversed_text`.\n",
    "\n",
    "```python\n",
    "# Exercise 15\n",
    "```\n",
    "\n",
    "---\n",
    "\n",
    "### Exercise 16:\n",
    "Convert the first letter of each word in the string `\"machine learning is fun\"` to uppercase.\n",
    "\n",
    "```python\n",
    "# Exercise 16\n",
    "```\n",
    "\n",
    "---\n",
    "\n",
    "### Exercise 17:\n",
    "Create a multiline string representing a poem and store it in a variable `poem`.\n",
    "\n",
    "```python\n",
    "# Exercise 17\n",
    "```\n",
    "\n",
    "---\n",
    "\n",
    "### Exercise 18:\n",
    "Write a string to a file named `\"output.txt\"`.\n",
    "\n",
    "```python\n",
    "# Exercise 18\n",
    "```\n",
    "\n",
    "---\n",
    "\n",
    "### Exercise 19:\n",
    "Read the contents of a file named `\"data.txt\"` and print it line by line.\n",
    "\n",
    "```python\n",
    "# Exercise 19\n",
    "```\n",
    "\n",
    "---\n",
    "\n",
    "### Exercise 20:\n",
    "Check if a file `\"example.txt\"` exists before opening it.\n",
    "\n",
    "```python\n",
    "# Exercise 20\n",
    "```\n",
    "\n",
    "---\n",
    "\n",
    "### Exercise 21:\n",
    "Append a new line `\"This is a new line\"` to an existing file `\"notes.txt\"`.\n",
    "\n",
    "```python\n",
    "# Exercise 21\n",
    "```\n",
    "\n",
    "---\n",
    "\n",
    "### Exercise 22:\n",
    "Read the contents of a file `\"log.txt\"` and store each line in a list `log_lines`.\n",
    "\n",
    "```python\n",
    "# Exercise 22\n",
    "```\n",
    "\n",
    "---\n",
    "\n",
    "### Exercise 23:\n",
    "Create a new file `\"report.txt\"` and write the string `\"Data analysis report\"` to it.\n",
    "\n",
    "```python\n",
    "# Exercise 23\n",
    "```\n",
    "\n",
    "---\n",
    "\n",
    "### Exercise 24:\n",
    "Replace the word `\"error\"` with `\"issue\"` in a file `\"log.txt\"`.\n",
    "\n",
    "```python\n",
    "# Exercise 24\n",
    "```\n",
    "\n",
    "---\n",
    "\n",
    "### Exercise 25:\n",
    "Count the number of words in a text file `\"document.txt\"`.\n",
    "\n",
    "```python\n",
    "# Exercise 25\n",
    "```\n",
    "\n",
    "---\n",
    "\n",
    "### Exercise 26:\n",
    "Write a Python script that reads a file `\"essay.txt\"` and prints the total number of lines, words, and characters.\n",
    "\n",
    "```python\n",
    "# Exercise 26\n",
    "```\n",
    "\n",
    "---\n",
    "\n",
    "### Exercise 27:\n",
    "Copy the contents of one file `\"source.txt\"` to another file `\"destination.txt\"`.\n",
    "\n",
    "```python\n",
    "# Exercise 27\n",
    "```\n",
    "\n",
    "---\n",
    "\n",
    "### Exercise 28:\n",
    "Write a Python function that takes a filename as input and returns the number of lines in the file.\n",
    "\n",
    "```python\n",
    "# Exercise 28\n",
    "```\n",
    "\n",
    "---\n",
    "\n",
    "### Exercise 29:\n",
    "Extract all the words from a text file `\"article.txt\"` that contain more than 5 characters.\n",
    "\n",
    "```python\n",
    "# Exercise 29\n",
    "```\n",
    "\n",
    "---\n",
    "\n",
    "### Exercise 30:\n",
    "Convert the contents of a file `\"notes.txt\"` to uppercase and save the result in another file `\"uppercase_notes.txt\"`.\n",
    "\n",
    "```python\n",
    "# Exercise 30\n",
    "```\n",
    "\n",
    "---\n",
    "\n",
    "### Exercise 31:\n",
    "Write a Python script that reads a file and removes all empty lines.\n",
    "\n",
    "```python\n",
    "# Exercise 31\n",
    "```\n",
    "\n",
    "---\n",
    "\n",
    "### Exercise 32:\n",
    "Open a file `\"config.txt\"` in both read and write mode.\n",
    "\n",
    "```python\n",
    "# Exercise 32\n",
    "```\n",
    "\n",
    "---\n",
    "\n",
    "### Exercise 33:\n",
    "Write a Python function that reads a file and prints the longest line in the file.\n",
    "\n",
    "```python\n",
    "# Exercise 33\n",
    "```\n",
    "\n",
    "---\n",
    "\n",
    "### Exercise 34:\n",
    "Write a Python script to count the frequency of each letter in a text file `\"message.txt\"`.\n",
    "\n",
    "```python\n",
    "# Exercise 34\n",
    "```\n",
    "\n",
    "---\n",
    "\n",
    "### Exercise 35:\n",
    "Write a Python script that reads a file and prints the total number of characters, excluding spaces.\n",
    "\n",
    "```python\n",
    "# Exercise 35\n",
    "```\n",
    "\n",
    "---\n",
    "\n",
    "### Exercise 36:\n",
    "Create a Python script to check whether a file is empty or not.\n",
    "\n",
    "```python\n",
    "# Exercise 36\n",
    "```\n",
    "\n",
    "---\n",
    "\n",
    "### Exercise 37:\n",
    "Write a Python function that reads a file and removes all punctuation marks from the text.\n",
    "\n",
    "```python\n",
    "# Exercise 37\n",
    "```\n",
    "\n",
    "---\n",
    "\n",
    "### Exercise 38:\n",
    "Create a Python function that writes a list of strings to a file, each string on a new line.\n",
    "\n",
    "```python\n",
    "# Exercise 38\n",
    "```\n",
    "\n",
    "---\n",
    "\n",
    "### Exercise 39:\n",
    "Write a Python script to count the number of lines that start with a specific letter (e.g., \"A\") in a text file.\n",
    "\n",
    "```python\n",
    "# Exercise 39\n",
    "```\n",
    "\n",
    "---\n",
    "\n",
    "### Exercise 40:\n",
    "Write a Python function that takes a string as input and writes it to a file `\"output.txt\"` in reverse order.\n",
    "\n",
    "```python\n",
    "# Exercise 40\n",
    "```\n",
    "\n",
    "---\n",
    "\n",
    "### Exercise 41:\n",
    "Write a Python script that reads a file and prints all the lines that contain the word `\"Python\"`.\n",
    "\n",
    "```python\n",
    "# Exercise 41\n",
    "```\n",
    "\n",
    "---\n",
    "\n",
    "### Exercise 42:\n",
    "Write a Python script that opens a file and removes all numeric digits from the file's content.\n",
    "\n",
    "```python\n",
    "# Exercise 42\n",
    "```\n",
    "\n",
    "---\n",
    "\n",
    "### Exercise 43:\n",
    "Write a Python script to find the most frequent word in a text file `\"book.txt\"`.\n",
    "\n",
    "```python\n",
    "# Exercise 43\n",
    "```\n",
    "\n",
    "---\n",
    "\n",
    "### Exercise 44:\n",
    "Write a Python script that reads a file and prints all the lines that contain exactly 5 words.\n",
    "\n",
    "```python\n",
    "# Exercise 44\n",
    "```\n",
    "\n",
    "---\n",
    "\n",
    "### Exercise 45:\n",
    "Write a Python script to read a file and print the first and last line of the file.\n",
    "\n",
    "```python\n",
    "# Exercise 45\n",
    "```\n",
    "\n",
    "---\n",
    "\n",
    "### Exercise 46:\n",
    "Write a Python script that checks if a file `\"students.txt\"` is writable.\n",
    "\n",
    "```python\n",
    "# Exercise 46\n",
    "```\n",
    "\n",
    "---\n",
    "\n",
    "### Exercise 47:\n",
    "Create a Python function that opens a file and returns the number of unique words in the file.\n",
    "\n",
    "```python\n",
    "# Exercise 47\n",
    "```\n",
    "\n",
    "---\n",
    "\n",
    "### Exercise 48:\n",
    "Write a Python script that reads a file and prints all lines in reverse order.\n",
    "\n",
    "```python\n",
    "# Exercise 48\n",
    "```\n",
    "\n",
    "---\n",
    "\n",
    "### Exercise 49:\n",
    "Write a Python function that reads a file and returns the most common letter in the text.\n",
    "\n",
    "```python\n",
    "# Exercise 49\n",
    "```\n",
    "\n",
    "---\n",
    "\n",
    "### Exercise 50:\n",
    "Write a Python script that reads a file and replaces every occurrence of `\"Python\"` with `\"Java\"`.\n",
    "\n",
    "```python\n",
    "# Exercise 50\n",
    "```\n",
    "\n",
    "---\n",
    "\n"
   ]
  },
  {
   "cell_type": "markdown",
   "id": "45a2af99-6173-48d5-81f8-3c1c094f429c",
   "metadata": {},
   "source": [
    "# Exercise 1"
   ]
  },
  {
   "cell_type": "code",
   "execution_count": 1,
   "id": "43c8cd5a-ed90-46ab-8f72-87c666327e43",
   "metadata": {},
   "outputs": [],
   "source": [
    "text = '\"Python is amazing!\"'"
   ]
  },
  {
   "cell_type": "markdown",
   "id": "99711d7f-acfc-4df6-83c8-55932ab412df",
   "metadata": {},
   "source": [
    "# Exercise 2"
   ]
  },
  {
   "cell_type": "code",
   "execution_count": 4,
   "id": "6d121a4b-b3a6-4692-ae2a-cab1fb70f928",
   "metadata": {},
   "outputs": [],
   "source": [
    "text = \"Hello, World!\"\n",
    "length = len(text)"
   ]
  },
  {
   "cell_type": "markdown",
   "id": "7e8aafa7-4adc-4f21-a78b-2ef51370f573",
   "metadata": {},
   "source": [
    "# Exercise 3"
   ]
  },
  {
   "cell_type": "code",
   "execution_count": 7,
   "id": "ed209fc3-9c6f-494a-9aec-55b4dc93c939",
   "metadata": {},
   "outputs": [],
   "source": [
    "text = \"python programming\"\n",
    "upper_text = text.upper()\n"
   ]
  },
  {
   "cell_type": "markdown",
   "id": "6bd2eb5b-dde1-4f11-9ecd-004bd4175acc",
   "metadata": {},
   "source": [
    "# Exercise 4"
   ]
  },
  {
   "cell_type": "code",
   "execution_count": 8,
   "id": "d1463145-8e0f-463f-835f-227203d9b531",
   "metadata": {},
   "outputs": [],
   "source": [
    "text = \"Artificial Intelligence\"\n",
    "first_five = text[:5]"
   ]
  },
  {
   "cell_type": "markdown",
   "id": "ffaa1330-6e44-4795-812f-460d95baf5ee",
   "metadata": {},
   "source": [
    "# Exercise 5"
   ]
  },
  {
   "cell_type": "code",
   "execution_count": 9,
   "id": "1d30f65b-ecc7-4c01-8011-7d28d608bd25",
   "metadata": {},
   "outputs": [],
   "source": [
    "result = \"Hello\" + \"\" + \"World\""
   ]
  },
  {
   "cell_type": "markdown",
   "id": "95f285eb-c534-4931-92bd-7c9bd0686ec2",
   "metadata": {},
   "source": [
    "# Exercise 6"
   ]
  },
  {
   "cell_type": "code",
   "execution_count": 12,
   "id": "9659d87c-f83a-4d12-a30d-3009a34c311b",
   "metadata": {},
   "outputs": [],
   "source": [
    "text = \"The quick brown dog jumps over the lazy dog.\"\n",
    "text = text.replace(\"dog\", \"cat\")\n"
   ]
  },
  {
   "cell_type": "markdown",
   "id": "0e89ec94-c4d1-40f8-99c7-5b8baf186b11",
   "metadata": {},
   "source": [
    "# Exercise 7"
   ]
  },
  {
   "cell_type": "code",
   "execution_count": 14,
   "id": "09da24d4-cd17-40f2-ae46-4bed0de240d8",
   "metadata": {},
   "outputs": [],
   "source": [
    "fruits = \"apple, banana, orange\"\n",
    "fruits_list = fruits.split(\",\")"
   ]
  },
  {
   "cell_type": "markdown",
   "id": "1b34a48c-703e-41eb-ad9a-44a2342d5f08",
   "metadata": {},
   "source": [
    "# Exercise 8"
   ]
  },
  {
   "cell_type": "code",
   "execution_count": 16,
   "id": "9746c5d8-2f52-4763-956a-043df9a5073c",
   "metadata": {},
   "outputs": [],
   "source": [
    "name = \"Alice\"\n",
    "age = 25\n",
    "sentence = f\"My name is {name} and I am {30} years old.\""
   ]
  },
  {
   "cell_type": "markdown",
   "id": "269692a0-006b-4245-8c27-861ace932f0a",
   "metadata": {},
   "source": [
    "# Exercise 9"
   ]
  },
  {
   "cell_type": "code",
   "execution_count": 22,
   "id": "9bfea236-8544-46e4-a371-353bce929ee6",
   "metadata": {},
   "outputs": [
    {
     "data": {
      "text/plain": [
       "True"
      ]
     },
     "execution_count": 22,
     "metadata": {},
     "output_type": "execute_result"
    }
   ],
   "source": [
    "\"python\" in \"I love python programming\"\n",
    "\n"
   ]
  },
  {
   "cell_type": "markdown",
   "id": "7cd2f213-fb38-4eb3-ac9a-326583e439c3",
   "metadata": {},
   "source": [
    "# Exercise 10"
   ]
  },
  {
   "cell_type": "code",
   "execution_count": null,
   "id": "947af6ac-914e-48d6-a14f-4626365a011a",
   "metadata": {},
   "outputs": [],
   "source": [
    "text = \"Elephant is an elegant animal\"\n",
    "count_e = text.count(\"e\")"
   ]
  },
  {
   "cell_type": "markdown",
   "id": "b66e9a76-8037-4e3a-891a-b07123ff9455",
   "metadata": {},
   "source": [
    "# Exercise 11"
   ]
  },
  {
   "cell_type": "code",
   "execution_count": 24,
   "id": "073d13cd-e109-4ec3-896e-27c4d4aa8744",
   "metadata": {},
   "outputs": [],
   "source": [
    "text = \" Data Science \"\n",
    "cleaned = text.strip()"
   ]
  },
  {
   "cell_type": "markdown",
   "id": "8664dd88-96eb-40c5-9237-d4d2dfcd485a",
   "metadata": {},
   "source": [
    "# Exercise 12"
   ]
  },
  {
   "cell_type": "code",
   "execution_count": 25,
   "id": "c4604b85-40f1-44a3-b838-ae5affb1612f",
   "metadata": {},
   "outputs": [],
   "source": [
    "int_value = int(\"100\")"
   ]
  },
  {
   "cell_type": "markdown",
   "id": "f87f1809-a5d0-4e6c-890e-f3f870dad607",
   "metadata": {},
   "source": [
    "# Exercise 13"
   ]
  },
  {
   "cell_type": "code",
   "execution_count": 26,
   "id": "33a59cd0-f6c0-4690-a9a9-8decc2a110a9",
   "metadata": {},
   "outputs": [],
   "source": [
    "substring = \"programming\"[0:3]"
   ]
  },
  {
   "cell_type": "markdown",
   "id": "07416a25-ce34-47e8-a6b2-f88b7434aa25",
   "metadata": {},
   "source": [
    "# Exercise 14"
   ]
  },
  {
   "cell_type": "code",
   "execution_count": 27,
   "id": "a5409906-5d8c-48b3-86ec-2ca2f30fa286",
   "metadata": {},
   "outputs": [],
   "source": [
    "s = \"data\"\n",
    "starts = s.startswith(\"da\")\n",
    "ends = s.endswith(\"ta\")"
   ]
  },
  {
   "cell_type": "markdown",
   "id": "3e2138ab-8694-4223-8f06-e34f374ca6ed",
   "metadata": {},
   "source": [
    "# Exercise 15"
   ]
  },
  {
   "cell_type": "code",
   "execution_count": 28,
   "id": "211c8a92-0ff3-4c66-bd84-1744a78f03c4",
   "metadata": {},
   "outputs": [],
   "source": [
    "reversed_text = \"machine learning\"[::-1]"
   ]
  },
  {
   "cell_type": "markdown",
   "id": "a4024f52-395f-4679-b916-d77ba46671b8",
   "metadata": {},
   "source": [
    "# Exercise 16"
   ]
  },
  {
   "cell_type": "code",
   "execution_count": 29,
   "id": "15c965ee-fb6c-42e9-8900-c68af8c883d2",
   "metadata": {},
   "outputs": [],
   "source": [
    "title_case = \"machine learning is fun\".title()"
   ]
  },
  {
   "cell_type": "markdown",
   "id": "5cdb2cf8-b1b4-4786-b30a-c92c348bc1be",
   "metadata": {},
   "source": [
    "# Exercise 17"
   ]
  },
  {
   "cell_type": "code",
   "execution_count": 30,
   "id": "24571ffb-f6d0-4f1b-b7a5-6a837aa69348",
   "metadata": {},
   "outputs": [],
   "source": [
    "poem = \"\"\" Roses are red,\n",
    "Violets are blue,\n",
    "Python is powerful,\n",
    "And so are you.\"\"\""
   ]
  },
  {
   "cell_type": "markdown",
   "id": "dceb64eb-d5c5-4fc1-99ec-9a8feca55f6d",
   "metadata": {},
   "source": [
    "# Exercise 18"
   ]
  },
  {
   "cell_type": "code",
   "execution_count": 32,
   "id": "c9218dcb-9264-4cfc-afb7-94b323fb0531",
   "metadata": {},
   "outputs": [],
   "source": [
    "with open(\"output.txt\", \"w\") as f:\n",
    "    f.write(\"Hello, World!\")\n"
   ]
  },
  {
   "cell_type": "markdown",
   "id": "e74e96b6-6236-4936-ae57-ca8138a08b3b",
   "metadata": {},
   "source": [
    "# Exercise 19"
   ]
  },
  {
   "cell_type": "code",
   "execution_count": 42,
   "id": "96dd9670-99f9-43e9-8784-20d20288719b",
   "metadata": {
    "scrolled": true
   },
   "outputs": [
    {
     "ename": "FileNotFoundError",
     "evalue": "[Errno 2] No such file or directory: 'data.txt'",
     "output_type": "error",
     "traceback": [
      "\u001b[1;31m---------------------------------------------------------------------------\u001b[0m",
      "\u001b[1;31mFileNotFoundError\u001b[0m                         Traceback (most recent call last)",
      "Cell \u001b[1;32mIn[42], line 1\u001b[0m\n\u001b[1;32m----> 1\u001b[0m \u001b[38;5;28;01mwith\u001b[39;00m \u001b[38;5;28mopen\u001b[39m(\u001b[38;5;124m\"\u001b[39m\u001b[38;5;124mdata.txt\u001b[39m\u001b[38;5;124m\"\u001b[39m, \u001b[38;5;124m\"\u001b[39m\u001b[38;5;124mr\u001b[39m\u001b[38;5;124m\"\u001b[39m) \u001b[38;5;28;01mas\u001b[39;00m file:\n\u001b[0;32m      2\u001b[0m     \u001b[38;5;28;01mfor\u001b[39;00m line \u001b[38;5;129;01min\u001b[39;00m file:\n\u001b[0;32m      3\u001b[0m         \u001b[38;5;28mprint\u001b[39m(line\u001b[38;5;241m.\u001b[39mstrip())\n",
      "File \u001b[1;32m~\\anaconda3\\New folder\\Lib\\site-packages\\IPython\\core\\interactiveshell.py:324\u001b[0m, in \u001b[0;36m_modified_open\u001b[1;34m(file, *args, **kwargs)\u001b[0m\n\u001b[0;32m    317\u001b[0m \u001b[38;5;28;01mif\u001b[39;00m file \u001b[38;5;129;01min\u001b[39;00m {\u001b[38;5;241m0\u001b[39m, \u001b[38;5;241m1\u001b[39m, \u001b[38;5;241m2\u001b[39m}:\n\u001b[0;32m    318\u001b[0m     \u001b[38;5;28;01mraise\u001b[39;00m \u001b[38;5;167;01mValueError\u001b[39;00m(\n\u001b[0;32m    319\u001b[0m         \u001b[38;5;124mf\u001b[39m\u001b[38;5;124m\"\u001b[39m\u001b[38;5;124mIPython won\u001b[39m\u001b[38;5;124m'\u001b[39m\u001b[38;5;124mt let you open fd=\u001b[39m\u001b[38;5;132;01m{\u001b[39;00mfile\u001b[38;5;132;01m}\u001b[39;00m\u001b[38;5;124m by default \u001b[39m\u001b[38;5;124m\"\u001b[39m\n\u001b[0;32m    320\u001b[0m         \u001b[38;5;124m\"\u001b[39m\u001b[38;5;124mas it is likely to crash IPython. If you know what you are doing, \u001b[39m\u001b[38;5;124m\"\u001b[39m\n\u001b[0;32m    321\u001b[0m         \u001b[38;5;124m\"\u001b[39m\u001b[38;5;124myou can use builtins\u001b[39m\u001b[38;5;124m'\u001b[39m\u001b[38;5;124m open.\u001b[39m\u001b[38;5;124m\"\u001b[39m\n\u001b[0;32m    322\u001b[0m     )\n\u001b[1;32m--> 324\u001b[0m \u001b[38;5;28;01mreturn\u001b[39;00m io_open(file, \u001b[38;5;241m*\u001b[39margs, \u001b[38;5;241m*\u001b[39m\u001b[38;5;241m*\u001b[39mkwargs)\n",
      "\u001b[1;31mFileNotFoundError\u001b[0m: [Errno 2] No such file or directory: 'data.txt'"
     ]
    }
   ],
   "source": [
    "with open(\"data.txt\", \"r\") as file:\n",
    "    for line in file:\n",
    "        print(line.strip())\n",
    "\n"
   ]
  },
  {
   "cell_type": "markdown",
   "id": "39b6f8a2-9be6-47af-828d-065be84b6aec",
   "metadata": {},
   "source": [
    "# Exercise 20"
   ]
  },
  {
   "cell_type": "code",
   "execution_count": 35,
   "id": "87d14a6f-3517-47fd-b940-252611dfef41",
   "metadata": {},
   "outputs": [],
   "source": [
    "import os\n",
    "if os.path.exists(\"example.txt\"):\n",
    "    with open(\"example.txt\") as f:\n",
    "        content = f.read()\n"
   ]
  },
  {
   "cell_type": "markdown",
   "id": "00046770-1f75-49c8-ba4a-37275649879d",
   "metadata": {},
   "source": [
    "# Exercise 21"
   ]
  },
  {
   "cell_type": "code",
   "execution_count": 36,
   "id": "0f5a6da1-b51b-4aa2-b5b1-936a8bd27bdc",
   "metadata": {},
   "outputs": [],
   "source": [
    "with open(\"notes.txt\", \"a\") as f:\n",
    "    f.write(\"\\nThis is a new line\")\n"
   ]
  },
  {
   "cell_type": "markdown",
   "id": "c579cd1f-eb88-4227-bff1-c0fca516120f",
   "metadata": {},
   "source": [
    "# Exercise 22"
   ]
  },
  {
   "cell_type": "code",
   "execution_count": 43,
   "id": "d50275a3-d7d2-480e-97d8-7c41a40e096f",
   "metadata": {
    "scrolled": true
   },
   "outputs": [
    {
     "ename": "FileNotFoundError",
     "evalue": "[Errno 2] No such file or directory: 'log.txt'",
     "output_type": "error",
     "traceback": [
      "\u001b[1;31m---------------------------------------------------------------------------\u001b[0m",
      "\u001b[1;31mFileNotFoundError\u001b[0m                         Traceback (most recent call last)",
      "Cell \u001b[1;32mIn[43], line 1\u001b[0m\n\u001b[1;32m----> 1\u001b[0m \u001b[38;5;28;01mwith\u001b[39;00m \u001b[38;5;28mopen\u001b[39m(\u001b[38;5;124m\"\u001b[39m\u001b[38;5;124mlog.txt\u001b[39m\u001b[38;5;124m\"\u001b[39m, \u001b[38;5;124m\"\u001b[39m\u001b[38;5;124mr\u001b[39m\u001b[38;5;124m\"\u001b[39m) \u001b[38;5;28;01mas\u001b[39;00m file:\n\u001b[0;32m      2\u001b[0m     log_lines \u001b[38;5;241m=\u001b[39m file\u001b[38;5;241m.\u001b[39mreadlines()\n",
      "File \u001b[1;32m~\\anaconda3\\New folder\\Lib\\site-packages\\IPython\\core\\interactiveshell.py:324\u001b[0m, in \u001b[0;36m_modified_open\u001b[1;34m(file, *args, **kwargs)\u001b[0m\n\u001b[0;32m    317\u001b[0m \u001b[38;5;28;01mif\u001b[39;00m file \u001b[38;5;129;01min\u001b[39;00m {\u001b[38;5;241m0\u001b[39m, \u001b[38;5;241m1\u001b[39m, \u001b[38;5;241m2\u001b[39m}:\n\u001b[0;32m    318\u001b[0m     \u001b[38;5;28;01mraise\u001b[39;00m \u001b[38;5;167;01mValueError\u001b[39;00m(\n\u001b[0;32m    319\u001b[0m         \u001b[38;5;124mf\u001b[39m\u001b[38;5;124m\"\u001b[39m\u001b[38;5;124mIPython won\u001b[39m\u001b[38;5;124m'\u001b[39m\u001b[38;5;124mt let you open fd=\u001b[39m\u001b[38;5;132;01m{\u001b[39;00mfile\u001b[38;5;132;01m}\u001b[39;00m\u001b[38;5;124m by default \u001b[39m\u001b[38;5;124m\"\u001b[39m\n\u001b[0;32m    320\u001b[0m         \u001b[38;5;124m\"\u001b[39m\u001b[38;5;124mas it is likely to crash IPython. If you know what you are doing, \u001b[39m\u001b[38;5;124m\"\u001b[39m\n\u001b[0;32m    321\u001b[0m         \u001b[38;5;124m\"\u001b[39m\u001b[38;5;124myou can use builtins\u001b[39m\u001b[38;5;124m'\u001b[39m\u001b[38;5;124m open.\u001b[39m\u001b[38;5;124m\"\u001b[39m\n\u001b[0;32m    322\u001b[0m     )\n\u001b[1;32m--> 324\u001b[0m \u001b[38;5;28;01mreturn\u001b[39;00m io_open(file, \u001b[38;5;241m*\u001b[39margs, \u001b[38;5;241m*\u001b[39m\u001b[38;5;241m*\u001b[39mkwargs)\n",
      "\u001b[1;31mFileNotFoundError\u001b[0m: [Errno 2] No such file or directory: 'log.txt'"
     ]
    }
   ],
   "source": [
    "with open(\"log.txt\", \"r\") as file:\n",
    "    log_lines = file.readlines()\n"
   ]
  },
  {
   "cell_type": "markdown",
   "id": "dc87e8e0-8c35-4e5e-bebe-244905f89f60",
   "metadata": {},
   "source": [
    "# Exercise 23"
   ]
  },
  {
   "cell_type": "code",
   "execution_count": 38,
   "id": "d4072c24-a0ca-4b65-bafd-c92c9dfa9d46",
   "metadata": {},
   "outputs": [],
   "source": [
    "with open(\"report.txt\", \"w\") as f:\n",
    "    f.write(\"Data analysis report\")\n"
   ]
  },
  {
   "cell_type": "markdown",
   "id": "93016029-b0c4-45b9-a83c-36a6b0b7995b",
   "metadata": {},
   "source": [
    "# Exercise 24"
   ]
  },
  {
   "cell_type": "code",
   "execution_count": 44,
   "id": "54cdf9c9-b3f1-43f6-a3f4-9a3117033742",
   "metadata": {},
   "outputs": [
    {
     "ename": "FileNotFoundError",
     "evalue": "[Errno 2] No such file or directory: 'log.txt'",
     "output_type": "error",
     "traceback": [
      "\u001b[1;31m---------------------------------------------------------------------------\u001b[0m",
      "\u001b[1;31mFileNotFoundError\u001b[0m                         Traceback (most recent call last)",
      "Cell \u001b[1;32mIn[44], line 1\u001b[0m\n\u001b[1;32m----> 1\u001b[0m \u001b[38;5;28;01mwith\u001b[39;00m \u001b[38;5;28mopen\u001b[39m(\u001b[38;5;124m\"\u001b[39m\u001b[38;5;124mlog.txt\u001b[39m\u001b[38;5;124m\"\u001b[39m, \u001b[38;5;124m\"\u001b[39m\u001b[38;5;124mr\u001b[39m\u001b[38;5;124m\"\u001b[39m) \u001b[38;5;28;01mas\u001b[39;00m file:\n\u001b[0;32m      2\u001b[0m     content \u001b[38;5;241m=\u001b[39m file\u001b[38;5;241m.\u001b[39mread()\n\u001b[0;32m      4\u001b[0m content \u001b[38;5;241m=\u001b[39m content\u001b[38;5;241m.\u001b[39mreplace(\u001b[38;5;124m\"\u001b[39m\u001b[38;5;124merror\u001b[39m\u001b[38;5;124m\"\u001b[39m, \u001b[38;5;124m\"\u001b[39m\u001b[38;5;124missue\u001b[39m\u001b[38;5;124m\"\u001b[39m)\n",
      "File \u001b[1;32m~\\anaconda3\\New folder\\Lib\\site-packages\\IPython\\core\\interactiveshell.py:324\u001b[0m, in \u001b[0;36m_modified_open\u001b[1;34m(file, *args, **kwargs)\u001b[0m\n\u001b[0;32m    317\u001b[0m \u001b[38;5;28;01mif\u001b[39;00m file \u001b[38;5;129;01min\u001b[39;00m {\u001b[38;5;241m0\u001b[39m, \u001b[38;5;241m1\u001b[39m, \u001b[38;5;241m2\u001b[39m}:\n\u001b[0;32m    318\u001b[0m     \u001b[38;5;28;01mraise\u001b[39;00m \u001b[38;5;167;01mValueError\u001b[39;00m(\n\u001b[0;32m    319\u001b[0m         \u001b[38;5;124mf\u001b[39m\u001b[38;5;124m\"\u001b[39m\u001b[38;5;124mIPython won\u001b[39m\u001b[38;5;124m'\u001b[39m\u001b[38;5;124mt let you open fd=\u001b[39m\u001b[38;5;132;01m{\u001b[39;00mfile\u001b[38;5;132;01m}\u001b[39;00m\u001b[38;5;124m by default \u001b[39m\u001b[38;5;124m\"\u001b[39m\n\u001b[0;32m    320\u001b[0m         \u001b[38;5;124m\"\u001b[39m\u001b[38;5;124mas it is likely to crash IPython. If you know what you are doing, \u001b[39m\u001b[38;5;124m\"\u001b[39m\n\u001b[0;32m    321\u001b[0m         \u001b[38;5;124m\"\u001b[39m\u001b[38;5;124myou can use builtins\u001b[39m\u001b[38;5;124m'\u001b[39m\u001b[38;5;124m open.\u001b[39m\u001b[38;5;124m\"\u001b[39m\n\u001b[0;32m    322\u001b[0m     )\n\u001b[1;32m--> 324\u001b[0m \u001b[38;5;28;01mreturn\u001b[39;00m io_open(file, \u001b[38;5;241m*\u001b[39margs, \u001b[38;5;241m*\u001b[39m\u001b[38;5;241m*\u001b[39mkwargs)\n",
      "\u001b[1;31mFileNotFoundError\u001b[0m: [Errno 2] No such file or directory: 'log.txt'"
     ]
    }
   ],
   "source": [
    "with open(\"log.txt\", \"r\") as file:\n",
    "    content = file.read()\n",
    "\n",
    "content = content.replace(\"error\", \"issue\")\n",
    "\n",
    "with open(\"log.txt\", \"w\") as file:\n",
    "    file.write(content)\n",
    "\n"
   ]
  },
  {
   "cell_type": "markdown",
   "id": "c08ccdbb-4671-42b5-96b9-fdecde0f6e44",
   "metadata": {},
   "source": [
    "# Exercise 25"
   ]
  },
  {
   "cell_type": "code",
   "execution_count": 40,
   "id": "1b202215-05fe-4dab-b9cf-907e089fe31b",
   "metadata": {},
   "outputs": [
    {
     "ename": "FileNotFoundError",
     "evalue": "[Errno 2] No such file or directory: 'document.txt'",
     "output_type": "error",
     "traceback": [
      "\u001b[1;31m---------------------------------------------------------------------------\u001b[0m",
      "\u001b[1;31mFileNotFoundError\u001b[0m                         Traceback (most recent call last)",
      "Cell \u001b[1;32mIn[40], line 1\u001b[0m\n\u001b[1;32m----> 1\u001b[0m \u001b[38;5;28;01mwith\u001b[39;00m \u001b[38;5;28mopen\u001b[39m(\u001b[38;5;124m\"\u001b[39m\u001b[38;5;124mdocument.txt\u001b[39m\u001b[38;5;124m\"\u001b[39m, \u001b[38;5;124m\"\u001b[39m\u001b[38;5;124mr\u001b[39m\u001b[38;5;124m\"\u001b[39m) \u001b[38;5;28;01mas\u001b[39;00m f:\n\u001b[0;32m      2\u001b[0m     text \u001b[38;5;241m=\u001b[39m f\u001b[38;5;241m.\u001b[39mread()\n\u001b[0;32m      3\u001b[0m     word_count \u001b[38;5;241m=\u001b[39m \u001b[38;5;28mlen\u001b[39m(text\u001b[38;5;241m.\u001b[39msplit())\n",
      "File \u001b[1;32m~\\anaconda3\\New folder\\Lib\\site-packages\\IPython\\core\\interactiveshell.py:324\u001b[0m, in \u001b[0;36m_modified_open\u001b[1;34m(file, *args, **kwargs)\u001b[0m\n\u001b[0;32m    317\u001b[0m \u001b[38;5;28;01mif\u001b[39;00m file \u001b[38;5;129;01min\u001b[39;00m {\u001b[38;5;241m0\u001b[39m, \u001b[38;5;241m1\u001b[39m, \u001b[38;5;241m2\u001b[39m}:\n\u001b[0;32m    318\u001b[0m     \u001b[38;5;28;01mraise\u001b[39;00m \u001b[38;5;167;01mValueError\u001b[39;00m(\n\u001b[0;32m    319\u001b[0m         \u001b[38;5;124mf\u001b[39m\u001b[38;5;124m\"\u001b[39m\u001b[38;5;124mIPython won\u001b[39m\u001b[38;5;124m'\u001b[39m\u001b[38;5;124mt let you open fd=\u001b[39m\u001b[38;5;132;01m{\u001b[39;00mfile\u001b[38;5;132;01m}\u001b[39;00m\u001b[38;5;124m by default \u001b[39m\u001b[38;5;124m\"\u001b[39m\n\u001b[0;32m    320\u001b[0m         \u001b[38;5;124m\"\u001b[39m\u001b[38;5;124mas it is likely to crash IPython. If you know what you are doing, \u001b[39m\u001b[38;5;124m\"\u001b[39m\n\u001b[0;32m    321\u001b[0m         \u001b[38;5;124m\"\u001b[39m\u001b[38;5;124myou can use builtins\u001b[39m\u001b[38;5;124m'\u001b[39m\u001b[38;5;124m open.\u001b[39m\u001b[38;5;124m\"\u001b[39m\n\u001b[0;32m    322\u001b[0m     )\n\u001b[1;32m--> 324\u001b[0m \u001b[38;5;28;01mreturn\u001b[39;00m io_open(file, \u001b[38;5;241m*\u001b[39margs, \u001b[38;5;241m*\u001b[39m\u001b[38;5;241m*\u001b[39mkwargs)\n",
      "\u001b[1;31mFileNotFoundError\u001b[0m: [Errno 2] No such file or directory: 'document.txt'"
     ]
    }
   ],
   "source": [
    "with open(\"document.txt\", \"r\") as f:\n",
    "    text = f.read()\n",
    "    word_count = len(text.split())\n"
   ]
  },
  {
   "cell_type": "markdown",
   "id": "07c14ed5-9eb7-46bd-991c-39cf1582b0f1",
   "metadata": {},
   "source": [
    "# Exercise 26"
   ]
  },
  {
   "cell_type": "code",
   "execution_count": 41,
   "id": "c74bea32-8509-49c8-8b1e-a682c90b82ea",
   "metadata": {},
   "outputs": [
    {
     "ename": "FileNotFoundError",
     "evalue": "[Errno 2] No such file or directory: 'essay.txt'",
     "output_type": "error",
     "traceback": [
      "\u001b[1;31m---------------------------------------------------------------------------\u001b[0m",
      "\u001b[1;31mFileNotFoundError\u001b[0m                         Traceback (most recent call last)",
      "Cell \u001b[1;32mIn[41], line 1\u001b[0m\n\u001b[1;32m----> 1\u001b[0m \u001b[38;5;28;01mwith\u001b[39;00m \u001b[38;5;28mopen\u001b[39m(\u001b[38;5;124m\"\u001b[39m\u001b[38;5;124messay.txt\u001b[39m\u001b[38;5;124m\"\u001b[39m, \u001b[38;5;124m\"\u001b[39m\u001b[38;5;124mr\u001b[39m\u001b[38;5;124m\"\u001b[39m) \u001b[38;5;28;01mas\u001b[39;00m f:\n\u001b[0;32m      2\u001b[0m     text \u001b[38;5;241m=\u001b[39m f\u001b[38;5;241m.\u001b[39mread()\n\u001b[0;32m      3\u001b[0m     lines \u001b[38;5;241m=\u001b[39m text\u001b[38;5;241m.\u001b[39msplitlines()\n",
      "File \u001b[1;32m~\\anaconda3\\New folder\\Lib\\site-packages\\IPython\\core\\interactiveshell.py:324\u001b[0m, in \u001b[0;36m_modified_open\u001b[1;34m(file, *args, **kwargs)\u001b[0m\n\u001b[0;32m    317\u001b[0m \u001b[38;5;28;01mif\u001b[39;00m file \u001b[38;5;129;01min\u001b[39;00m {\u001b[38;5;241m0\u001b[39m, \u001b[38;5;241m1\u001b[39m, \u001b[38;5;241m2\u001b[39m}:\n\u001b[0;32m    318\u001b[0m     \u001b[38;5;28;01mraise\u001b[39;00m \u001b[38;5;167;01mValueError\u001b[39;00m(\n\u001b[0;32m    319\u001b[0m         \u001b[38;5;124mf\u001b[39m\u001b[38;5;124m\"\u001b[39m\u001b[38;5;124mIPython won\u001b[39m\u001b[38;5;124m'\u001b[39m\u001b[38;5;124mt let you open fd=\u001b[39m\u001b[38;5;132;01m{\u001b[39;00mfile\u001b[38;5;132;01m}\u001b[39;00m\u001b[38;5;124m by default \u001b[39m\u001b[38;5;124m\"\u001b[39m\n\u001b[0;32m    320\u001b[0m         \u001b[38;5;124m\"\u001b[39m\u001b[38;5;124mas it is likely to crash IPython. If you know what you are doing, \u001b[39m\u001b[38;5;124m\"\u001b[39m\n\u001b[0;32m    321\u001b[0m         \u001b[38;5;124m\"\u001b[39m\u001b[38;5;124myou can use builtins\u001b[39m\u001b[38;5;124m'\u001b[39m\u001b[38;5;124m open.\u001b[39m\u001b[38;5;124m\"\u001b[39m\n\u001b[0;32m    322\u001b[0m     )\n\u001b[1;32m--> 324\u001b[0m \u001b[38;5;28;01mreturn\u001b[39;00m io_open(file, \u001b[38;5;241m*\u001b[39margs, \u001b[38;5;241m*\u001b[39m\u001b[38;5;241m*\u001b[39mkwargs)\n",
      "\u001b[1;31mFileNotFoundError\u001b[0m: [Errno 2] No such file or directory: 'essay.txt'"
     ]
    }
   ],
   "source": [
    "with open(\"essay.txt\", \"r\") as f:\n",
    "    text = f.read()\n",
    "    lines = text.splitlines()\n",
    "    words = text.split()\n",
    "    characters = len(text)\n",
    "\n",
    "print(\"Lines:\", len(lines))\n",
    "print(\"Words:\", len(words))\n",
    "print(\"Characters:\", characters)\n"
   ]
  },
  {
   "cell_type": "markdown",
   "id": "7766c508-eb80-4938-8601-d97002ae322a",
   "metadata": {},
   "source": [
    "# Exercise 27"
   ]
  },
  {
   "cell_type": "code",
   "execution_count": 45,
   "id": "bdfe526a-685f-4f30-a51f-0dbed99689ec",
   "metadata": {},
   "outputs": [
    {
     "ename": "FileNotFoundError",
     "evalue": "[Errno 2] No such file or directory: 'source.txt'",
     "output_type": "error",
     "traceback": [
      "\u001b[1;31m---------------------------------------------------------------------------\u001b[0m",
      "\u001b[1;31mFileNotFoundError\u001b[0m                         Traceback (most recent call last)",
      "Cell \u001b[1;32mIn[45], line 1\u001b[0m\n\u001b[1;32m----> 1\u001b[0m \u001b[38;5;28;01mwith\u001b[39;00m \u001b[38;5;28mopen\u001b[39m(\u001b[38;5;124m\"\u001b[39m\u001b[38;5;124msource.txt\u001b[39m\u001b[38;5;124m\"\u001b[39m, \u001b[38;5;124m\"\u001b[39m\u001b[38;5;124mr\u001b[39m\u001b[38;5;124m\"\u001b[39m) \u001b[38;5;28;01mas\u001b[39;00m source:\n\u001b[0;32m      2\u001b[0m     content \u001b[38;5;241m=\u001b[39m source\u001b[38;5;241m.\u001b[39mread()\n\u001b[0;32m      4\u001b[0m \u001b[38;5;28;01mwith\u001b[39;00m \u001b[38;5;28mopen\u001b[39m(\u001b[38;5;124m\"\u001b[39m\u001b[38;5;124mdestination.txt\u001b[39m\u001b[38;5;124m\"\u001b[39m, \u001b[38;5;124m\"\u001b[39m\u001b[38;5;124mw\u001b[39m\u001b[38;5;124m\"\u001b[39m) \u001b[38;5;28;01mas\u001b[39;00m destination:\n",
      "File \u001b[1;32m~\\anaconda3\\New folder\\Lib\\site-packages\\IPython\\core\\interactiveshell.py:324\u001b[0m, in \u001b[0;36m_modified_open\u001b[1;34m(file, *args, **kwargs)\u001b[0m\n\u001b[0;32m    317\u001b[0m \u001b[38;5;28;01mif\u001b[39;00m file \u001b[38;5;129;01min\u001b[39;00m {\u001b[38;5;241m0\u001b[39m, \u001b[38;5;241m1\u001b[39m, \u001b[38;5;241m2\u001b[39m}:\n\u001b[0;32m    318\u001b[0m     \u001b[38;5;28;01mraise\u001b[39;00m \u001b[38;5;167;01mValueError\u001b[39;00m(\n\u001b[0;32m    319\u001b[0m         \u001b[38;5;124mf\u001b[39m\u001b[38;5;124m\"\u001b[39m\u001b[38;5;124mIPython won\u001b[39m\u001b[38;5;124m'\u001b[39m\u001b[38;5;124mt let you open fd=\u001b[39m\u001b[38;5;132;01m{\u001b[39;00mfile\u001b[38;5;132;01m}\u001b[39;00m\u001b[38;5;124m by default \u001b[39m\u001b[38;5;124m\"\u001b[39m\n\u001b[0;32m    320\u001b[0m         \u001b[38;5;124m\"\u001b[39m\u001b[38;5;124mas it is likely to crash IPython. If you know what you are doing, \u001b[39m\u001b[38;5;124m\"\u001b[39m\n\u001b[0;32m    321\u001b[0m         \u001b[38;5;124m\"\u001b[39m\u001b[38;5;124myou can use builtins\u001b[39m\u001b[38;5;124m'\u001b[39m\u001b[38;5;124m open.\u001b[39m\u001b[38;5;124m\"\u001b[39m\n\u001b[0;32m    322\u001b[0m     )\n\u001b[1;32m--> 324\u001b[0m \u001b[38;5;28;01mreturn\u001b[39;00m io_open(file, \u001b[38;5;241m*\u001b[39margs, \u001b[38;5;241m*\u001b[39m\u001b[38;5;241m*\u001b[39mkwargs)\n",
      "\u001b[1;31mFileNotFoundError\u001b[0m: [Errno 2] No such file or directory: 'source.txt'"
     ]
    }
   ],
   "source": [
    "with open(\"source.txt\", \"r\") as source:\n",
    "    content = source.read()\n",
    "\n",
    "with open(\"destination.txt\", \"w\") as destination:\n",
    "    destination.write(content)\n"
   ]
  },
  {
   "cell_type": "markdown",
   "id": "d799f100-3522-4c17-bf78-877a7f10ea51",
   "metadata": {},
   "source": [
    "# Exercise 28"
   ]
  },
  {
   "cell_type": "code",
   "execution_count": 46,
   "id": "1c7ac36f-015b-41a0-bff4-ea646efef42e",
   "metadata": {},
   "outputs": [],
   "source": [
    "def count_lines(filename):\n",
    "    with open(filename, \"r\") as file:\n",
    "        return len(file.readlines())\n"
   ]
  },
  {
   "cell_type": "markdown",
   "id": "52f0bd81-4914-42b9-a62a-d0eb51b723d1",
   "metadata": {},
   "source": [
    "# Exercise 29"
   ]
  },
  {
   "cell_type": "code",
   "execution_count": 47,
   "id": "f6743f43-72f0-4fa3-beec-6b68ef24af30",
   "metadata": {},
   "outputs": [
    {
     "ename": "FileNotFoundError",
     "evalue": "[Errno 2] No such file or directory: 'article.txt'",
     "output_type": "error",
     "traceback": [
      "\u001b[1;31m---------------------------------------------------------------------------\u001b[0m",
      "\u001b[1;31mFileNotFoundError\u001b[0m                         Traceback (most recent call last)",
      "Cell \u001b[1;32mIn[47], line 1\u001b[0m\n\u001b[1;32m----> 1\u001b[0m \u001b[38;5;28;01mwith\u001b[39;00m \u001b[38;5;28mopen\u001b[39m(\u001b[38;5;124m\"\u001b[39m\u001b[38;5;124marticle.txt\u001b[39m\u001b[38;5;124m\"\u001b[39m, \u001b[38;5;124m\"\u001b[39m\u001b[38;5;124mr\u001b[39m\u001b[38;5;124m\"\u001b[39m) \u001b[38;5;28;01mas\u001b[39;00m file:\n\u001b[0;32m      2\u001b[0m     words \u001b[38;5;241m=\u001b[39m file\u001b[38;5;241m.\u001b[39mread()\u001b[38;5;241m.\u001b[39msplit()\n\u001b[0;32m      3\u001b[0m     long_words \u001b[38;5;241m=\u001b[39m [word \u001b[38;5;28;01mfor\u001b[39;00m word \u001b[38;5;129;01min\u001b[39;00m words \u001b[38;5;28;01mif\u001b[39;00m \u001b[38;5;28mlen\u001b[39m(word) \u001b[38;5;241m>\u001b[39m \u001b[38;5;241m5\u001b[39m]\n",
      "File \u001b[1;32m~\\anaconda3\\New folder\\Lib\\site-packages\\IPython\\core\\interactiveshell.py:324\u001b[0m, in \u001b[0;36m_modified_open\u001b[1;34m(file, *args, **kwargs)\u001b[0m\n\u001b[0;32m    317\u001b[0m \u001b[38;5;28;01mif\u001b[39;00m file \u001b[38;5;129;01min\u001b[39;00m {\u001b[38;5;241m0\u001b[39m, \u001b[38;5;241m1\u001b[39m, \u001b[38;5;241m2\u001b[39m}:\n\u001b[0;32m    318\u001b[0m     \u001b[38;5;28;01mraise\u001b[39;00m \u001b[38;5;167;01mValueError\u001b[39;00m(\n\u001b[0;32m    319\u001b[0m         \u001b[38;5;124mf\u001b[39m\u001b[38;5;124m\"\u001b[39m\u001b[38;5;124mIPython won\u001b[39m\u001b[38;5;124m'\u001b[39m\u001b[38;5;124mt let you open fd=\u001b[39m\u001b[38;5;132;01m{\u001b[39;00mfile\u001b[38;5;132;01m}\u001b[39;00m\u001b[38;5;124m by default \u001b[39m\u001b[38;5;124m\"\u001b[39m\n\u001b[0;32m    320\u001b[0m         \u001b[38;5;124m\"\u001b[39m\u001b[38;5;124mas it is likely to crash IPython. If you know what you are doing, \u001b[39m\u001b[38;5;124m\"\u001b[39m\n\u001b[0;32m    321\u001b[0m         \u001b[38;5;124m\"\u001b[39m\u001b[38;5;124myou can use builtins\u001b[39m\u001b[38;5;124m'\u001b[39m\u001b[38;5;124m open.\u001b[39m\u001b[38;5;124m\"\u001b[39m\n\u001b[0;32m    322\u001b[0m     )\n\u001b[1;32m--> 324\u001b[0m \u001b[38;5;28;01mreturn\u001b[39;00m io_open(file, \u001b[38;5;241m*\u001b[39margs, \u001b[38;5;241m*\u001b[39m\u001b[38;5;241m*\u001b[39mkwargs)\n",
      "\u001b[1;31mFileNotFoundError\u001b[0m: [Errno 2] No such file or directory: 'article.txt'"
     ]
    }
   ],
   "source": [
    "with open(\"article.txt\", \"r\") as file:\n",
    "    words = file.read().split()\n",
    "    long_words = [word for word in words if len(word) > 5]\n",
    "    print(long_words)\n"
   ]
  },
  {
   "cell_type": "markdown",
   "id": "5a849ab3-e13b-481e-be57-81198d673d1e",
   "metadata": {},
   "source": [
    "# Exercise 30"
   ]
  },
  {
   "cell_type": "code",
   "execution_count": 48,
   "id": "6c499b47-2fa0-4141-bfaf-36890ef731ae",
   "metadata": {},
   "outputs": [],
   "source": [
    "with open(\"notes.txt\", \"r\") as file:\n",
    "    content = file.read()\n",
    "\n",
    "with open(\"uppercase_notes.txt\", \"w\") as file:\n",
    "    file.write(content.upper())\n"
   ]
  },
  {
   "cell_type": "markdown",
   "id": "9326fff5-c453-4b66-85cd-8efb11269dd5",
   "metadata": {},
   "source": [
    "# Exercise 31"
   ]
  },
  {
   "cell_type": "code",
   "execution_count": 49,
   "id": "6724e4b8-c0ca-4337-b242-bdb9bbef5ac0",
   "metadata": {},
   "outputs": [
    {
     "ename": "FileNotFoundError",
     "evalue": "[Errno 2] No such file or directory: 'input.txt'",
     "output_type": "error",
     "traceback": [
      "\u001b[1;31m---------------------------------------------------------------------------\u001b[0m",
      "\u001b[1;31mFileNotFoundError\u001b[0m                         Traceback (most recent call last)",
      "Cell \u001b[1;32mIn[49], line 1\u001b[0m\n\u001b[1;32m----> 1\u001b[0m \u001b[38;5;28;01mwith\u001b[39;00m \u001b[38;5;28mopen\u001b[39m(\u001b[38;5;124m\"\u001b[39m\u001b[38;5;124minput.txt\u001b[39m\u001b[38;5;124m\"\u001b[39m, \u001b[38;5;124m\"\u001b[39m\u001b[38;5;124mr\u001b[39m\u001b[38;5;124m\"\u001b[39m) \u001b[38;5;28;01mas\u001b[39;00m file:\n\u001b[0;32m      2\u001b[0m     lines \u001b[38;5;241m=\u001b[39m file\u001b[38;5;241m.\u001b[39mreadlines()\n\u001b[0;32m      4\u001b[0m non_empty \u001b[38;5;241m=\u001b[39m [line \u001b[38;5;28;01mfor\u001b[39;00m line \u001b[38;5;129;01min\u001b[39;00m lines \u001b[38;5;28;01mif\u001b[39;00m line\u001b[38;5;241m.\u001b[39mstrip()]\n",
      "File \u001b[1;32m~\\anaconda3\\New folder\\Lib\\site-packages\\IPython\\core\\interactiveshell.py:324\u001b[0m, in \u001b[0;36m_modified_open\u001b[1;34m(file, *args, **kwargs)\u001b[0m\n\u001b[0;32m    317\u001b[0m \u001b[38;5;28;01mif\u001b[39;00m file \u001b[38;5;129;01min\u001b[39;00m {\u001b[38;5;241m0\u001b[39m, \u001b[38;5;241m1\u001b[39m, \u001b[38;5;241m2\u001b[39m}:\n\u001b[0;32m    318\u001b[0m     \u001b[38;5;28;01mraise\u001b[39;00m \u001b[38;5;167;01mValueError\u001b[39;00m(\n\u001b[0;32m    319\u001b[0m         \u001b[38;5;124mf\u001b[39m\u001b[38;5;124m\"\u001b[39m\u001b[38;5;124mIPython won\u001b[39m\u001b[38;5;124m'\u001b[39m\u001b[38;5;124mt let you open fd=\u001b[39m\u001b[38;5;132;01m{\u001b[39;00mfile\u001b[38;5;132;01m}\u001b[39;00m\u001b[38;5;124m by default \u001b[39m\u001b[38;5;124m\"\u001b[39m\n\u001b[0;32m    320\u001b[0m         \u001b[38;5;124m\"\u001b[39m\u001b[38;5;124mas it is likely to crash IPython. If you know what you are doing, \u001b[39m\u001b[38;5;124m\"\u001b[39m\n\u001b[0;32m    321\u001b[0m         \u001b[38;5;124m\"\u001b[39m\u001b[38;5;124myou can use builtins\u001b[39m\u001b[38;5;124m'\u001b[39m\u001b[38;5;124m open.\u001b[39m\u001b[38;5;124m\"\u001b[39m\n\u001b[0;32m    322\u001b[0m     )\n\u001b[1;32m--> 324\u001b[0m \u001b[38;5;28;01mreturn\u001b[39;00m io_open(file, \u001b[38;5;241m*\u001b[39margs, \u001b[38;5;241m*\u001b[39m\u001b[38;5;241m*\u001b[39mkwargs)\n",
      "\u001b[1;31mFileNotFoundError\u001b[0m: [Errno 2] No such file or directory: 'input.txt'"
     ]
    }
   ],
   "source": [
    "with open(\"input.txt\", \"r\") as file:\n",
    "    lines = file.readlines()\n",
    "\n",
    "non_empty = [line for line in lines if line.strip()]\n",
    "\n",
    "with open(\"input.txt\", \"w\") as file:\n",
    "    file.writelines(non_empty)\n"
   ]
  },
  {
   "cell_type": "markdown",
   "id": "7646da76-dd6f-4880-abe0-4b5b12e71cd8",
   "metadata": {},
   "source": [
    "# Exercise 32"
   ]
  },
  {
   "cell_type": "code",
   "execution_count": 50,
   "id": "bdad616d-e8dc-4dcc-bca8-2fe2b5ec2c4b",
   "metadata": {},
   "outputs": [
    {
     "ename": "FileNotFoundError",
     "evalue": "[Errno 2] No such file or directory: 'config.txt'",
     "output_type": "error",
     "traceback": [
      "\u001b[1;31m---------------------------------------------------------------------------\u001b[0m",
      "\u001b[1;31mFileNotFoundError\u001b[0m                         Traceback (most recent call last)",
      "Cell \u001b[1;32mIn[50], line 1\u001b[0m\n\u001b[1;32m----> 1\u001b[0m \u001b[38;5;28;01mwith\u001b[39;00m \u001b[38;5;28mopen\u001b[39m(\u001b[38;5;124m\"\u001b[39m\u001b[38;5;124mconfig.txt\u001b[39m\u001b[38;5;124m\"\u001b[39m, \u001b[38;5;124m\"\u001b[39m\u001b[38;5;124mr+\u001b[39m\u001b[38;5;124m\"\u001b[39m) \u001b[38;5;28;01mas\u001b[39;00m file:\n\u001b[0;32m      2\u001b[0m     content \u001b[38;5;241m=\u001b[39m file\u001b[38;5;241m.\u001b[39mread()\n\u001b[0;32m      3\u001b[0m     \u001b[38;5;28mprint\u001b[39m(content)\n",
      "File \u001b[1;32m~\\anaconda3\\New folder\\Lib\\site-packages\\IPython\\core\\interactiveshell.py:324\u001b[0m, in \u001b[0;36m_modified_open\u001b[1;34m(file, *args, **kwargs)\u001b[0m\n\u001b[0;32m    317\u001b[0m \u001b[38;5;28;01mif\u001b[39;00m file \u001b[38;5;129;01min\u001b[39;00m {\u001b[38;5;241m0\u001b[39m, \u001b[38;5;241m1\u001b[39m, \u001b[38;5;241m2\u001b[39m}:\n\u001b[0;32m    318\u001b[0m     \u001b[38;5;28;01mraise\u001b[39;00m \u001b[38;5;167;01mValueError\u001b[39;00m(\n\u001b[0;32m    319\u001b[0m         \u001b[38;5;124mf\u001b[39m\u001b[38;5;124m\"\u001b[39m\u001b[38;5;124mIPython won\u001b[39m\u001b[38;5;124m'\u001b[39m\u001b[38;5;124mt let you open fd=\u001b[39m\u001b[38;5;132;01m{\u001b[39;00mfile\u001b[38;5;132;01m}\u001b[39;00m\u001b[38;5;124m by default \u001b[39m\u001b[38;5;124m\"\u001b[39m\n\u001b[0;32m    320\u001b[0m         \u001b[38;5;124m\"\u001b[39m\u001b[38;5;124mas it is likely to crash IPython. If you know what you are doing, \u001b[39m\u001b[38;5;124m\"\u001b[39m\n\u001b[0;32m    321\u001b[0m         \u001b[38;5;124m\"\u001b[39m\u001b[38;5;124myou can use builtins\u001b[39m\u001b[38;5;124m'\u001b[39m\u001b[38;5;124m open.\u001b[39m\u001b[38;5;124m\"\u001b[39m\n\u001b[0;32m    322\u001b[0m     )\n\u001b[1;32m--> 324\u001b[0m \u001b[38;5;28;01mreturn\u001b[39;00m io_open(file, \u001b[38;5;241m*\u001b[39margs, \u001b[38;5;241m*\u001b[39m\u001b[38;5;241m*\u001b[39mkwargs)\n",
      "\u001b[1;31mFileNotFoundError\u001b[0m: [Errno 2] No such file or directory: 'config.txt'"
     ]
    }
   ],
   "source": [
    "with open(\"config.txt\", \"r+\") as file:\n",
    "    content = file.read()\n",
    "    print(content)\n"
   ]
  },
  {
   "cell_type": "markdown",
   "id": "934e5541-61be-45ae-95f2-eed222071a79",
   "metadata": {},
   "source": [
    "# Exercise 33"
   ]
  },
  {
   "cell_type": "code",
   "execution_count": 51,
   "id": "ec1b798b-341f-4224-9325-7208af1a4cc3",
   "metadata": {},
   "outputs": [],
   "source": [
    "def print_longest_line(filename):\n",
    "    with open(filename, \"r\") as file:\n",
    "        lines = file.readlines()\n",
    "        longest = max(lines, key=len)\n",
    "        print(longest.strip())\n"
   ]
  },
  {
   "cell_type": "markdown",
   "id": "c551057a-e92d-47a0-826b-aef00d3b2383",
   "metadata": {},
   "source": [
    "# Exercise 34"
   ]
  },
  {
   "cell_type": "code",
   "execution_count": 52,
   "id": "1a5fce07-549b-4539-99fe-46c25313df3d",
   "metadata": {},
   "outputs": [
    {
     "ename": "FileNotFoundError",
     "evalue": "[Errno 2] No such file or directory: 'message.txt'",
     "output_type": "error",
     "traceback": [
      "\u001b[1;31m---------------------------------------------------------------------------\u001b[0m",
      "\u001b[1;31mFileNotFoundError\u001b[0m                         Traceback (most recent call last)",
      "Cell \u001b[1;32mIn[52], line 4\u001b[0m\n\u001b[0;32m      1\u001b[0m \u001b[38;5;28;01mfrom\u001b[39;00m \u001b[38;5;21;01mcollections\u001b[39;00m \u001b[38;5;28;01mimport\u001b[39;00m Counter\n\u001b[0;32m      2\u001b[0m \u001b[38;5;28;01mimport\u001b[39;00m \u001b[38;5;21;01mstring\u001b[39;00m\n\u001b[1;32m----> 4\u001b[0m \u001b[38;5;28;01mwith\u001b[39;00m \u001b[38;5;28mopen\u001b[39m(\u001b[38;5;124m\"\u001b[39m\u001b[38;5;124mmessage.txt\u001b[39m\u001b[38;5;124m\"\u001b[39m, \u001b[38;5;124m\"\u001b[39m\u001b[38;5;124mr\u001b[39m\u001b[38;5;124m\"\u001b[39m) \u001b[38;5;28;01mas\u001b[39;00m file:\n\u001b[0;32m      5\u001b[0m     text \u001b[38;5;241m=\u001b[39m file\u001b[38;5;241m.\u001b[39mread()\u001b[38;5;241m.\u001b[39mlower()\n\u001b[0;32m      7\u001b[0m letters \u001b[38;5;241m=\u001b[39m [char \u001b[38;5;28;01mfor\u001b[39;00m char \u001b[38;5;129;01min\u001b[39;00m text \u001b[38;5;28;01mif\u001b[39;00m char \u001b[38;5;129;01min\u001b[39;00m string\u001b[38;5;241m.\u001b[39mascii_lowercase]\n",
      "File \u001b[1;32m~\\anaconda3\\New folder\\Lib\\site-packages\\IPython\\core\\interactiveshell.py:324\u001b[0m, in \u001b[0;36m_modified_open\u001b[1;34m(file, *args, **kwargs)\u001b[0m\n\u001b[0;32m    317\u001b[0m \u001b[38;5;28;01mif\u001b[39;00m file \u001b[38;5;129;01min\u001b[39;00m {\u001b[38;5;241m0\u001b[39m, \u001b[38;5;241m1\u001b[39m, \u001b[38;5;241m2\u001b[39m}:\n\u001b[0;32m    318\u001b[0m     \u001b[38;5;28;01mraise\u001b[39;00m \u001b[38;5;167;01mValueError\u001b[39;00m(\n\u001b[0;32m    319\u001b[0m         \u001b[38;5;124mf\u001b[39m\u001b[38;5;124m\"\u001b[39m\u001b[38;5;124mIPython won\u001b[39m\u001b[38;5;124m'\u001b[39m\u001b[38;5;124mt let you open fd=\u001b[39m\u001b[38;5;132;01m{\u001b[39;00mfile\u001b[38;5;132;01m}\u001b[39;00m\u001b[38;5;124m by default \u001b[39m\u001b[38;5;124m\"\u001b[39m\n\u001b[0;32m    320\u001b[0m         \u001b[38;5;124m\"\u001b[39m\u001b[38;5;124mas it is likely to crash IPython. If you know what you are doing, \u001b[39m\u001b[38;5;124m\"\u001b[39m\n\u001b[0;32m    321\u001b[0m         \u001b[38;5;124m\"\u001b[39m\u001b[38;5;124myou can use builtins\u001b[39m\u001b[38;5;124m'\u001b[39m\u001b[38;5;124m open.\u001b[39m\u001b[38;5;124m\"\u001b[39m\n\u001b[0;32m    322\u001b[0m     )\n\u001b[1;32m--> 324\u001b[0m \u001b[38;5;28;01mreturn\u001b[39;00m io_open(file, \u001b[38;5;241m*\u001b[39margs, \u001b[38;5;241m*\u001b[39m\u001b[38;5;241m*\u001b[39mkwargs)\n",
      "\u001b[1;31mFileNotFoundError\u001b[0m: [Errno 2] No such file or directory: 'message.txt'"
     ]
    }
   ],
   "source": [
    "from collections import Counter\n",
    "import string\n",
    "\n",
    "with open(\"message.txt\", \"r\") as file:\n",
    "    text = file.read().lower()\n",
    "\n",
    "letters = [char for char in text if char in string.ascii_lowercase]\n",
    "freq = Counter(letters)\n",
    "\n",
    "print(freq)\n"
   ]
  },
  {
   "cell_type": "markdown",
   "id": "a9c81f17-c8bd-487b-a758-332248ab058f",
   "metadata": {},
   "source": [
    "# Exercise 35"
   ]
  },
  {
   "cell_type": "code",
   "execution_count": 53,
   "id": "b9a52973-89ec-49a2-9089-78968f200e4e",
   "metadata": {},
   "outputs": [
    {
     "ename": "FileNotFoundError",
     "evalue": "[Errno 2] No such file or directory: 'text.txt'",
     "output_type": "error",
     "traceback": [
      "\u001b[1;31m---------------------------------------------------------------------------\u001b[0m",
      "\u001b[1;31mFileNotFoundError\u001b[0m                         Traceback (most recent call last)",
      "Cell \u001b[1;32mIn[53], line 1\u001b[0m\n\u001b[1;32m----> 1\u001b[0m \u001b[38;5;28;01mwith\u001b[39;00m \u001b[38;5;28mopen\u001b[39m(\u001b[38;5;124m\"\u001b[39m\u001b[38;5;124mtext.txt\u001b[39m\u001b[38;5;124m\"\u001b[39m, \u001b[38;5;124m\"\u001b[39m\u001b[38;5;124mr\u001b[39m\u001b[38;5;124m\"\u001b[39m) \u001b[38;5;28;01mas\u001b[39;00m file:\n\u001b[0;32m      2\u001b[0m     content \u001b[38;5;241m=\u001b[39m file\u001b[38;5;241m.\u001b[39mread()\n\u001b[0;32m      3\u001b[0m     char_count \u001b[38;5;241m=\u001b[39m \u001b[38;5;28mlen\u001b[39m(content\u001b[38;5;241m.\u001b[39mreplace(\u001b[38;5;124m\"\u001b[39m\u001b[38;5;124m \u001b[39m\u001b[38;5;124m\"\u001b[39m, \u001b[38;5;124m\"\u001b[39m\u001b[38;5;124m\"\u001b[39m))\n",
      "File \u001b[1;32m~\\anaconda3\\New folder\\Lib\\site-packages\\IPython\\core\\interactiveshell.py:324\u001b[0m, in \u001b[0;36m_modified_open\u001b[1;34m(file, *args, **kwargs)\u001b[0m\n\u001b[0;32m    317\u001b[0m \u001b[38;5;28;01mif\u001b[39;00m file \u001b[38;5;129;01min\u001b[39;00m {\u001b[38;5;241m0\u001b[39m, \u001b[38;5;241m1\u001b[39m, \u001b[38;5;241m2\u001b[39m}:\n\u001b[0;32m    318\u001b[0m     \u001b[38;5;28;01mraise\u001b[39;00m \u001b[38;5;167;01mValueError\u001b[39;00m(\n\u001b[0;32m    319\u001b[0m         \u001b[38;5;124mf\u001b[39m\u001b[38;5;124m\"\u001b[39m\u001b[38;5;124mIPython won\u001b[39m\u001b[38;5;124m'\u001b[39m\u001b[38;5;124mt let you open fd=\u001b[39m\u001b[38;5;132;01m{\u001b[39;00mfile\u001b[38;5;132;01m}\u001b[39;00m\u001b[38;5;124m by default \u001b[39m\u001b[38;5;124m\"\u001b[39m\n\u001b[0;32m    320\u001b[0m         \u001b[38;5;124m\"\u001b[39m\u001b[38;5;124mas it is likely to crash IPython. If you know what you are doing, \u001b[39m\u001b[38;5;124m\"\u001b[39m\n\u001b[0;32m    321\u001b[0m         \u001b[38;5;124m\"\u001b[39m\u001b[38;5;124myou can use builtins\u001b[39m\u001b[38;5;124m'\u001b[39m\u001b[38;5;124m open.\u001b[39m\u001b[38;5;124m\"\u001b[39m\n\u001b[0;32m    322\u001b[0m     )\n\u001b[1;32m--> 324\u001b[0m \u001b[38;5;28;01mreturn\u001b[39;00m io_open(file, \u001b[38;5;241m*\u001b[39margs, \u001b[38;5;241m*\u001b[39m\u001b[38;5;241m*\u001b[39mkwargs)\n",
      "\u001b[1;31mFileNotFoundError\u001b[0m: [Errno 2] No such file or directory: 'text.txt'"
     ]
    }
   ],
   "source": [
    "with open(\"text.txt\", \"r\") as file:\n",
    "    content = file.read()\n",
    "    char_count = len(content.replace(\" \", \"\"))\n",
    "    print(\"Character count (excluding spaces):\", char_count)\n"
   ]
  },
  {
   "cell_type": "markdown",
   "id": "86a6cec4-f5ab-4e85-b4e5-dd3116b525a0",
   "metadata": {},
   "source": [
    "# Exercise 36"
   ]
  },
  {
   "cell_type": "code",
   "execution_count": 54,
   "id": "f95b4704-9a0b-405c-961a-a91b8739b19b",
   "metadata": {},
   "outputs": [],
   "source": [
    "import os\n",
    "\n",
    "def is_file_empty(filepath):\n",
    "    return os.path.getsize(filepath) == 0\n"
   ]
  },
  {
   "cell_type": "markdown",
   "id": "74da512e-038a-41ad-ba1a-b6aee031632a",
   "metadata": {},
   "source": [
    "# Exercise 37"
   ]
  },
  {
   "cell_type": "code",
   "execution_count": 55,
   "id": "e4d97568-f005-4594-bce9-e16ddd28548a",
   "metadata": {},
   "outputs": [],
   "source": [
    "import string\n",
    "\n",
    "def remove_punctuation(filename):\n",
    "    with open(filename, \"r\") as file:\n",
    "        text = file.read()\n",
    "    \n",
    "    clean_text = text.translate(str.maketrans('', '', string.punctuation))\n",
    "    return clean_text\n"
   ]
  },
  {
   "cell_type": "markdown",
   "id": "d085d884-7383-4835-a376-de530ca08773",
   "metadata": {},
   "source": [
    "# Exercise 38"
   ]
  },
  {
   "cell_type": "code",
   "execution_count": 56,
   "id": "e6d9b85a-4921-4694-8a76-0d935e461bed",
   "metadata": {},
   "outputs": [],
   "source": [
    "def write_list_to_file(lines, filename):\n",
    "    with open(filename, \"w\") as file:\n",
    "        for line in lines:\n",
    "            file.write(line + \"\\n\")\n"
   ]
  },
  {
   "cell_type": "markdown",
   "id": "f6278a17-51db-4f7b-b400-2d4fa4057ac3",
   "metadata": {},
   "source": [
    "# Exercise 39"
   ]
  },
  {
   "cell_type": "code",
   "execution_count": 57,
   "id": "620a943d-9709-49c1-ae72-f274f578a625",
   "metadata": {},
   "outputs": [],
   "source": [
    "def count_lines_starting_with(filename, letter=\"A\"):\n",
    "    with open(filename, \"r\") as file:\n",
    "        return sum(1 for line in file if line.startswith(letter))\n"
   ]
  },
  {
   "cell_type": "markdown",
   "id": "f4de4401-794c-4b5d-8a14-157b394b72e2",
   "metadata": {},
   "source": [
    "# Exercise 40"
   ]
  },
  {
   "cell_type": "code",
   "execution_count": 58,
   "id": "a4e75640-aab7-46cb-af71-4299ac6d46db",
   "metadata": {},
   "outputs": [],
   "source": [
    "def write_reversed(string):\n",
    "    with open(\"output.txt\", \"w\") as file:\n",
    "        file.write(string[::-1])\n"
   ]
  },
  {
   "cell_type": "markdown",
   "id": "663413b3-1cac-43e1-a513-4cf92074dced",
   "metadata": {},
   "source": [
    "# Exercise 41"
   ]
  },
  {
   "cell_type": "code",
   "execution_count": 59,
   "id": "0354e67e-1c91-496a-be07-0fce975586f4",
   "metadata": {},
   "outputs": [
    {
     "ename": "FileNotFoundError",
     "evalue": "[Errno 2] No such file or directory: 'file.txt'",
     "output_type": "error",
     "traceback": [
      "\u001b[1;31m---------------------------------------------------------------------------\u001b[0m",
      "\u001b[1;31mFileNotFoundError\u001b[0m                         Traceback (most recent call last)",
      "Cell \u001b[1;32mIn[59], line 1\u001b[0m\n\u001b[1;32m----> 1\u001b[0m \u001b[38;5;28;01mwith\u001b[39;00m \u001b[38;5;28mopen\u001b[39m(\u001b[38;5;124m\"\u001b[39m\u001b[38;5;124mfile.txt\u001b[39m\u001b[38;5;124m\"\u001b[39m, \u001b[38;5;124m\"\u001b[39m\u001b[38;5;124mr\u001b[39m\u001b[38;5;124m\"\u001b[39m) \u001b[38;5;28;01mas\u001b[39;00m file:\n\u001b[0;32m      2\u001b[0m     \u001b[38;5;28;01mfor\u001b[39;00m line \u001b[38;5;129;01min\u001b[39;00m file:\n\u001b[0;32m      3\u001b[0m         \u001b[38;5;28;01mif\u001b[39;00m \u001b[38;5;124m\"\u001b[39m\u001b[38;5;124mPython\u001b[39m\u001b[38;5;124m\"\u001b[39m \u001b[38;5;129;01min\u001b[39;00m line:\n",
      "File \u001b[1;32m~\\anaconda3\\New folder\\Lib\\site-packages\\IPython\\core\\interactiveshell.py:324\u001b[0m, in \u001b[0;36m_modified_open\u001b[1;34m(file, *args, **kwargs)\u001b[0m\n\u001b[0;32m    317\u001b[0m \u001b[38;5;28;01mif\u001b[39;00m file \u001b[38;5;129;01min\u001b[39;00m {\u001b[38;5;241m0\u001b[39m, \u001b[38;5;241m1\u001b[39m, \u001b[38;5;241m2\u001b[39m}:\n\u001b[0;32m    318\u001b[0m     \u001b[38;5;28;01mraise\u001b[39;00m \u001b[38;5;167;01mValueError\u001b[39;00m(\n\u001b[0;32m    319\u001b[0m         \u001b[38;5;124mf\u001b[39m\u001b[38;5;124m\"\u001b[39m\u001b[38;5;124mIPython won\u001b[39m\u001b[38;5;124m'\u001b[39m\u001b[38;5;124mt let you open fd=\u001b[39m\u001b[38;5;132;01m{\u001b[39;00mfile\u001b[38;5;132;01m}\u001b[39;00m\u001b[38;5;124m by default \u001b[39m\u001b[38;5;124m\"\u001b[39m\n\u001b[0;32m    320\u001b[0m         \u001b[38;5;124m\"\u001b[39m\u001b[38;5;124mas it is likely to crash IPython. If you know what you are doing, \u001b[39m\u001b[38;5;124m\"\u001b[39m\n\u001b[0;32m    321\u001b[0m         \u001b[38;5;124m\"\u001b[39m\u001b[38;5;124myou can use builtins\u001b[39m\u001b[38;5;124m'\u001b[39m\u001b[38;5;124m open.\u001b[39m\u001b[38;5;124m\"\u001b[39m\n\u001b[0;32m    322\u001b[0m     )\n\u001b[1;32m--> 324\u001b[0m \u001b[38;5;28;01mreturn\u001b[39;00m io_open(file, \u001b[38;5;241m*\u001b[39margs, \u001b[38;5;241m*\u001b[39m\u001b[38;5;241m*\u001b[39mkwargs)\n",
      "\u001b[1;31mFileNotFoundError\u001b[0m: [Errno 2] No such file or directory: 'file.txt'"
     ]
    }
   ],
   "source": [
    "with open(\"file.txt\", \"r\") as file:\n",
    "    for line in file:\n",
    "        if \"Python\" in line:\n",
    "            print(line.strip())\n"
   ]
  },
  {
   "cell_type": "markdown",
   "id": "0ce81481-b88e-4208-831e-5752bef77306",
   "metadata": {},
   "source": [
    "# Exercise 42"
   ]
  },
  {
   "cell_type": "code",
   "execution_count": 60,
   "id": "b7ee4a2b-ebb1-4467-a93b-f7130dd7d69e",
   "metadata": {},
   "outputs": [],
   "source": [
    "def remove_digits_from_file(filename):\n",
    "    with open(filename, \"r\") as file:\n",
    "        text = file.read()\n",
    "\n",
    "    no_digits = ''.join(c for c in text if not c.isdigit())\n",
    "\n",
    "    with open(filename, \"w\") as file:\n",
    "        file.write(no_digits)\n"
   ]
  },
  {
   "cell_type": "markdown",
   "id": "20e4d824-89bd-403b-b4ec-483d76fa8a04",
   "metadata": {},
   "source": [
    "# Exercise 43"
   ]
  },
  {
   "cell_type": "code",
   "execution_count": 61,
   "id": "74a77189-011a-4da1-ab89-10c9c093ef3b",
   "metadata": {},
   "outputs": [
    {
     "ename": "FileNotFoundError",
     "evalue": "[Errno 2] No such file or directory: 'book.txt'",
     "output_type": "error",
     "traceback": [
      "\u001b[1;31m---------------------------------------------------------------------------\u001b[0m",
      "\u001b[1;31mFileNotFoundError\u001b[0m                         Traceback (most recent call last)",
      "Cell \u001b[1;32mIn[61], line 3\u001b[0m\n\u001b[0;32m      1\u001b[0m \u001b[38;5;28;01mfrom\u001b[39;00m \u001b[38;5;21;01mcollections\u001b[39;00m \u001b[38;5;28;01mimport\u001b[39;00m Counter\n\u001b[1;32m----> 3\u001b[0m \u001b[38;5;28;01mwith\u001b[39;00m \u001b[38;5;28mopen\u001b[39m(\u001b[38;5;124m\"\u001b[39m\u001b[38;5;124mbook.txt\u001b[39m\u001b[38;5;124m\"\u001b[39m, \u001b[38;5;124m\"\u001b[39m\u001b[38;5;124mr\u001b[39m\u001b[38;5;124m\"\u001b[39m) \u001b[38;5;28;01mas\u001b[39;00m file:\n\u001b[0;32m      4\u001b[0m     words \u001b[38;5;241m=\u001b[39m file\u001b[38;5;241m.\u001b[39mread()\u001b[38;5;241m.\u001b[39mlower()\u001b[38;5;241m.\u001b[39msplit()\n\u001b[0;32m      6\u001b[0m word_counts \u001b[38;5;241m=\u001b[39m Counter(words)\n",
      "File \u001b[1;32m~\\anaconda3\\New folder\\Lib\\site-packages\\IPython\\core\\interactiveshell.py:324\u001b[0m, in \u001b[0;36m_modified_open\u001b[1;34m(file, *args, **kwargs)\u001b[0m\n\u001b[0;32m    317\u001b[0m \u001b[38;5;28;01mif\u001b[39;00m file \u001b[38;5;129;01min\u001b[39;00m {\u001b[38;5;241m0\u001b[39m, \u001b[38;5;241m1\u001b[39m, \u001b[38;5;241m2\u001b[39m}:\n\u001b[0;32m    318\u001b[0m     \u001b[38;5;28;01mraise\u001b[39;00m \u001b[38;5;167;01mValueError\u001b[39;00m(\n\u001b[0;32m    319\u001b[0m         \u001b[38;5;124mf\u001b[39m\u001b[38;5;124m\"\u001b[39m\u001b[38;5;124mIPython won\u001b[39m\u001b[38;5;124m'\u001b[39m\u001b[38;5;124mt let you open fd=\u001b[39m\u001b[38;5;132;01m{\u001b[39;00mfile\u001b[38;5;132;01m}\u001b[39;00m\u001b[38;5;124m by default \u001b[39m\u001b[38;5;124m\"\u001b[39m\n\u001b[0;32m    320\u001b[0m         \u001b[38;5;124m\"\u001b[39m\u001b[38;5;124mas it is likely to crash IPython. If you know what you are doing, \u001b[39m\u001b[38;5;124m\"\u001b[39m\n\u001b[0;32m    321\u001b[0m         \u001b[38;5;124m\"\u001b[39m\u001b[38;5;124myou can use builtins\u001b[39m\u001b[38;5;124m'\u001b[39m\u001b[38;5;124m open.\u001b[39m\u001b[38;5;124m\"\u001b[39m\n\u001b[0;32m    322\u001b[0m     )\n\u001b[1;32m--> 324\u001b[0m \u001b[38;5;28;01mreturn\u001b[39;00m io_open(file, \u001b[38;5;241m*\u001b[39margs, \u001b[38;5;241m*\u001b[39m\u001b[38;5;241m*\u001b[39mkwargs)\n",
      "\u001b[1;31mFileNotFoundError\u001b[0m: [Errno 2] No such file or directory: 'book.txt'"
     ]
    }
   ],
   "source": [
    "from collections import Counter\n",
    "\n",
    "with open(\"book.txt\", \"r\") as file:\n",
    "    words = file.read().lower().split()\n",
    "\n",
    "word_counts = Counter(words)\n",
    "most_common = word_counts.most_common(1)\n",
    "print(\"Most frequent word:\", most_common[0][0])\n"
   ]
  },
  {
   "cell_type": "markdown",
   "id": "e75cb4e8-efa8-4678-bbaa-6faca5e26c7c",
   "metadata": {},
   "source": [
    "# Exercise 44"
   ]
  },
  {
   "cell_type": "code",
   "execution_count": 62,
   "id": "d69da82d-57df-49b5-8254-ecb2603148f7",
   "metadata": {},
   "outputs": [
    {
     "ename": "FileNotFoundError",
     "evalue": "[Errno 2] No such file or directory: 'file.txt'",
     "output_type": "error",
     "traceback": [
      "\u001b[1;31m---------------------------------------------------------------------------\u001b[0m",
      "\u001b[1;31mFileNotFoundError\u001b[0m                         Traceback (most recent call last)",
      "Cell \u001b[1;32mIn[62], line 1\u001b[0m\n\u001b[1;32m----> 1\u001b[0m \u001b[38;5;28;01mwith\u001b[39;00m \u001b[38;5;28mopen\u001b[39m(\u001b[38;5;124m\"\u001b[39m\u001b[38;5;124mfile.txt\u001b[39m\u001b[38;5;124m\"\u001b[39m, \u001b[38;5;124m\"\u001b[39m\u001b[38;5;124mr\u001b[39m\u001b[38;5;124m\"\u001b[39m) \u001b[38;5;28;01mas\u001b[39;00m file:\n\u001b[0;32m      2\u001b[0m     \u001b[38;5;28;01mfor\u001b[39;00m line \u001b[38;5;129;01min\u001b[39;00m file:\n\u001b[0;32m      3\u001b[0m         \u001b[38;5;28;01mif\u001b[39;00m \u001b[38;5;28mlen\u001b[39m(line\u001b[38;5;241m.\u001b[39msplit()) \u001b[38;5;241m==\u001b[39m \u001b[38;5;241m5\u001b[39m:\n",
      "File \u001b[1;32m~\\anaconda3\\New folder\\Lib\\site-packages\\IPython\\core\\interactiveshell.py:324\u001b[0m, in \u001b[0;36m_modified_open\u001b[1;34m(file, *args, **kwargs)\u001b[0m\n\u001b[0;32m    317\u001b[0m \u001b[38;5;28;01mif\u001b[39;00m file \u001b[38;5;129;01min\u001b[39;00m {\u001b[38;5;241m0\u001b[39m, \u001b[38;5;241m1\u001b[39m, \u001b[38;5;241m2\u001b[39m}:\n\u001b[0;32m    318\u001b[0m     \u001b[38;5;28;01mraise\u001b[39;00m \u001b[38;5;167;01mValueError\u001b[39;00m(\n\u001b[0;32m    319\u001b[0m         \u001b[38;5;124mf\u001b[39m\u001b[38;5;124m\"\u001b[39m\u001b[38;5;124mIPython won\u001b[39m\u001b[38;5;124m'\u001b[39m\u001b[38;5;124mt let you open fd=\u001b[39m\u001b[38;5;132;01m{\u001b[39;00mfile\u001b[38;5;132;01m}\u001b[39;00m\u001b[38;5;124m by default \u001b[39m\u001b[38;5;124m\"\u001b[39m\n\u001b[0;32m    320\u001b[0m         \u001b[38;5;124m\"\u001b[39m\u001b[38;5;124mas it is likely to crash IPython. If you know what you are doing, \u001b[39m\u001b[38;5;124m\"\u001b[39m\n\u001b[0;32m    321\u001b[0m         \u001b[38;5;124m\"\u001b[39m\u001b[38;5;124myou can use builtins\u001b[39m\u001b[38;5;124m'\u001b[39m\u001b[38;5;124m open.\u001b[39m\u001b[38;5;124m\"\u001b[39m\n\u001b[0;32m    322\u001b[0m     )\n\u001b[1;32m--> 324\u001b[0m \u001b[38;5;28;01mreturn\u001b[39;00m io_open(file, \u001b[38;5;241m*\u001b[39margs, \u001b[38;5;241m*\u001b[39m\u001b[38;5;241m*\u001b[39mkwargs)\n",
      "\u001b[1;31mFileNotFoundError\u001b[0m: [Errno 2] No such file or directory: 'file.txt'"
     ]
    }
   ],
   "source": [
    "with open(\"file.txt\", \"r\") as file:\n",
    "    for line in file:\n",
    "        if len(line.split()) == 5:\n",
    "            print(line.strip())\n"
   ]
  },
  {
   "cell_type": "markdown",
   "id": "0eee2c2e-82f8-4c17-af1a-0d95525881dc",
   "metadata": {},
   "source": [
    "# Exercise 45"
   ]
  },
  {
   "cell_type": "code",
   "execution_count": 63,
   "id": "0ebcf8bf-54f3-4841-9821-d3a2f34794d5",
   "metadata": {},
   "outputs": [
    {
     "ename": "FileNotFoundError",
     "evalue": "[Errno 2] No such file or directory: 'file.txt'",
     "output_type": "error",
     "traceback": [
      "\u001b[1;31m---------------------------------------------------------------------------\u001b[0m",
      "\u001b[1;31mFileNotFoundError\u001b[0m                         Traceback (most recent call last)",
      "Cell \u001b[1;32mIn[63], line 1\u001b[0m\n\u001b[1;32m----> 1\u001b[0m \u001b[38;5;28;01mwith\u001b[39;00m \u001b[38;5;28mopen\u001b[39m(\u001b[38;5;124m\"\u001b[39m\u001b[38;5;124mfile.txt\u001b[39m\u001b[38;5;124m\"\u001b[39m, \u001b[38;5;124m\"\u001b[39m\u001b[38;5;124mr\u001b[39m\u001b[38;5;124m\"\u001b[39m) \u001b[38;5;28;01mas\u001b[39;00m file:\n\u001b[0;32m      2\u001b[0m     lines \u001b[38;5;241m=\u001b[39m file\u001b[38;5;241m.\u001b[39mreadlines()\n\u001b[0;32m      3\u001b[0m     \u001b[38;5;28;01mif\u001b[39;00m lines:\n",
      "File \u001b[1;32m~\\anaconda3\\New folder\\Lib\\site-packages\\IPython\\core\\interactiveshell.py:324\u001b[0m, in \u001b[0;36m_modified_open\u001b[1;34m(file, *args, **kwargs)\u001b[0m\n\u001b[0;32m    317\u001b[0m \u001b[38;5;28;01mif\u001b[39;00m file \u001b[38;5;129;01min\u001b[39;00m {\u001b[38;5;241m0\u001b[39m, \u001b[38;5;241m1\u001b[39m, \u001b[38;5;241m2\u001b[39m}:\n\u001b[0;32m    318\u001b[0m     \u001b[38;5;28;01mraise\u001b[39;00m \u001b[38;5;167;01mValueError\u001b[39;00m(\n\u001b[0;32m    319\u001b[0m         \u001b[38;5;124mf\u001b[39m\u001b[38;5;124m\"\u001b[39m\u001b[38;5;124mIPython won\u001b[39m\u001b[38;5;124m'\u001b[39m\u001b[38;5;124mt let you open fd=\u001b[39m\u001b[38;5;132;01m{\u001b[39;00mfile\u001b[38;5;132;01m}\u001b[39;00m\u001b[38;5;124m by default \u001b[39m\u001b[38;5;124m\"\u001b[39m\n\u001b[0;32m    320\u001b[0m         \u001b[38;5;124m\"\u001b[39m\u001b[38;5;124mas it is likely to crash IPython. If you know what you are doing, \u001b[39m\u001b[38;5;124m\"\u001b[39m\n\u001b[0;32m    321\u001b[0m         \u001b[38;5;124m\"\u001b[39m\u001b[38;5;124myou can use builtins\u001b[39m\u001b[38;5;124m'\u001b[39m\u001b[38;5;124m open.\u001b[39m\u001b[38;5;124m\"\u001b[39m\n\u001b[0;32m    322\u001b[0m     )\n\u001b[1;32m--> 324\u001b[0m \u001b[38;5;28;01mreturn\u001b[39;00m io_open(file, \u001b[38;5;241m*\u001b[39margs, \u001b[38;5;241m*\u001b[39m\u001b[38;5;241m*\u001b[39mkwargs)\n",
      "\u001b[1;31mFileNotFoundError\u001b[0m: [Errno 2] No such file or directory: 'file.txt'"
     ]
    }
   ],
   "source": [
    "with open(\"file.txt\", \"r\") as file:\n",
    "    lines = file.readlines()\n",
    "    if lines:\n",
    "        print(\"First line:\", lines[0].strip())\n",
    "        print(\"Last line:\", lines[-1].strip())\n"
   ]
  },
  {
   "cell_type": "markdown",
   "id": "e1bc6e34-a85f-404d-adef-3b6e2f3a4527",
   "metadata": {},
   "source": [
    "# Exercise 46"
   ]
  },
  {
   "cell_type": "code",
   "execution_count": 64,
   "id": "d7cd6f9c-5181-4c5f-b135-82ad12f43ccf",
   "metadata": {},
   "outputs": [],
   "source": [
    "def is_writable(filename):\n",
    "    return os.access(filename, os.W_OK)\n"
   ]
  },
  {
   "cell_type": "markdown",
   "id": "d98f45bb-73b4-4449-8309-afb43b9f5ee3",
   "metadata": {},
   "source": [
    "# Exercise 47"
   ]
  },
  {
   "cell_type": "code",
   "execution_count": 65,
   "id": "463ee019-20d8-44c5-9b0b-46f7cfe34284",
   "metadata": {},
   "outputs": [],
   "source": [
    "def unique_word_count(filename):\n",
    "    with open(filename, \"r\") as file:\n",
    "        words = file.read().lower().split()\n",
    "        return len(set(words))\n"
   ]
  },
  {
   "cell_type": "markdown",
   "id": "76c101e8-6ea5-4ea4-9021-83578ed97c48",
   "metadata": {},
   "source": [
    "# Exercise 48"
   ]
  },
  {
   "cell_type": "code",
   "execution_count": 66,
   "id": "46c22a00-03e3-4d3e-9b1e-1fe0391b0849",
   "metadata": {},
   "outputs": [
    {
     "ename": "FileNotFoundError",
     "evalue": "[Errno 2] No such file or directory: 'file.txt'",
     "output_type": "error",
     "traceback": [
      "\u001b[1;31m---------------------------------------------------------------------------\u001b[0m",
      "\u001b[1;31mFileNotFoundError\u001b[0m                         Traceback (most recent call last)",
      "Cell \u001b[1;32mIn[66], line 1\u001b[0m\n\u001b[1;32m----> 1\u001b[0m \u001b[38;5;28;01mwith\u001b[39;00m \u001b[38;5;28mopen\u001b[39m(\u001b[38;5;124m\"\u001b[39m\u001b[38;5;124mfile.txt\u001b[39m\u001b[38;5;124m\"\u001b[39m, \u001b[38;5;124m\"\u001b[39m\u001b[38;5;124mr\u001b[39m\u001b[38;5;124m\"\u001b[39m) \u001b[38;5;28;01mas\u001b[39;00m file:\n\u001b[0;32m      2\u001b[0m     lines \u001b[38;5;241m=\u001b[39m file\u001b[38;5;241m.\u001b[39mreadlines()\n\u001b[0;32m      3\u001b[0m     \u001b[38;5;28;01mfor\u001b[39;00m line \u001b[38;5;129;01min\u001b[39;00m \u001b[38;5;28mreversed\u001b[39m(lines):\n",
      "File \u001b[1;32m~\\anaconda3\\New folder\\Lib\\site-packages\\IPython\\core\\interactiveshell.py:324\u001b[0m, in \u001b[0;36m_modified_open\u001b[1;34m(file, *args, **kwargs)\u001b[0m\n\u001b[0;32m    317\u001b[0m \u001b[38;5;28;01mif\u001b[39;00m file \u001b[38;5;129;01min\u001b[39;00m {\u001b[38;5;241m0\u001b[39m, \u001b[38;5;241m1\u001b[39m, \u001b[38;5;241m2\u001b[39m}:\n\u001b[0;32m    318\u001b[0m     \u001b[38;5;28;01mraise\u001b[39;00m \u001b[38;5;167;01mValueError\u001b[39;00m(\n\u001b[0;32m    319\u001b[0m         \u001b[38;5;124mf\u001b[39m\u001b[38;5;124m\"\u001b[39m\u001b[38;5;124mIPython won\u001b[39m\u001b[38;5;124m'\u001b[39m\u001b[38;5;124mt let you open fd=\u001b[39m\u001b[38;5;132;01m{\u001b[39;00mfile\u001b[38;5;132;01m}\u001b[39;00m\u001b[38;5;124m by default \u001b[39m\u001b[38;5;124m\"\u001b[39m\n\u001b[0;32m    320\u001b[0m         \u001b[38;5;124m\"\u001b[39m\u001b[38;5;124mas it is likely to crash IPython. If you know what you are doing, \u001b[39m\u001b[38;5;124m\"\u001b[39m\n\u001b[0;32m    321\u001b[0m         \u001b[38;5;124m\"\u001b[39m\u001b[38;5;124myou can use builtins\u001b[39m\u001b[38;5;124m'\u001b[39m\u001b[38;5;124m open.\u001b[39m\u001b[38;5;124m\"\u001b[39m\n\u001b[0;32m    322\u001b[0m     )\n\u001b[1;32m--> 324\u001b[0m \u001b[38;5;28;01mreturn\u001b[39;00m io_open(file, \u001b[38;5;241m*\u001b[39margs, \u001b[38;5;241m*\u001b[39m\u001b[38;5;241m*\u001b[39mkwargs)\n",
      "\u001b[1;31mFileNotFoundError\u001b[0m: [Errno 2] No such file or directory: 'file.txt'"
     ]
    }
   ],
   "source": [
    "with open(\"file.txt\", \"r\") as file:\n",
    "    lines = file.readlines()\n",
    "    for line in reversed(lines):\n",
    "        print(line.strip())\n"
   ]
  },
  {
   "cell_type": "markdown",
   "id": "de07a1d6-1a05-4ba3-8838-1f483d86f4ff",
   "metadata": {},
   "source": [
    "# Exercise 49"
   ]
  },
  {
   "cell_type": "code",
   "execution_count": 67,
   "id": "1bb30c2b-9806-4dd5-94de-68c6847218bf",
   "metadata": {},
   "outputs": [],
   "source": [
    "from collections import Counter\n",
    "import string\n",
    "\n",
    "def most_common_letter(filename):\n",
    "    with open(filename, \"r\") as file:\n",
    "        text = file.read().lower()\n",
    "\n",
    "    letters = [c for c in text if c in string.ascii_lowercase]\n",
    "    freq = Counter(letters)\n",
    "    return freq.most_common(1)[0][0]\n"
   ]
  },
  {
   "cell_type": "markdown",
   "id": "ffbb64aa-a635-4587-9949-f77747532949",
   "metadata": {},
   "source": [
    "# Exercise 50"
   ]
  },
  {
   "cell_type": "code",
   "execution_count": 68,
   "id": "bd444fa9-55c4-4538-a492-6d65c59f1327",
   "metadata": {},
   "outputs": [
    {
     "ename": "FileNotFoundError",
     "evalue": "[Errno 2] No such file or directory: 'file.txt'",
     "output_type": "error",
     "traceback": [
      "\u001b[1;31m---------------------------------------------------------------------------\u001b[0m",
      "\u001b[1;31mFileNotFoundError\u001b[0m                         Traceback (most recent call last)",
      "Cell \u001b[1;32mIn[68], line 1\u001b[0m\n\u001b[1;32m----> 1\u001b[0m \u001b[38;5;28;01mwith\u001b[39;00m \u001b[38;5;28mopen\u001b[39m(\u001b[38;5;124m\"\u001b[39m\u001b[38;5;124mfile.txt\u001b[39m\u001b[38;5;124m\"\u001b[39m, \u001b[38;5;124m\"\u001b[39m\u001b[38;5;124mr\u001b[39m\u001b[38;5;124m\"\u001b[39m) \u001b[38;5;28;01mas\u001b[39;00m file:\n\u001b[0;32m      2\u001b[0m     content \u001b[38;5;241m=\u001b[39m file\u001b[38;5;241m.\u001b[39mread()\n\u001b[0;32m      4\u001b[0m content \u001b[38;5;241m=\u001b[39m content\u001b[38;5;241m.\u001b[39mreplace(\u001b[38;5;124m\"\u001b[39m\u001b[38;5;124mPython\u001b[39m\u001b[38;5;124m\"\u001b[39m, \u001b[38;5;124m\"\u001b[39m\u001b[38;5;124mJava\u001b[39m\u001b[38;5;124m\"\u001b[39m)\n",
      "File \u001b[1;32m~\\anaconda3\\New folder\\Lib\\site-packages\\IPython\\core\\interactiveshell.py:324\u001b[0m, in \u001b[0;36m_modified_open\u001b[1;34m(file, *args, **kwargs)\u001b[0m\n\u001b[0;32m    317\u001b[0m \u001b[38;5;28;01mif\u001b[39;00m file \u001b[38;5;129;01min\u001b[39;00m {\u001b[38;5;241m0\u001b[39m, \u001b[38;5;241m1\u001b[39m, \u001b[38;5;241m2\u001b[39m}:\n\u001b[0;32m    318\u001b[0m     \u001b[38;5;28;01mraise\u001b[39;00m \u001b[38;5;167;01mValueError\u001b[39;00m(\n\u001b[0;32m    319\u001b[0m         \u001b[38;5;124mf\u001b[39m\u001b[38;5;124m\"\u001b[39m\u001b[38;5;124mIPython won\u001b[39m\u001b[38;5;124m'\u001b[39m\u001b[38;5;124mt let you open fd=\u001b[39m\u001b[38;5;132;01m{\u001b[39;00mfile\u001b[38;5;132;01m}\u001b[39;00m\u001b[38;5;124m by default \u001b[39m\u001b[38;5;124m\"\u001b[39m\n\u001b[0;32m    320\u001b[0m         \u001b[38;5;124m\"\u001b[39m\u001b[38;5;124mas it is likely to crash IPython. If you know what you are doing, \u001b[39m\u001b[38;5;124m\"\u001b[39m\n\u001b[0;32m    321\u001b[0m         \u001b[38;5;124m\"\u001b[39m\u001b[38;5;124myou can use builtins\u001b[39m\u001b[38;5;124m'\u001b[39m\u001b[38;5;124m open.\u001b[39m\u001b[38;5;124m\"\u001b[39m\n\u001b[0;32m    322\u001b[0m     )\n\u001b[1;32m--> 324\u001b[0m \u001b[38;5;28;01mreturn\u001b[39;00m io_open(file, \u001b[38;5;241m*\u001b[39margs, \u001b[38;5;241m*\u001b[39m\u001b[38;5;241m*\u001b[39mkwargs)\n",
      "\u001b[1;31mFileNotFoundError\u001b[0m: [Errno 2] No such file or directory: 'file.txt'"
     ]
    }
   ],
   "source": [
    "with open(\"file.txt\", \"r\") as file:\n",
    "    content = file.read()\n",
    "\n",
    "content = content.replace(\"Python\", \"Java\")\n",
    "\n",
    "with open(\"file.txt\", \"w\") as file:\n",
    "    file.write(content)\n"
   ]
  },
  {
   "cell_type": "code",
   "execution_count": null,
   "id": "79a5c771-5713-4ef5-b47e-967ada9c16d3",
   "metadata": {},
   "outputs": [],
   "source": []
  }
 ],
 "metadata": {
  "kernelspec": {
   "display_name": "Python 3 (ipykernel)",
   "language": "python",
   "name": "python3"
  },
  "language_info": {
   "codemirror_mode": {
    "name": "ipython",
    "version": 3
   },
   "file_extension": ".py",
   "mimetype": "text/x-python",
   "name": "python",
   "nbconvert_exporter": "python",
   "pygments_lexer": "ipython3",
   "version": "3.12.7"
  }
 },
 "nbformat": 4,
 "nbformat_minor": 5
}
