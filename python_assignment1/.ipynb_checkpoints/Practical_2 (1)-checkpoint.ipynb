{
 "cells": [
  {
   "cell_type": "markdown",
   "id": "d68c1dee",
   "metadata": {},
   "source": [
    "# Practical_2: String and files"
   ]
  },
  {
   "cell_type": "markdown",
   "id": "bea983a3",
   "metadata": {},
   "source": [
    "---\n",
    "\n",
    "### Exercise 1:\n",
    "Create a string variable `text` and assign it the value `\"Python is amazing!\"`.\n",
    "\n",
    "```python\n",
    "# Exercise 1\n",
    "```\n",
    "\n",
    "---\n",
    "\n",
    "### Exercise 2:\n",
    "Find the length of the string `\"Hello, World!\"` and store it in a variable `length`.\n",
    "\n",
    "```python\n",
    "# Exercise 2\n",
    "```\n",
    "\n",
    "---\n",
    "\n",
    "### Exercise 3:\n",
    "Convert the string `\"python programming\"` to uppercase and store it in a variable `upper_text`.\n",
    "\n",
    "```python\n",
    "# Exercise 3\n",
    "```\n",
    "\n",
    "---\n",
    "\n",
    "### Exercise 4:\n",
    "Extract the first 5 characters from the string `\"Artificial Intelligence\"`.\n",
    "\n",
    "```python\n",
    "# Exercise 4\n",
    "```\n",
    "\n",
    "---\n",
    "\n",
    "### Exercise 5:\n",
    "Concatenate the strings `\"Hello\"` and `\"World\"` with a space in between.\n",
    "\n",
    "```python\n",
    "# Exercise 5\n",
    "```\n",
    "\n",
    "---\n",
    "\n",
    "### Exercise 6:\n",
    "Replace the word `\"dog\"` with `\"cat\"` in the string `\"The quick brown dog jumps over the lazy dog.\"`.\n",
    "\n",
    "```python\n",
    "# Exercise 6\n",
    "```\n",
    "\n",
    "---\n",
    "\n",
    "### Exercise 7:\n",
    "Split the string `\"apple,banana,orange\"` by commas and store the result in a list `fruits_list`.\n",
    "\n",
    "```python\n",
    "# Exercise 7\n",
    "```\n",
    "\n",
    "---\n",
    "\n",
    "### Exercise 8:\n",
    "Use string formatting to create the sentence `\"My name is Alice and I am 25 years old.\"`, where the name and age are variables.\n",
    "\n",
    "```python\n",
    "# Exercise 8\n",
    "```\n",
    "\n",
    "---\n",
    "\n",
    "### Exercise 9:\n",
    "Check if the string `\"python\"` is present in the sentence `\"I love python programming\"`.\n",
    "\n",
    "```python\n",
    "# Exercise 9\n",
    "```\n",
    "\n",
    "---\n",
    "\n",
    "### Exercise 10:\n",
    "Count the number of occurrences of the letter `\"e\"` in the string `\"Elephant is an elegant animal\"`.\n",
    "\n",
    "```python\n",
    "# Exercise 10\n",
    "```\n",
    "\n",
    "---\n",
    "\n",
    "### Exercise 11:\n",
    "Remove any leading and trailing spaces from the string `\"   Data Science   \"`.\n",
    "\n",
    "```python\n",
    "# Exercise 11\n",
    "```\n",
    "\n",
    "---\n",
    "\n",
    "### Exercise 12:\n",
    "Convert the string `\"100\"` into an integer and store it in a variable `int_value`.\n",
    "\n",
    "```python\n",
    "# Exercise 12\n",
    "```\n",
    "\n",
    "---\n",
    "\n",
    "### Exercise 13:\n",
    "Extract the substring `\"pro\"` from the string `\"programming\"`.\n",
    "\n",
    "```python\n",
    "# Exercise 13\n",
    "```\n",
    "\n",
    "---\n",
    "\n",
    "### Exercise 14:\n",
    "Check if the string `\"data\"` starts with `\"da\"` and ends with `\"ta\"`.\n",
    "\n",
    "```python\n",
    "# Exercise 14\n",
    "```\n",
    "\n",
    "---\n",
    "\n",
    "### Exercise 15:\n",
    "Reverse the string `\"machine learning\"` and store the result in `reversed_text`.\n",
    "\n",
    "```python\n",
    "# Exercise 15\n",
    "```\n",
    "\n",
    "---\n",
    "\n",
    "### Exercise 16:\n",
    "Convert the first letter of each word in the string `\"machine learning is fun\"` to uppercase.\n",
    "\n",
    "```python\n",
    "# Exercise 16\n",
    "```\n",
    "\n",
    "---\n",
    "\n",
    "### Exercise 17:\n",
    "Create a multiline string representing a poem and store it in a variable `poem`.\n",
    "\n",
    "```python\n",
    "# Exercise 17\n",
    "```\n",
    "\n",
    "---\n",
    "\n",
    "### Exercise 18:\n",
    "Write a string to a file named `\"output.txt\"`.\n",
    "\n",
    "```python\n",
    "# Exercise 18\n",
    "```\n",
    "\n",
    "---\n",
    "\n",
    "### Exercise 19:\n",
    "Read the contents of a file named `\"data.txt\"` and print it line by line.\n",
    "\n",
    "```python\n",
    "# Exercise 19\n",
    "```\n",
    "\n",
    "---\n",
    "\n",
    "### Exercise 20:\n",
    "Check if a file `\"example.txt\"` exists before opening it.\n",
    "\n",
    "```python\n",
    "# Exercise 20\n",
    "```\n",
    "\n",
    "---\n",
    "\n",
    "### Exercise 21:\n",
    "Append a new line `\"This is a new line\"` to an existing file `\"notes.txt\"`.\n",
    "\n",
    "```python\n",
    "# Exercise 21\n",
    "```\n",
    "\n",
    "---\n",
    "\n",
    "### Exercise 22:\n",
    "Read the contents of a file `\"log.txt\"` and store each line in a list `log_lines`.\n",
    "\n",
    "```python\n",
    "# Exercise 22\n",
    "```\n",
    "\n",
    "---\n",
    "\n",
    "### Exercise 23:\n",
    "Create a new file `\"report.txt\"` and write the string `\"Data analysis report\"` to it.\n",
    "\n",
    "```python\n",
    "# Exercise 23\n",
    "```\n",
    "\n",
    "---\n",
    "\n",
    "### Exercise 24:\n",
    "Replace the word `\"error\"` with `\"issue\"` in a file `\"log.txt\"`.\n",
    "\n",
    "```python\n",
    "# Exercise 24\n",
    "```\n",
    "\n",
    "---\n",
    "\n",
    "### Exercise 25:\n",
    "Count the number of words in a text file `\"document.txt\"`.\n",
    "\n",
    "```python\n",
    "# Exercise 25\n",
    "```\n",
    "\n",
    "---\n",
    "\n",
    "### Exercise 26:\n",
    "Write a Python script that reads a file `\"essay.txt\"` and prints the total number of lines, words, and characters.\n",
    "\n",
    "```python\n",
    "# Exercise 26\n",
    "```\n",
    "\n",
    "---\n",
    "\n",
    "### Exercise 27:\n",
    "Copy the contents of one file `\"source.txt\"` to another file `\"destination.txt\"`.\n",
    "\n",
    "```python\n",
    "# Exercise 27\n",
    "```\n",
    "\n",
    "---\n",
    "\n",
    "### Exercise 28:\n",
    "Write a Python function that takes a filename as input and returns the number of lines in the file.\n",
    "\n",
    "```python\n",
    "# Exercise 28\n",
    "```\n",
    "\n",
    "---\n",
    "\n",
    "### Exercise 29:\n",
    "Extract all the words from a text file `\"article.txt\"` that contain more than 5 characters.\n",
    "\n",
    "```python\n",
    "# Exercise 29\n",
    "```\n",
    "\n",
    "---\n",
    "\n",
    "### Exercise 30:\n",
    "Convert the contents of a file `\"notes.txt\"` to uppercase and save the result in another file `\"uppercase_notes.txt\"`.\n",
    "\n",
    "```python\n",
    "# Exercise 30\n",
    "```\n",
    "\n",
    "---\n",
    "\n",
    "### Exercise 31:\n",
    "Write a Python script that reads a file and removes all empty lines.\n",
    "\n",
    "```python\n",
    "# Exercise 31\n",
    "```\n",
    "\n",
    "---\n",
    "\n",
    "### Exercise 32:\n",
    "Open a file `\"config.txt\"` in both read and write mode.\n",
    "\n",
    "```python\n",
    "# Exercise 32\n",
    "```\n",
    "\n",
    "---\n",
    "\n",
    "### Exercise 33:\n",
    "Write a Python function that reads a file and prints the longest line in the file.\n",
    "\n",
    "```python\n",
    "# Exercise 33\n",
    "```\n",
    "\n",
    "---\n",
    "\n",
    "### Exercise 34:\n",
    "Write a Python script to count the frequency of each letter in a text file `\"message.txt\"`.\n",
    "\n",
    "```python\n",
    "# Exercise 34\n",
    "```\n",
    "\n",
    "---\n",
    "\n",
    "### Exercise 35:\n",
    "Write a Python script that reads a file and prints the total number of characters, excluding spaces.\n",
    "\n",
    "```python\n",
    "# Exercise 35\n",
    "```\n",
    "\n",
    "---\n",
    "\n",
    "### Exercise 36:\n",
    "Create a Python script to check whether a file is empty or not.\n",
    "\n",
    "```python\n",
    "# Exercise 36\n",
    "```\n",
    "\n",
    "---\n",
    "\n",
    "### Exercise 37:\n",
    "Write a Python function that reads a file and removes all punctuation marks from the text.\n",
    "\n",
    "```python\n",
    "# Exercise 37\n",
    "```\n",
    "\n",
    "---\n",
    "\n",
    "### Exercise 38:\n",
    "Create a Python function that writes a list of strings to a file, each string on a new line.\n",
    "\n",
    "```python\n",
    "# Exercise 38\n",
    "```\n",
    "\n",
    "---\n",
    "\n",
    "### Exercise 39:\n",
    "Write a Python script to count the number of lines that start with a specific letter (e.g., \"A\") in a text file.\n",
    "\n",
    "```python\n",
    "# Exercise 39\n",
    "```\n",
    "\n",
    "---\n",
    "\n",
    "### Exercise 40:\n",
    "Write a Python function that takes a string as input and writes it to a file `\"output.txt\"` in reverse order.\n",
    "\n",
    "```python\n",
    "# Exercise 40\n",
    "```\n",
    "\n",
    "---\n",
    "\n",
    "### Exercise 41:\n",
    "Write a Python script that reads a file and prints all the lines that contain the word `\"Python\"`.\n",
    "\n",
    "```python\n",
    "# Exercise 41\n",
    "```\n",
    "\n",
    "---\n",
    "\n",
    "### Exercise 42:\n",
    "Write a Python script that opens a file and removes all numeric digits from the file's content.\n",
    "\n",
    "```python\n",
    "# Exercise 42\n",
    "```\n",
    "\n",
    "---\n",
    "\n",
    "### Exercise 43:\n",
    "Write a Python script to find the most frequent word in a text file `\"book.txt\"`.\n",
    "\n",
    "```python\n",
    "# Exercise 43\n",
    "```\n",
    "\n",
    "---\n",
    "\n",
    "### Exercise 44:\n",
    "Write a Python script that reads a file and prints all the lines that contain exactly 5 words.\n",
    "\n",
    "```python\n",
    "# Exercise 44\n",
    "```\n",
    "\n",
    "---\n",
    "\n",
    "### Exercise 45:\n",
    "Write a Python script to read a file and print the first and last line of the file.\n",
    "\n",
    "```python\n",
    "# Exercise 45\n",
    "```\n",
    "\n",
    "---\n",
    "\n",
    "### Exercise 46:\n",
    "Write a Python script that checks if a file `\"students.txt\"` is writable.\n",
    "\n",
    "```python\n",
    "# Exercise 46\n",
    "```\n",
    "\n",
    "---\n",
    "\n",
    "### Exercise 47:\n",
    "Create a Python function that opens a file and returns the number of unique words in the file.\n",
    "\n",
    "```python\n",
    "# Exercise 47\n",
    "```\n",
    "\n",
    "---\n",
    "\n",
    "### Exercise 48:\n",
    "Write a Python script that reads a file and prints all lines in reverse order.\n",
    "\n",
    "```python\n",
    "# Exercise 48\n",
    "```\n",
    "\n",
    "---\n",
    "\n",
    "### Exercise 49:\n",
    "Write a Python function that reads a file and returns the most common letter in the text.\n",
    "\n",
    "```python\n",
    "# Exercise 49\n",
    "```\n",
    "\n",
    "---\n",
    "\n",
    "### Exercise 50:\n",
    "Write a Python script that reads a file and replaces every occurrence of `\"Python\"` with `\"Java\"`.\n",
    "\n",
    "```python\n",
    "# Exercise 50\n",
    "```\n",
    "\n",
    "---\n",
    "\n"
   ]
  },
  {
   "cell_type": "markdown",
   "id": "f0abcc5b-6de4-4445-90d6-618a255690ac",
   "metadata": {},
   "source": [
    "# Exercise 1"
   ]
  },
  {
   "cell_type": "code",
   "execution_count": 3,
   "id": "8b80a545-cbe2-46eb-9177-b1e38a2c6b5c",
   "metadata": {},
   "outputs": [],
   "source": [
    "text = \"Python is amazing!\""
   ]
  },
  {
   "cell_type": "markdown",
   "id": "e1a94118-1dfc-4364-b635-7d03d91c8698",
   "metadata": {},
   "source": [
    "# Exercise 2"
   ]
  },
  {
   "cell_type": "code",
   "execution_count": 4,
   "id": "5051bc1f-fa04-4cd1-8d3a-c8aedd7b75d4",
   "metadata": {},
   "outputs": [],
   "source": [
    "text = \"Hello, World!\"\n",
    "length = len(text)"
   ]
  },
  {
   "cell_type": "markdown",
   "id": "519b8530-fcd7-41a9-9ac0-682f3899b3b7",
   "metadata": {},
   "source": [
    "# Exercise 3"
   ]
  },
  {
   "cell_type": "code",
   "execution_count": 5,
   "id": "f2ea954e-ed8d-47f4-8856-fe667a30355b",
   "metadata": {},
   "outputs": [],
   "source": [
    "text = \"python programming\"\n",
    "upper_text = text.upper()"
   ]
  },
  {
   "cell_type": "markdown",
   "id": "074eb000-c25b-4170-bad0-b644ccd8297d",
   "metadata": {},
   "source": [
    "# Exercise 4"
   ]
  },
  {
   "cell_type": "code",
   "execution_count": 8,
   "id": "b73cd402-0e6d-4e10-bf11-c8c862220128",
   "metadata": {},
   "outputs": [],
   "source": [
    "text = \"Artificial Intelligence\"\n",
    "first_five = text[:5]"
   ]
  },
  {
   "cell_type": "markdown",
   "id": "fc04dee1-2463-4c4b-85a9-e5dbaddf60e2",
   "metadata": {},
   "source": [
    "# Exercise 5"
   ]
  },
  {
   "cell_type": "code",
   "execution_count": 9,
   "id": "4ca547e8-d6a0-4339-913f-1f3aefec502b",
   "metadata": {},
   "outputs": [],
   "source": [
    "greeting = \"Hello\" + \" \" + \"World\""
   ]
  },
  {
   "cell_type": "markdown",
   "id": "ce1d7429-b819-4eba-a4f9-871452b04258",
   "metadata": {},
   "source": [
    "# Exercise 6"
   ]
  },
  {
   "cell_type": "code",
   "execution_count": 10,
   "id": "6feee0fc-3be7-47af-b357-dac39bf677c1",
   "metadata": {},
   "outputs": [],
   "source": [
    "text = \"The quick brown dog jumps over the lazy dog.\"\n",
    "text = text.replace(\"dog\", \"cat\")\n"
   ]
  },
  {
   "cell_type": "markdown",
   "id": "f87c61fd-6949-4606-a479-9dd5012c9def",
   "metadata": {},
   "source": [
    "# Exercise 7"
   ]
  },
  {
   "cell_type": "code",
   "execution_count": 11,
   "id": "e591d283-b2f9-4bea-83a5-6128ad7aa238",
   "metadata": {},
   "outputs": [],
   "source": [
    "fruits = \"apple, banana, orange\"\n",
    "fruits_list = fruits.split(\",\")"
   ]
  },
  {
   "cell_type": "markdown",
   "id": "af69d57a-eaab-41a5-b809-9cd8d39eb669",
   "metadata": {},
   "source": [
    "# Exercise 8"
   ]
  },
  {
   "cell_type": "code",
   "execution_count": 12,
   "id": "5cc87758-e092-4c97-aed2-8f569f6757d7",
   "metadata": {},
   "outputs": [],
   "source": [
    "name = \"Alice\"\n",
    "age = 25\n",
    "sentence = f\"My name is {name} and I am {30} years old.\""
   ]
  },
  {
   "cell_type": "markdown",
   "id": "cc653c49-b9e3-4e28-a515-eb9b2dc6bfda",
   "metadata": {},
   "source": [
    "# Exercise 9"
   ]
  },
  {
   "cell_type": "code",
   "execution_count": 13,
   "id": "7b4bb117-b269-419a-ab8c-56a67913320d",
   "metadata": {},
   "outputs": [
    {
     "data": {
      "text/plain": [
       "True"
      ]
     },
     "execution_count": 13,
     "metadata": {},
     "output_type": "execute_result"
    }
   ],
   "source": [
    "\"python\" in \"I love python programming\""
   ]
  },
  {
   "cell_type": "markdown",
   "id": "ba4e45c3-7603-4adb-9f89-d395d58f671a",
   "metadata": {},
   "source": [
    "# Exercise 10"
   ]
  },
  {
   "cell_type": "code",
   "execution_count": 14,
   "id": "ff6c462f-b0e9-4d33-a7c8-031c69a2c2cb",
   "metadata": {},
   "outputs": [],
   "source": [
    "text = \"Elephant is an elegant animal\"\n",
    "count_e = text.count(\"e\")"
   ]
  },
  {
   "cell_type": "markdown",
   "id": "ba8706a6-8af6-44f7-9202-1d7577fc5471",
   "metadata": {},
   "source": [
    "# Exercise 11"
   ]
  },
  {
   "cell_type": "code",
   "execution_count": 15,
   "id": "ba745959-75e3-45b9-b215-35618fe7de06",
   "metadata": {},
   "outputs": [],
   "source": [
    "text = \" Data Science \"\n",
    "cleaned = text.strip()"
   ]
  },
  {
   "cell_type": "markdown",
   "id": "fad36913-5643-466e-8048-0e094606e153",
   "metadata": {},
   "source": [
    "# Exercise 12"
   ]
  },
  {
   "cell_type": "code",
   "execution_count": 16,
   "id": "ec30b6d3-9b90-412d-a8ae-98ae5ed19f60",
   "metadata": {},
   "outputs": [],
   "source": [
    "int_value = int(\"100\")"
   ]
  },
  {
   "cell_type": "markdown",
   "id": "cc1f6256-9b0c-4a6d-91e3-3ae14dc6135c",
   "metadata": {},
   "source": [
    "# Exercise 13"
   ]
  },
  {
   "cell_type": "code",
   "execution_count": 17,
   "id": "b87bbdb5-5355-4d76-a196-b3a81e7801bd",
   "metadata": {},
   "outputs": [],
   "source": [
    "substring = \"programming\"[0:3]"
   ]
  },
  {
   "cell_type": "markdown",
   "id": "834bac3c-e278-434d-814c-ff4102dfb1d6",
   "metadata": {},
   "source": [
    "# Exercise 14"
   ]
  },
  {
   "cell_type": "code",
   "execution_count": 18,
   "id": "1751c9f8-f27b-49bd-bd08-848c39ab4d12",
   "metadata": {},
   "outputs": [],
   "source": [
    "s = \"data\"\n",
    "starts = s.startswith(\"da\")\n",
    "ends = s.endswith(\"ta\")"
   ]
  },
  {
   "cell_type": "markdown",
   "id": "975b0528-4e73-45df-86b2-d46205658500",
   "metadata": {},
   "source": [
    "# Exercise 15"
   ]
  },
  {
   "cell_type": "code",
   "execution_count": 19,
   "id": "0f8e781c-2892-4b72-a445-c7aa89855da7",
   "metadata": {},
   "outputs": [],
   "source": [
    "reversed_text = \"machine learning\"[::-1]"
   ]
  },
  {
   "cell_type": "markdown",
   "id": "b9cc8c8a-b8db-4525-a130-b60f9bf1f34e",
   "metadata": {},
   "source": [
    "# Exercise 16"
   ]
  },
  {
   "cell_type": "code",
   "execution_count": 20,
   "id": "5e0e1206-6afc-47e1-b080-5f4e410b2195",
   "metadata": {},
   "outputs": [],
   "source": [
    "reversed_text = \"machine learning\"[::-1]"
   ]
  },
  {
   "cell_type": "markdown",
   "id": "5ff69647-a750-406b-96a1-bb8245f8abda",
   "metadata": {},
   "source": [
    "# Exercise 17"
   ]
  },
  {
   "cell_type": "code",
   "execution_count": 21,
   "id": "da0358b6-080e-4dea-9bda-d0a5216aa2c1",
   "metadata": {},
   "outputs": [],
   "source": [
    "poem = \"\"\" Roses are red,\n",
    "Violets are blue,\n",
    "Python is powerful,\n",
    "And so are you.\"\"\""
   ]
  },
  {
   "cell_type": "markdown",
   "id": "3d36c89c-a6bf-4ea0-91e1-75e5024cd1df",
   "metadata": {},
   "source": [
    "# Exercise 18"
   ]
  },
  {
   "cell_type": "code",
   "execution_count": 22,
   "id": "051bad6b-f300-432a-8f54-feef0944defd",
   "metadata": {},
   "outputs": [],
   "source": [
    "with open(\"output.txt\", \"w\") as f:\n",
    "    f.write(\"Hello, World!\")"
   ]
  },
  {
   "cell_type": "markdown",
   "id": "10942ea0-8c5c-46a0-9831-dfbd70ee47f7",
   "metadata": {},
   "source": [
    "# Exercise 19"
   ]
  },
  {
   "cell_type": "code",
   "execution_count": 23,
   "id": "3d8f4700-84f5-46c6-92db-8576da9f89fc",
   "metadata": {},
   "outputs": [
    {
     "name": "stdout",
     "output_type": "stream",
     "text": [
      "Name,Age,Score\n",
      "Alice,23,85\n",
      "Bob,30,90\n",
      "Charlie,25,88\n"
     ]
    }
   ],
   "source": [
    "with open(\"data.txt\", \"r\") as file:\n",
    "    for line in file:\n",
    "        print(line.strip())"
   ]
  },
  {
   "cell_type": "markdown",
   "id": "a1f3d32f-ad84-4f83-add0-a147125292bc",
   "metadata": {},
   "source": [
    "# Exercise 20"
   ]
  },
  {
   "cell_type": "code",
   "execution_count": 24,
   "id": "55a720b6-2bef-4301-a0c7-1f663764b955",
   "metadata": {},
   "outputs": [],
   "source": [
    "import os\n",
    "if os.path.exists(\"example.txt\"):\n",
    "    with open(\"example.txt\") as f:\n",
    "        content = f.read()"
   ]
  },
  {
   "cell_type": "markdown",
   "id": "e67734c3-d67e-479b-8f97-e6858d330e56",
   "metadata": {},
   "source": [
    "# Exercise 21"
   ]
  },
  {
   "cell_type": "code",
   "execution_count": 25,
   "id": "9ffe5049-274a-4b8d-9834-c329ed22c383",
   "metadata": {},
   "outputs": [],
   "source": [
    "with open(\"notes.txt\", \"a\") as f:\n",
    "    f.write(\"\\nThis is a new line\")"
   ]
  },
  {
   "cell_type": "markdown",
   "id": "d5b80550-ac5a-44fe-baae-c543751b01b8",
   "metadata": {},
   "source": [
    "# Exercise 22"
   ]
  },
  {
   "cell_type": "code",
   "execution_count": 26,
   "id": "53307f93-05e8-4133-8aea-c72d9d3e63fc",
   "metadata": {},
   "outputs": [],
   "source": [
    "with open(\"log.txt\", \"r\") as file:\n",
    "    log_lines = file.readlines()"
   ]
  },
  {
   "cell_type": "markdown",
   "id": "57e0c4a0-37da-4827-89d3-8930a806a4ee",
   "metadata": {},
   "source": [
    "# Exercise 23"
   ]
  },
  {
   "cell_type": "code",
   "execution_count": 27,
   "id": "ad5c0928-d97f-40a1-9d7c-19032034c019",
   "metadata": {},
   "outputs": [],
   "source": [
    "with open(\"report.txt\", \"w\") as f:\n",
    "    f.write(\"Data analysis report\")\n"
   ]
  },
  {
   "cell_type": "markdown",
   "id": "03a1a07d-e0b9-46b4-b3da-748134efc2f5",
   "metadata": {},
   "source": [
    "# Exercise 24"
   ]
  },
  {
   "cell_type": "code",
   "execution_count": 28,
   "id": "de69b366-65dd-4de4-bd55-d99c9b42c14d",
   "metadata": {},
   "outputs": [],
   "source": [
    "with open(\"log.txt\", \"r\") as file:\n",
    "    content = file.read()\n",
    "\n",
    "content = content.replace(\"error\", \"issue\")\n",
    "\n",
    "with open(\"log.txt\", \"w\") as file:\n",
    "    file.write(content)"
   ]
  },
  {
   "cell_type": "markdown",
   "id": "c190c773-5364-4840-9ab2-d6d32aced9a6",
   "metadata": {},
   "source": [
    "# Exercise 25"
   ]
  },
  {
   "cell_type": "code",
   "execution_count": 29,
   "id": "5febc314-8048-409a-be69-71523166d2ee",
   "metadata": {},
   "outputs": [],
   "source": [
    "with open(\"document.txt\", \"r\") as f:\n",
    "    text = f.read()\n",
    "    word_count = len(text.split())\n"
   ]
  },
  {
   "cell_type": "markdown",
   "id": "200e3e6a-1011-4de4-8c51-d8879b63788d",
   "metadata": {},
   "source": [
    "# Exercise 26"
   ]
  },
  {
   "cell_type": "code",
   "execution_count": 30,
   "id": "dc4d002f-e618-4d07-876e-58e48539fc22",
   "metadata": {},
   "outputs": [
    {
     "name": "stdout",
     "output_type": "stream",
     "text": [
      "Lines: 1\n",
      "Words: 10\n",
      "Characters: 66\n"
     ]
    }
   ],
   "source": [
    "with open(\"essay.txt\", \"r\") as f:\n",
    "    text = f.read()\n",
    "    lines = text.splitlines()\n",
    "    words = text.split()\n",
    "    characters = len(text)\n",
    "\n",
    "print(\"Lines:\", len(lines))\n",
    "print(\"Words:\", len(words))\n",
    "print(\"Characters:\", characters)"
   ]
  },
  {
   "cell_type": "markdown",
   "id": "39e3018b-12df-44ae-89a9-f35972e55250",
   "metadata": {},
   "source": [
    "# Exercise 27"
   ]
  },
  {
   "cell_type": "code",
   "execution_count": 31,
   "id": "89906c95-7b3b-497a-88ef-f541d647d455",
   "metadata": {},
   "outputs": [
    {
     "ename": "FileNotFoundError",
     "evalue": "[Errno 2] No such file or directory: 'source.txt'",
     "output_type": "error",
     "traceback": [
      "\u001b[1;31m---------------------------------------------------------------------------\u001b[0m",
      "\u001b[1;31mFileNotFoundError\u001b[0m                         Traceback (most recent call last)",
      "Cell \u001b[1;32mIn[31], line 1\u001b[0m\n\u001b[1;32m----> 1\u001b[0m \u001b[38;5;28;01mwith\u001b[39;00m \u001b[38;5;28mopen\u001b[39m(\u001b[38;5;124m\"\u001b[39m\u001b[38;5;124msource.txt\u001b[39m\u001b[38;5;124m\"\u001b[39m, \u001b[38;5;124m\"\u001b[39m\u001b[38;5;124mr\u001b[39m\u001b[38;5;124m\"\u001b[39m) \u001b[38;5;28;01mas\u001b[39;00m source:\n\u001b[0;32m      2\u001b[0m     content \u001b[38;5;241m=\u001b[39m source\u001b[38;5;241m.\u001b[39mread()\n\u001b[0;32m      4\u001b[0m \u001b[38;5;28;01mwith\u001b[39;00m \u001b[38;5;28mopen\u001b[39m(\u001b[38;5;124m\"\u001b[39m\u001b[38;5;124mdestination.txt\u001b[39m\u001b[38;5;124m\"\u001b[39m, \u001b[38;5;124m\"\u001b[39m\u001b[38;5;124mw\u001b[39m\u001b[38;5;124m\"\u001b[39m) \u001b[38;5;28;01mas\u001b[39;00m destination:\n",
      "File \u001b[1;32m~\\anaconda3\\New folder\\Lib\\site-packages\\IPython\\core\\interactiveshell.py:324\u001b[0m, in \u001b[0;36m_modified_open\u001b[1;34m(file, *args, **kwargs)\u001b[0m\n\u001b[0;32m    317\u001b[0m \u001b[38;5;28;01mif\u001b[39;00m file \u001b[38;5;129;01min\u001b[39;00m {\u001b[38;5;241m0\u001b[39m, \u001b[38;5;241m1\u001b[39m, \u001b[38;5;241m2\u001b[39m}:\n\u001b[0;32m    318\u001b[0m     \u001b[38;5;28;01mraise\u001b[39;00m \u001b[38;5;167;01mValueError\u001b[39;00m(\n\u001b[0;32m    319\u001b[0m         \u001b[38;5;124mf\u001b[39m\u001b[38;5;124m\"\u001b[39m\u001b[38;5;124mIPython won\u001b[39m\u001b[38;5;124m'\u001b[39m\u001b[38;5;124mt let you open fd=\u001b[39m\u001b[38;5;132;01m{\u001b[39;00mfile\u001b[38;5;132;01m}\u001b[39;00m\u001b[38;5;124m by default \u001b[39m\u001b[38;5;124m\"\u001b[39m\n\u001b[0;32m    320\u001b[0m         \u001b[38;5;124m\"\u001b[39m\u001b[38;5;124mas it is likely to crash IPython. If you know what you are doing, \u001b[39m\u001b[38;5;124m\"\u001b[39m\n\u001b[0;32m    321\u001b[0m         \u001b[38;5;124m\"\u001b[39m\u001b[38;5;124myou can use builtins\u001b[39m\u001b[38;5;124m'\u001b[39m\u001b[38;5;124m open.\u001b[39m\u001b[38;5;124m\"\u001b[39m\n\u001b[0;32m    322\u001b[0m     )\n\u001b[1;32m--> 324\u001b[0m \u001b[38;5;28;01mreturn\u001b[39;00m io_open(file, \u001b[38;5;241m*\u001b[39margs, \u001b[38;5;241m*\u001b[39m\u001b[38;5;241m*\u001b[39mkwargs)\n",
      "\u001b[1;31mFileNotFoundError\u001b[0m: [Errno 2] No such file or directory: 'source.txt'"
     ]
    }
   ],
   "source": [
    "with open(\"source.txt\", \"r\") as source:\n",
    "    content = source.read()\n",
    "\n",
    "with open(\"destination.txt\", \"w\") as destination:\n",
    "    destination.write(content)\n"
   ]
  },
  {
   "cell_type": "markdown",
   "id": "e234f479-9997-46c7-a16d-d5457d30184b",
   "metadata": {},
   "source": [
    "# Exercise 28"
   ]
  },
  {
   "cell_type": "code",
   "execution_count": 32,
   "id": "2fb702bd-9144-4174-ba66-08b32498d20f",
   "metadata": {},
   "outputs": [],
   "source": [
    "def count_lines(filename):\n",
    "    with open(filename, \"r\") as file:\n",
    "        return len(file.readlines())\n"
   ]
  },
  {
   "cell_type": "markdown",
   "id": "ab141539-8f0c-41b4-a4c0-a4387424406f",
   "metadata": {},
   "source": [
    "# Exercise 29"
   ]
  },
  {
   "cell_type": "code",
   "execution_count": 33,
   "id": "3e0f4012-aeff-49d3-bc18-62863fbb6c08",
   "metadata": {},
   "outputs": [
    {
     "name": "stdout",
     "output_type": "stream",
     "text": [
      "['sample', 'article', 'applications.', 'multiple', 'lines.']\n"
     ]
    }
   ],
   "source": [
    "with open(\"article.txt\", \"r\") as file:\n",
    "    words = file.read().split()\n",
    "    long_words = [word for word in words if len(word) > 5]\n",
    "    print(long_words)"
   ]
  },
  {
   "cell_type": "markdown",
   "id": "ccaccbd2-c770-4f52-a4d8-4f8fc3745114",
   "metadata": {},
   "source": [
    "# Exercise 30"
   ]
  },
  {
   "cell_type": "code",
   "execution_count": 34,
   "id": "ec182507-e7ee-4fc3-b925-879e942f7533",
   "metadata": {},
   "outputs": [],
   "source": [
    "with open(\"notes.txt\", \"r\") as file:\n",
    "    content = file.read()\n",
    "\n",
    "with open(\"uppercase_notes.txt\", \"w\") as file:\n",
    "    file.write(content.upper())"
   ]
  },
  {
   "cell_type": "markdown",
   "id": "00f528f1-a04b-4276-92d1-e0c44ce1fdbb",
   "metadata": {},
   "source": [
    "# Exercise 31"
   ]
  },
  {
   "cell_type": "code",
   "execution_count": 35,
   "id": "934fc8e9-408c-45dc-ac36-996a08ed3ad2",
   "metadata": {},
   "outputs": [
    {
     "ename": "FileNotFoundError",
     "evalue": "[Errno 2] No such file or directory: 'input.txt'",
     "output_type": "error",
     "traceback": [
      "\u001b[1;31m---------------------------------------------------------------------------\u001b[0m",
      "\u001b[1;31mFileNotFoundError\u001b[0m                         Traceback (most recent call last)",
      "Cell \u001b[1;32mIn[35], line 1\u001b[0m\n\u001b[1;32m----> 1\u001b[0m \u001b[38;5;28;01mwith\u001b[39;00m \u001b[38;5;28mopen\u001b[39m(\u001b[38;5;124m\"\u001b[39m\u001b[38;5;124minput.txt\u001b[39m\u001b[38;5;124m\"\u001b[39m, \u001b[38;5;124m\"\u001b[39m\u001b[38;5;124mr\u001b[39m\u001b[38;5;124m\"\u001b[39m) \u001b[38;5;28;01mas\u001b[39;00m file:\n\u001b[0;32m      2\u001b[0m     lines \u001b[38;5;241m=\u001b[39m file\u001b[38;5;241m.\u001b[39mreadlines()\n\u001b[0;32m      4\u001b[0m non_empty \u001b[38;5;241m=\u001b[39m [line \u001b[38;5;28;01mfor\u001b[39;00m line \u001b[38;5;129;01min\u001b[39;00m lines \u001b[38;5;28;01mif\u001b[39;00m line\u001b[38;5;241m.\u001b[39mstrip()]\n",
      "File \u001b[1;32m~\\anaconda3\\New folder\\Lib\\site-packages\\IPython\\core\\interactiveshell.py:324\u001b[0m, in \u001b[0;36m_modified_open\u001b[1;34m(file, *args, **kwargs)\u001b[0m\n\u001b[0;32m    317\u001b[0m \u001b[38;5;28;01mif\u001b[39;00m file \u001b[38;5;129;01min\u001b[39;00m {\u001b[38;5;241m0\u001b[39m, \u001b[38;5;241m1\u001b[39m, \u001b[38;5;241m2\u001b[39m}:\n\u001b[0;32m    318\u001b[0m     \u001b[38;5;28;01mraise\u001b[39;00m \u001b[38;5;167;01mValueError\u001b[39;00m(\n\u001b[0;32m    319\u001b[0m         \u001b[38;5;124mf\u001b[39m\u001b[38;5;124m\"\u001b[39m\u001b[38;5;124mIPython won\u001b[39m\u001b[38;5;124m'\u001b[39m\u001b[38;5;124mt let you open fd=\u001b[39m\u001b[38;5;132;01m{\u001b[39;00mfile\u001b[38;5;132;01m}\u001b[39;00m\u001b[38;5;124m by default \u001b[39m\u001b[38;5;124m\"\u001b[39m\n\u001b[0;32m    320\u001b[0m         \u001b[38;5;124m\"\u001b[39m\u001b[38;5;124mas it is likely to crash IPython. If you know what you are doing, \u001b[39m\u001b[38;5;124m\"\u001b[39m\n\u001b[0;32m    321\u001b[0m         \u001b[38;5;124m\"\u001b[39m\u001b[38;5;124myou can use builtins\u001b[39m\u001b[38;5;124m'\u001b[39m\u001b[38;5;124m open.\u001b[39m\u001b[38;5;124m\"\u001b[39m\n\u001b[0;32m    322\u001b[0m     )\n\u001b[1;32m--> 324\u001b[0m \u001b[38;5;28;01mreturn\u001b[39;00m io_open(file, \u001b[38;5;241m*\u001b[39margs, \u001b[38;5;241m*\u001b[39m\u001b[38;5;241m*\u001b[39mkwargs)\n",
      "\u001b[1;31mFileNotFoundError\u001b[0m: [Errno 2] No such file or directory: 'input.txt'"
     ]
    }
   ],
   "source": [
    "with open(\"input.txt\", \"r\") as file:\n",
    "    lines = file.readlines()\n",
    "\n",
    "non_empty = [line for line in lines if line.strip()]\n",
    "\n",
    "with open(\"input.txt\", \"w\") as file:\n",
    "    file.writelines(non_empty)"
   ]
  },
  {
   "cell_type": "markdown",
   "id": "14a7cc9a-7139-4ef6-9c43-51c4cf901b12",
   "metadata": {},
   "source": [
    "# Exercise 32"
   ]
  },
  {
   "cell_type": "code",
   "execution_count": 36,
   "id": "139f67b0-4bc9-4a32-ad8c-12b29f46dcee",
   "metadata": {},
   "outputs": [
    {
     "name": "stdout",
     "output_type": "stream",
     "text": [
      "setting1=true\n",
      "setting2=false\n",
      "threshold=0.8\n",
      "\n"
     ]
    }
   ],
   "source": [
    "with open(\"config.txt\", \"r+\") as file:\n",
    "    content = file.read()\n",
    "    print(content)"
   ]
  },
  {
   "cell_type": "markdown",
   "id": "a18292f4-ecd2-4c37-8be7-0fb63b2b5b2a",
   "metadata": {},
   "source": [
    "# Exercise 33"
   ]
  },
  {
   "cell_type": "code",
   "execution_count": 37,
   "id": "9d6cea89-3b35-4283-a58a-945ec015d854",
   "metadata": {},
   "outputs": [],
   "source": [
    "def print_longest_line(filename):\n",
    "    with open(filename, \"r\") as file:\n",
    "        lines = file.readlines()\n",
    "        longest = max(lines, key=len)\n",
    "        print(longest.strip())"
   ]
  },
  {
   "cell_type": "markdown",
   "id": "74949f84-c6bd-4160-8d8e-127af484013a",
   "metadata": {},
   "source": [
    "# Exercise 34"
   ]
  },
  {
   "cell_type": "code",
   "execution_count": 38,
   "id": "4946bb7d-c027-4f4c-b17f-70ae395a2642",
   "metadata": {},
   "outputs": [
    {
     "name": "stdout",
     "output_type": "stream",
     "text": [
      "Counter({'e': 6, 's': 4, 'h': 3, 'l': 3, 'i': 3, 't': 2, 'a': 2, 'o': 1, 'r': 1, 'm': 1, 'g': 1, 'f': 1})\n"
     ]
    }
   ],
   "source": [
    "from collections import Counter\n",
    "import string\n",
    "\n",
    "with open(\"message.txt\", \"r\") as file:\n",
    "    text = file.read().lower()\n",
    "\n",
    "letters = [char for char in text if char in string.ascii_lowercase]\n",
    "freq = Counter(letters)\n",
    "\n",
    "print(freq)"
   ]
  },
  {
   "cell_type": "markdown",
   "id": "76cb156f-ea9a-4e5b-a833-bb84dd5e994b",
   "metadata": {},
   "source": [
    "# Exercise 35"
   ]
  },
  {
   "cell_type": "code",
   "execution_count": 39,
   "id": "a0f21a9e-e004-4a44-8fe0-c4e80072ef96",
   "metadata": {},
   "outputs": [
    {
     "ename": "FileNotFoundError",
     "evalue": "[Errno 2] No such file or directory: 'text.txt'",
     "output_type": "error",
     "traceback": [
      "\u001b[1;31m---------------------------------------------------------------------------\u001b[0m",
      "\u001b[1;31mFileNotFoundError\u001b[0m                         Traceback (most recent call last)",
      "Cell \u001b[1;32mIn[39], line 1\u001b[0m\n\u001b[1;32m----> 1\u001b[0m \u001b[38;5;28;01mwith\u001b[39;00m \u001b[38;5;28mopen\u001b[39m(\u001b[38;5;124m\"\u001b[39m\u001b[38;5;124mtext.txt\u001b[39m\u001b[38;5;124m\"\u001b[39m, \u001b[38;5;124m\"\u001b[39m\u001b[38;5;124mr\u001b[39m\u001b[38;5;124m\"\u001b[39m) \u001b[38;5;28;01mas\u001b[39;00m file:\n\u001b[0;32m      2\u001b[0m     content \u001b[38;5;241m=\u001b[39m file\u001b[38;5;241m.\u001b[39mread()\n\u001b[0;32m      3\u001b[0m     char_count \u001b[38;5;241m=\u001b[39m \u001b[38;5;28mlen\u001b[39m(content\u001b[38;5;241m.\u001b[39mreplace(\u001b[38;5;124m\"\u001b[39m\u001b[38;5;124m \u001b[39m\u001b[38;5;124m\"\u001b[39m, \u001b[38;5;124m\"\u001b[39m\u001b[38;5;124m\"\u001b[39m))\n",
      "File \u001b[1;32m~\\anaconda3\\New folder\\Lib\\site-packages\\IPython\\core\\interactiveshell.py:324\u001b[0m, in \u001b[0;36m_modified_open\u001b[1;34m(file, *args, **kwargs)\u001b[0m\n\u001b[0;32m    317\u001b[0m \u001b[38;5;28;01mif\u001b[39;00m file \u001b[38;5;129;01min\u001b[39;00m {\u001b[38;5;241m0\u001b[39m, \u001b[38;5;241m1\u001b[39m, \u001b[38;5;241m2\u001b[39m}:\n\u001b[0;32m    318\u001b[0m     \u001b[38;5;28;01mraise\u001b[39;00m \u001b[38;5;167;01mValueError\u001b[39;00m(\n\u001b[0;32m    319\u001b[0m         \u001b[38;5;124mf\u001b[39m\u001b[38;5;124m\"\u001b[39m\u001b[38;5;124mIPython won\u001b[39m\u001b[38;5;124m'\u001b[39m\u001b[38;5;124mt let you open fd=\u001b[39m\u001b[38;5;132;01m{\u001b[39;00mfile\u001b[38;5;132;01m}\u001b[39;00m\u001b[38;5;124m by default \u001b[39m\u001b[38;5;124m\"\u001b[39m\n\u001b[0;32m    320\u001b[0m         \u001b[38;5;124m\"\u001b[39m\u001b[38;5;124mas it is likely to crash IPython. If you know what you are doing, \u001b[39m\u001b[38;5;124m\"\u001b[39m\n\u001b[0;32m    321\u001b[0m         \u001b[38;5;124m\"\u001b[39m\u001b[38;5;124myou can use builtins\u001b[39m\u001b[38;5;124m'\u001b[39m\u001b[38;5;124m open.\u001b[39m\u001b[38;5;124m\"\u001b[39m\n\u001b[0;32m    322\u001b[0m     )\n\u001b[1;32m--> 324\u001b[0m \u001b[38;5;28;01mreturn\u001b[39;00m io_open(file, \u001b[38;5;241m*\u001b[39margs, \u001b[38;5;241m*\u001b[39m\u001b[38;5;241m*\u001b[39mkwargs)\n",
      "\u001b[1;31mFileNotFoundError\u001b[0m: [Errno 2] No such file or directory: 'text.txt'"
     ]
    }
   ],
   "source": [
    "with open(\"text.txt\", \"r\") as file:\n",
    "    content = file.read()\n",
    "    char_count = len(content.replace(\" \", \"\"))\n",
    "    print(\"Character count (excluding spaces):\", char_count)"
   ]
  },
  {
   "cell_type": "markdown",
   "id": "3043d6e1-10df-4634-974c-6c0a01a41bc6",
   "metadata": {},
   "source": [
    "# Exercise 36"
   ]
  },
  {
   "cell_type": "code",
   "execution_count": 40,
   "id": "a85ce562-92e5-4bb3-9c12-1b2a4bb69db8",
   "metadata": {},
   "outputs": [],
   "source": [
    "import os\n",
    "\n",
    "def is_file_empty(filepath):\n",
    "    return os.path.getsize(filepath) == 0\n"
   ]
  },
  {
   "cell_type": "markdown",
   "id": "db6e1212-d473-4d67-8eca-856334f6f6f9",
   "metadata": {},
   "source": [
    "# Exercise 37"
   ]
  },
  {
   "cell_type": "code",
   "execution_count": 41,
   "id": "426c649d-c0da-41d6-bbc8-668eb060b3cf",
   "metadata": {},
   "outputs": [],
   "source": [
    "import string\n",
    "\n",
    "def remove_punctuation(filename):\n",
    "    with open(filename, \"r\") as file:\n",
    "        text = file.read()\n",
    "    \n",
    "    clean_text = text.translate(str.maketrans('', '', string.punctuation))\n",
    "    return clean_text"
   ]
  },
  {
   "cell_type": "markdown",
   "id": "d1c470d4-0c30-433a-8662-d97c330c7e38",
   "metadata": {},
   "source": [
    "# Exercise 38"
   ]
  },
  {
   "cell_type": "code",
   "execution_count": 42,
   "id": "70ed7813-d14b-4b0f-8835-eb30963f0a3b",
   "metadata": {},
   "outputs": [],
   "source": [
    "def write_list_to_file(lines, filename):\n",
    "    with open(filename, \"w\") as file:\n",
    "        for line in lines:\n",
    "            file.write(line + \"\\n\")"
   ]
  },
  {
   "cell_type": "markdown",
   "id": "11b8ee72-428c-4cdb-9e62-3ce1835b8f26",
   "metadata": {},
   "source": [
    "# Exercise 39"
   ]
  },
  {
   "cell_type": "code",
   "execution_count": 43,
   "id": "b2d5bca5-d603-4598-a4a0-aceff2b64e6f",
   "metadata": {},
   "outputs": [],
   "source": [
    "def count_lines_starting_with(filename, letter=\"A\"):\n",
    "    with open(filename, \"r\") as file:\n",
    "        return sum(1 for line in file if line.startswith(letter))"
   ]
  },
  {
   "cell_type": "markdown",
   "id": "dfb50456-f112-4034-bfd5-061316af5db9",
   "metadata": {},
   "source": [
    "# Exercise 40"
   ]
  },
  {
   "cell_type": "code",
   "execution_count": 44,
   "id": "b28ed5b1-d88d-4429-a4ca-4673394e5584",
   "metadata": {},
   "outputs": [],
   "source": [
    "def write_reversed(string):\n",
    "    with open(\"output.txt\", \"w\") as file:\n",
    "        file.write(string[::-1])\n"
   ]
  },
  {
   "cell_type": "markdown",
   "id": "b8bc35fc-4028-4fa7-ad5a-50be08e5ef11",
   "metadata": {},
   "source": [
    "# Exercise 41"
   ]
  },
  {
   "cell_type": "code",
   "execution_count": 45,
   "id": "9a13c0c4-b594-491c-9f39-bdb135633893",
   "metadata": {},
   "outputs": [
    {
     "ename": "FileNotFoundError",
     "evalue": "[Errno 2] No such file or directory: 'file.txt'",
     "output_type": "error",
     "traceback": [
      "\u001b[1;31m---------------------------------------------------------------------------\u001b[0m",
      "\u001b[1;31mFileNotFoundError\u001b[0m                         Traceback (most recent call last)",
      "Cell \u001b[1;32mIn[45], line 1\u001b[0m\n\u001b[1;32m----> 1\u001b[0m \u001b[38;5;28;01mwith\u001b[39;00m \u001b[38;5;28mopen\u001b[39m(\u001b[38;5;124m\"\u001b[39m\u001b[38;5;124mfile.txt\u001b[39m\u001b[38;5;124m\"\u001b[39m, \u001b[38;5;124m\"\u001b[39m\u001b[38;5;124mr\u001b[39m\u001b[38;5;124m\"\u001b[39m) \u001b[38;5;28;01mas\u001b[39;00m file:\n\u001b[0;32m      2\u001b[0m     \u001b[38;5;28;01mfor\u001b[39;00m line \u001b[38;5;129;01min\u001b[39;00m file:\n\u001b[0;32m      3\u001b[0m         \u001b[38;5;28;01mif\u001b[39;00m \u001b[38;5;124m\"\u001b[39m\u001b[38;5;124mPython\u001b[39m\u001b[38;5;124m\"\u001b[39m \u001b[38;5;129;01min\u001b[39;00m line:\n",
      "File \u001b[1;32m~\\anaconda3\\New folder\\Lib\\site-packages\\IPython\\core\\interactiveshell.py:324\u001b[0m, in \u001b[0;36m_modified_open\u001b[1;34m(file, *args, **kwargs)\u001b[0m\n\u001b[0;32m    317\u001b[0m \u001b[38;5;28;01mif\u001b[39;00m file \u001b[38;5;129;01min\u001b[39;00m {\u001b[38;5;241m0\u001b[39m, \u001b[38;5;241m1\u001b[39m, \u001b[38;5;241m2\u001b[39m}:\n\u001b[0;32m    318\u001b[0m     \u001b[38;5;28;01mraise\u001b[39;00m \u001b[38;5;167;01mValueError\u001b[39;00m(\n\u001b[0;32m    319\u001b[0m         \u001b[38;5;124mf\u001b[39m\u001b[38;5;124m\"\u001b[39m\u001b[38;5;124mIPython won\u001b[39m\u001b[38;5;124m'\u001b[39m\u001b[38;5;124mt let you open fd=\u001b[39m\u001b[38;5;132;01m{\u001b[39;00mfile\u001b[38;5;132;01m}\u001b[39;00m\u001b[38;5;124m by default \u001b[39m\u001b[38;5;124m\"\u001b[39m\n\u001b[0;32m    320\u001b[0m         \u001b[38;5;124m\"\u001b[39m\u001b[38;5;124mas it is likely to crash IPython. If you know what you are doing, \u001b[39m\u001b[38;5;124m\"\u001b[39m\n\u001b[0;32m    321\u001b[0m         \u001b[38;5;124m\"\u001b[39m\u001b[38;5;124myou can use builtins\u001b[39m\u001b[38;5;124m'\u001b[39m\u001b[38;5;124m open.\u001b[39m\u001b[38;5;124m\"\u001b[39m\n\u001b[0;32m    322\u001b[0m     )\n\u001b[1;32m--> 324\u001b[0m \u001b[38;5;28;01mreturn\u001b[39;00m io_open(file, \u001b[38;5;241m*\u001b[39margs, \u001b[38;5;241m*\u001b[39m\u001b[38;5;241m*\u001b[39mkwargs)\n",
      "\u001b[1;31mFileNotFoundError\u001b[0m: [Errno 2] No such file or directory: 'file.txt'"
     ]
    }
   ],
   "source": [
    "with open(\"file.txt\", \"r\") as file:\n",
    "    for line in file:\n",
    "        if \"Python\" in line:\n",
    "            print(line.strip())\n"
   ]
  },
  {
   "cell_type": "markdown",
   "id": "256bea79-5bba-4ae5-b8f2-f3c46f6b937c",
   "metadata": {},
   "source": [
    "# Exercise 42"
   ]
  },
  {
   "cell_type": "code",
   "execution_count": 46,
   "id": "9f0d7349-b47c-4e61-afd3-65d4c17c8ec9",
   "metadata": {},
   "outputs": [],
   "source": [
    "def remove_digits_from_file(filename):\n",
    "    with open(filename, \"r\") as file:\n",
    "        text = file.read()\n",
    "\n",
    "    no_digits = ''.join(c for c in text if not c.isdigit())\n",
    "\n",
    "    with open(filename, \"w\") as file:\n",
    "        file.write(no_digits)"
   ]
  },
  {
   "cell_type": "markdown",
   "id": "2c6a30ca-d503-40b2-b317-0a808bda2641",
   "metadata": {},
   "source": [
    "# Exercise 43"
   ]
  },
  {
   "cell_type": "code",
   "execution_count": 47,
   "id": "f7761b4d-729d-4673-ac40-ef89e2101466",
   "metadata": {},
   "outputs": [
    {
     "name": "stdout",
     "output_type": "stream",
     "text": [
      "Most frequent word: a\n"
     ]
    }
   ],
   "source": [
    "from collections import Counter\n",
    "\n",
    "with open(\"book.txt\", \"r\") as file:\n",
    "    words = file.read().lower().split()\n",
    "\n",
    "word_counts = Counter(words)\n",
    "most_common = word_counts.most_common(1)\n",
    "print(\"Most frequent word:\", most_common[0][0])"
   ]
  },
  {
   "cell_type": "markdown",
   "id": "3ac2248f-9113-4716-b592-1fae5fbcf949",
   "metadata": {},
   "source": [
    "# Exercise 44"
   ]
  },
  {
   "cell_type": "code",
   "execution_count": 48,
   "id": "dfc61e03-6342-4e2f-816a-c3593a1fdc2b",
   "metadata": {},
   "outputs": [
    {
     "ename": "FileNotFoundError",
     "evalue": "[Errno 2] No such file or directory: 'file.txt'",
     "output_type": "error",
     "traceback": [
      "\u001b[1;31m---------------------------------------------------------------------------\u001b[0m",
      "\u001b[1;31mFileNotFoundError\u001b[0m                         Traceback (most recent call last)",
      "Cell \u001b[1;32mIn[48], line 1\u001b[0m\n\u001b[1;32m----> 1\u001b[0m \u001b[38;5;28;01mwith\u001b[39;00m \u001b[38;5;28mopen\u001b[39m(\u001b[38;5;124m\"\u001b[39m\u001b[38;5;124mfile.txt\u001b[39m\u001b[38;5;124m\"\u001b[39m, \u001b[38;5;124m\"\u001b[39m\u001b[38;5;124mr\u001b[39m\u001b[38;5;124m\"\u001b[39m) \u001b[38;5;28;01mas\u001b[39;00m file:\n\u001b[0;32m      2\u001b[0m     \u001b[38;5;28;01mfor\u001b[39;00m line \u001b[38;5;129;01min\u001b[39;00m file:\n\u001b[0;32m      3\u001b[0m         \u001b[38;5;28;01mif\u001b[39;00m \u001b[38;5;28mlen\u001b[39m(line\u001b[38;5;241m.\u001b[39msplit()) \u001b[38;5;241m==\u001b[39m \u001b[38;5;241m5\u001b[39m:\n",
      "File \u001b[1;32m~\\anaconda3\\New folder\\Lib\\site-packages\\IPython\\core\\interactiveshell.py:324\u001b[0m, in \u001b[0;36m_modified_open\u001b[1;34m(file, *args, **kwargs)\u001b[0m\n\u001b[0;32m    317\u001b[0m \u001b[38;5;28;01mif\u001b[39;00m file \u001b[38;5;129;01min\u001b[39;00m {\u001b[38;5;241m0\u001b[39m, \u001b[38;5;241m1\u001b[39m, \u001b[38;5;241m2\u001b[39m}:\n\u001b[0;32m    318\u001b[0m     \u001b[38;5;28;01mraise\u001b[39;00m \u001b[38;5;167;01mValueError\u001b[39;00m(\n\u001b[0;32m    319\u001b[0m         \u001b[38;5;124mf\u001b[39m\u001b[38;5;124m\"\u001b[39m\u001b[38;5;124mIPython won\u001b[39m\u001b[38;5;124m'\u001b[39m\u001b[38;5;124mt let you open fd=\u001b[39m\u001b[38;5;132;01m{\u001b[39;00mfile\u001b[38;5;132;01m}\u001b[39;00m\u001b[38;5;124m by default \u001b[39m\u001b[38;5;124m\"\u001b[39m\n\u001b[0;32m    320\u001b[0m         \u001b[38;5;124m\"\u001b[39m\u001b[38;5;124mas it is likely to crash IPython. If you know what you are doing, \u001b[39m\u001b[38;5;124m\"\u001b[39m\n\u001b[0;32m    321\u001b[0m         \u001b[38;5;124m\"\u001b[39m\u001b[38;5;124myou can use builtins\u001b[39m\u001b[38;5;124m'\u001b[39m\u001b[38;5;124m open.\u001b[39m\u001b[38;5;124m\"\u001b[39m\n\u001b[0;32m    322\u001b[0m     )\n\u001b[1;32m--> 324\u001b[0m \u001b[38;5;28;01mreturn\u001b[39;00m io_open(file, \u001b[38;5;241m*\u001b[39margs, \u001b[38;5;241m*\u001b[39m\u001b[38;5;241m*\u001b[39mkwargs)\n",
      "\u001b[1;31mFileNotFoundError\u001b[0m: [Errno 2] No such file or directory: 'file.txt'"
     ]
    }
   ],
   "source": [
    "with open(\"file.txt\", \"r\") as file:\n",
    "    for line in file:\n",
    "        if len(line.split()) == 5:\n",
    "            print(line.strip())"
   ]
  },
  {
   "cell_type": "markdown",
   "id": "2ecc100e-6b8d-496f-ae62-8d8585e1b248",
   "metadata": {},
   "source": [
    "# Exercise 45"
   ]
  },
  {
   "cell_type": "code",
   "execution_count": 49,
   "id": "5ef201a4-2a57-4ed0-93e0-878b7a2522c3",
   "metadata": {},
   "outputs": [
    {
     "ename": "FileNotFoundError",
     "evalue": "[Errno 2] No such file or directory: 'file.txt'",
     "output_type": "error",
     "traceback": [
      "\u001b[1;31m---------------------------------------------------------------------------\u001b[0m",
      "\u001b[1;31mFileNotFoundError\u001b[0m                         Traceback (most recent call last)",
      "Cell \u001b[1;32mIn[49], line 1\u001b[0m\n\u001b[1;32m----> 1\u001b[0m \u001b[38;5;28;01mwith\u001b[39;00m \u001b[38;5;28mopen\u001b[39m(\u001b[38;5;124m\"\u001b[39m\u001b[38;5;124mfile.txt\u001b[39m\u001b[38;5;124m\"\u001b[39m, \u001b[38;5;124m\"\u001b[39m\u001b[38;5;124mr\u001b[39m\u001b[38;5;124m\"\u001b[39m) \u001b[38;5;28;01mas\u001b[39;00m file:\n\u001b[0;32m      2\u001b[0m     lines \u001b[38;5;241m=\u001b[39m file\u001b[38;5;241m.\u001b[39mreadlines()\n\u001b[0;32m      3\u001b[0m     \u001b[38;5;28;01mif\u001b[39;00m lines:\n",
      "File \u001b[1;32m~\\anaconda3\\New folder\\Lib\\site-packages\\IPython\\core\\interactiveshell.py:324\u001b[0m, in \u001b[0;36m_modified_open\u001b[1;34m(file, *args, **kwargs)\u001b[0m\n\u001b[0;32m    317\u001b[0m \u001b[38;5;28;01mif\u001b[39;00m file \u001b[38;5;129;01min\u001b[39;00m {\u001b[38;5;241m0\u001b[39m, \u001b[38;5;241m1\u001b[39m, \u001b[38;5;241m2\u001b[39m}:\n\u001b[0;32m    318\u001b[0m     \u001b[38;5;28;01mraise\u001b[39;00m \u001b[38;5;167;01mValueError\u001b[39;00m(\n\u001b[0;32m    319\u001b[0m         \u001b[38;5;124mf\u001b[39m\u001b[38;5;124m\"\u001b[39m\u001b[38;5;124mIPython won\u001b[39m\u001b[38;5;124m'\u001b[39m\u001b[38;5;124mt let you open fd=\u001b[39m\u001b[38;5;132;01m{\u001b[39;00mfile\u001b[38;5;132;01m}\u001b[39;00m\u001b[38;5;124m by default \u001b[39m\u001b[38;5;124m\"\u001b[39m\n\u001b[0;32m    320\u001b[0m         \u001b[38;5;124m\"\u001b[39m\u001b[38;5;124mas it is likely to crash IPython. If you know what you are doing, \u001b[39m\u001b[38;5;124m\"\u001b[39m\n\u001b[0;32m    321\u001b[0m         \u001b[38;5;124m\"\u001b[39m\u001b[38;5;124myou can use builtins\u001b[39m\u001b[38;5;124m'\u001b[39m\u001b[38;5;124m open.\u001b[39m\u001b[38;5;124m\"\u001b[39m\n\u001b[0;32m    322\u001b[0m     )\n\u001b[1;32m--> 324\u001b[0m \u001b[38;5;28;01mreturn\u001b[39;00m io_open(file, \u001b[38;5;241m*\u001b[39margs, \u001b[38;5;241m*\u001b[39m\u001b[38;5;241m*\u001b[39mkwargs)\n",
      "\u001b[1;31mFileNotFoundError\u001b[0m: [Errno 2] No such file or directory: 'file.txt'"
     ]
    }
   ],
   "source": [
    "with open(\"file.txt\", \"r\") as file:\n",
    "    lines = file.readlines()\n",
    "    if lines:\n",
    "        print(\"First line:\", lines[0].strip())\n",
    "        print(\"Last line:\", lines[-1].strip())"
   ]
  },
  {
   "cell_type": "markdown",
   "id": "edaea860-377b-484f-8ff0-fc14e9540fa6",
   "metadata": {},
   "source": [
    "# Exercise 46"
   ]
  },
  {
   "cell_type": "code",
   "execution_count": 50,
   "id": "8cebdd3c-da1f-4f7b-811a-272649017783",
   "metadata": {},
   "outputs": [],
   "source": [
    "def is_writable(filename):\n",
    "    return os.access(filename, os.W_OK)"
   ]
  },
  {
   "cell_type": "markdown",
   "id": "a1c952d5-476e-4a8c-a083-ecaa74d2b64a",
   "metadata": {},
   "source": [
    "# Exercise 47"
   ]
  },
  {
   "cell_type": "code",
   "execution_count": 51,
   "id": "5c3dd002-091a-4f67-9634-a4a08cd538dc",
   "metadata": {},
   "outputs": [],
   "source": [
    "def unique_word_count(filename):\n",
    "    with open(filename, \"r\") as file:\n",
    "        words = file.read().lower().split()\n",
    "        return len(set(words))"
   ]
  },
  {
   "cell_type": "markdown",
   "id": "ba0cdfd4-a600-4336-968d-fd21905211f4",
   "metadata": {},
   "source": [
    "# Exercise 48"
   ]
  },
  {
   "cell_type": "code",
   "execution_count": 52,
   "id": "bd77c204-916b-4001-804b-1c4c93295a91",
   "metadata": {},
   "outputs": [
    {
     "ename": "FileNotFoundError",
     "evalue": "[Errno 2] No such file or directory: 'file.txt'",
     "output_type": "error",
     "traceback": [
      "\u001b[1;31m---------------------------------------------------------------------------\u001b[0m",
      "\u001b[1;31mFileNotFoundError\u001b[0m                         Traceback (most recent call last)",
      "Cell \u001b[1;32mIn[52], line 1\u001b[0m\n\u001b[1;32m----> 1\u001b[0m \u001b[38;5;28;01mwith\u001b[39;00m \u001b[38;5;28mopen\u001b[39m(\u001b[38;5;124m\"\u001b[39m\u001b[38;5;124mfile.txt\u001b[39m\u001b[38;5;124m\"\u001b[39m, \u001b[38;5;124m\"\u001b[39m\u001b[38;5;124mr\u001b[39m\u001b[38;5;124m\"\u001b[39m) \u001b[38;5;28;01mas\u001b[39;00m file:\n\u001b[0;32m      2\u001b[0m     lines \u001b[38;5;241m=\u001b[39m file\u001b[38;5;241m.\u001b[39mreadlines()\n\u001b[0;32m      3\u001b[0m     \u001b[38;5;28;01mfor\u001b[39;00m line \u001b[38;5;129;01min\u001b[39;00m \u001b[38;5;28mreversed\u001b[39m(lines):\n",
      "File \u001b[1;32m~\\anaconda3\\New folder\\Lib\\site-packages\\IPython\\core\\interactiveshell.py:324\u001b[0m, in \u001b[0;36m_modified_open\u001b[1;34m(file, *args, **kwargs)\u001b[0m\n\u001b[0;32m    317\u001b[0m \u001b[38;5;28;01mif\u001b[39;00m file \u001b[38;5;129;01min\u001b[39;00m {\u001b[38;5;241m0\u001b[39m, \u001b[38;5;241m1\u001b[39m, \u001b[38;5;241m2\u001b[39m}:\n\u001b[0;32m    318\u001b[0m     \u001b[38;5;28;01mraise\u001b[39;00m \u001b[38;5;167;01mValueError\u001b[39;00m(\n\u001b[0;32m    319\u001b[0m         \u001b[38;5;124mf\u001b[39m\u001b[38;5;124m\"\u001b[39m\u001b[38;5;124mIPython won\u001b[39m\u001b[38;5;124m'\u001b[39m\u001b[38;5;124mt let you open fd=\u001b[39m\u001b[38;5;132;01m{\u001b[39;00mfile\u001b[38;5;132;01m}\u001b[39;00m\u001b[38;5;124m by default \u001b[39m\u001b[38;5;124m\"\u001b[39m\n\u001b[0;32m    320\u001b[0m         \u001b[38;5;124m\"\u001b[39m\u001b[38;5;124mas it is likely to crash IPython. If you know what you are doing, \u001b[39m\u001b[38;5;124m\"\u001b[39m\n\u001b[0;32m    321\u001b[0m         \u001b[38;5;124m\"\u001b[39m\u001b[38;5;124myou can use builtins\u001b[39m\u001b[38;5;124m'\u001b[39m\u001b[38;5;124m open.\u001b[39m\u001b[38;5;124m\"\u001b[39m\n\u001b[0;32m    322\u001b[0m     )\n\u001b[1;32m--> 324\u001b[0m \u001b[38;5;28;01mreturn\u001b[39;00m io_open(file, \u001b[38;5;241m*\u001b[39margs, \u001b[38;5;241m*\u001b[39m\u001b[38;5;241m*\u001b[39mkwargs)\n",
      "\u001b[1;31mFileNotFoundError\u001b[0m: [Errno 2] No such file or directory: 'file.txt'"
     ]
    }
   ],
   "source": [
    "with open(\"file.txt\", \"r\") as file:\n",
    "    lines = file.readlines()\n",
    "    for line in reversed(lines):\n",
    "        print(line.strip())\n"
   ]
  },
  {
   "cell_type": "markdown",
   "id": "9f7a7cff-f51a-4967-ac8f-68116962da24",
   "metadata": {},
   "source": [
    "# Exercise 49"
   ]
  },
  {
   "cell_type": "code",
   "execution_count": 53,
   "id": "abf894f9-2db2-4517-99a8-3d6a943185d1",
   "metadata": {},
   "outputs": [],
   "source": [
    "from collections import Counter\n",
    "import string\n",
    "\n",
    "def most_common_letter(filename):\n",
    "    with open(filename, \"r\") as file:\n",
    "        text = file.read().lower()\n",
    "\n",
    "    letters = [c for c in text if c in string.ascii_lowercase]\n",
    "    freq = Counter(letters)\n",
    "    return freq.most_common(1)[0][0]"
   ]
  },
  {
   "cell_type": "markdown",
   "id": "0e9a1e88-8c98-486a-91bd-f52f198cbe8e",
   "metadata": {},
   "source": [
    "# Exercise 50"
   ]
  },
  {
   "cell_type": "code",
   "execution_count": 55,
   "id": "6c133b7b-f084-41f4-9b36-8d9ee5664dbb",
   "metadata": {},
   "outputs": [
    {
     "ename": "FileNotFoundError",
     "evalue": "[Errno 2] No such file or directory: 'file.txt'",
     "output_type": "error",
     "traceback": [
      "\u001b[1;31m---------------------------------------------------------------------------\u001b[0m",
      "\u001b[1;31mFileNotFoundError\u001b[0m                         Traceback (most recent call last)",
      "Cell \u001b[1;32mIn[55], line 1\u001b[0m\n\u001b[1;32m----> 1\u001b[0m \u001b[38;5;28;01mwith\u001b[39;00m \u001b[38;5;28mopen\u001b[39m(\u001b[38;5;124m\"\u001b[39m\u001b[38;5;124mfile.txt\u001b[39m\u001b[38;5;124m\"\u001b[39m, \u001b[38;5;124m\"\u001b[39m\u001b[38;5;124mr\u001b[39m\u001b[38;5;124m\"\u001b[39m) \u001b[38;5;28;01mas\u001b[39;00m f:\n\u001b[0;32m      2\u001b[0m     updated_content \u001b[38;5;241m=\u001b[39m f\u001b[38;5;241m.\u001b[39mread()\u001b[38;5;241m.\u001b[39mreplace(\u001b[38;5;124m\"\u001b[39m\u001b[38;5;124mPython\u001b[39m\u001b[38;5;124m\"\u001b[39m, \u001b[38;5;124m\"\u001b[39m\u001b[38;5;124mJava\u001b[39m\u001b[38;5;124m\"\u001b[39m)\n\u001b[0;32m      3\u001b[0m \u001b[38;5;28;01mwith\u001b[39;00m \u001b[38;5;28mopen\u001b[39m(\u001b[38;5;124m\"\u001b[39m\u001b[38;5;124mfile.txt\u001b[39m\u001b[38;5;124m\"\u001b[39m, \u001b[38;5;124m\"\u001b[39m\u001b[38;5;124mw\u001b[39m\u001b[38;5;124m\"\u001b[39m) \u001b[38;5;28;01mas\u001b[39;00m f:\n",
      "File \u001b[1;32m~\\anaconda3\\New folder\\Lib\\site-packages\\IPython\\core\\interactiveshell.py:324\u001b[0m, in \u001b[0;36m_modified_open\u001b[1;34m(file, *args, **kwargs)\u001b[0m\n\u001b[0;32m    317\u001b[0m \u001b[38;5;28;01mif\u001b[39;00m file \u001b[38;5;129;01min\u001b[39;00m {\u001b[38;5;241m0\u001b[39m, \u001b[38;5;241m1\u001b[39m, \u001b[38;5;241m2\u001b[39m}:\n\u001b[0;32m    318\u001b[0m     \u001b[38;5;28;01mraise\u001b[39;00m \u001b[38;5;167;01mValueError\u001b[39;00m(\n\u001b[0;32m    319\u001b[0m         \u001b[38;5;124mf\u001b[39m\u001b[38;5;124m\"\u001b[39m\u001b[38;5;124mIPython won\u001b[39m\u001b[38;5;124m'\u001b[39m\u001b[38;5;124mt let you open fd=\u001b[39m\u001b[38;5;132;01m{\u001b[39;00mfile\u001b[38;5;132;01m}\u001b[39;00m\u001b[38;5;124m by default \u001b[39m\u001b[38;5;124m\"\u001b[39m\n\u001b[0;32m    320\u001b[0m         \u001b[38;5;124m\"\u001b[39m\u001b[38;5;124mas it is likely to crash IPython. If you know what you are doing, \u001b[39m\u001b[38;5;124m\"\u001b[39m\n\u001b[0;32m    321\u001b[0m         \u001b[38;5;124m\"\u001b[39m\u001b[38;5;124myou can use builtins\u001b[39m\u001b[38;5;124m'\u001b[39m\u001b[38;5;124m open.\u001b[39m\u001b[38;5;124m\"\u001b[39m\n\u001b[0;32m    322\u001b[0m     )\n\u001b[1;32m--> 324\u001b[0m \u001b[38;5;28;01mreturn\u001b[39;00m io_open(file, \u001b[38;5;241m*\u001b[39margs, \u001b[38;5;241m*\u001b[39m\u001b[38;5;241m*\u001b[39mkwargs)\n",
      "\u001b[1;31mFileNotFoundError\u001b[0m: [Errno 2] No such file or directory: 'file.txt'"
     ]
    }
   ],
   "source": [
    "with open(\"file.txt\", \"r\") as f:\n",
    "    updated_content = f.read().replace(\"Python\", \"Java\")\n",
    "with open(\"file.txt\", \"w\") as f:\n",
    "    f.write(updated_content)"
   ]
  },
  {
   "cell_type": "code",
   "execution_count": null,
   "id": "e9f61c21-9e8b-424e-8459-2b23fd443579",
   "metadata": {},
   "outputs": [],
   "source": []
  }
 ],
 "metadata": {
  "kernelspec": {
   "display_name": "Python 3 (ipykernel)",
   "language": "python",
   "name": "python3"
  },
  "language_info": {
   "codemirror_mode": {
    "name": "ipython",
    "version": 3
   },
   "file_extension": ".py",
   "mimetype": "text/x-python",
   "name": "python",
   "nbconvert_exporter": "python",
   "pygments_lexer": "ipython3",
   "version": "3.12.7"
  }
 },
 "nbformat": 4,
 "nbformat_minor": 5
}
